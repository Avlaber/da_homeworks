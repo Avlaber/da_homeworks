{
 "cells": [
  {
   "cell_type": "markdown",
   "metadata": {
    "id": "pDrecLU-4QjS"
   },
   "source": [
    "# Практика"
   ]
  },
  {
   "cell_type": "code",
   "execution_count": 272,
   "metadata": {},
   "outputs": [],
   "source": [
    "import pandas as pd\n",
    "import numpy as np\n",
    "import matplotlib.pyplot as plt\n",
    "import random\n",
    "import scipy.stats as sts\n",
    "%matplotlib inline\n",
    "\n",
    "import warnings\n",
    "warnings.filterwarnings('ignore')"
   ]
  },
  {
   "cell_type": "markdown",
   "metadata": {
    "id": "gUvTNDlMaV-a"
   },
   "source": [
    "## Определение вероятности. События\n",
    "\n",
    "Требуется сгенерировать необходимые выборки и произвести по ним расчеты"
   ]
  },
  {
   "cell_type": "markdown",
   "metadata": {
    "id": "5V70InEBTgup"
   },
   "source": [
    "### Задача 1\n",
    "Брошено две монеты. Найти вероятность того, что монеты выпали разными сторонами"
   ]
  },
  {
   "cell_type": "code",
   "execution_count": 273,
   "metadata": {
    "id": "88Iw-SL3jYQV"
   },
   "outputs": [
    {
     "data": {
      "text/html": [
       "<div>\n",
       "<style scoped>\n",
       "    .dataframe tbody tr th:only-of-type {\n",
       "        vertical-align: middle;\n",
       "    }\n",
       "\n",
       "    .dataframe tbody tr th {\n",
       "        vertical-align: top;\n",
       "    }\n",
       "\n",
       "    .dataframe thead th {\n",
       "        text-align: right;\n",
       "    }\n",
       "</style>\n",
       "<table border=\"1\" class=\"dataframe\">\n",
       "  <thead>\n",
       "    <tr style=\"text-align: right;\">\n",
       "      <th></th>\n",
       "      <th>M1</th>\n",
       "      <th>M2</th>\n",
       "    </tr>\n",
       "  </thead>\n",
       "  <tbody>\n",
       "    <tr>\n",
       "      <th>0</th>\n",
       "      <td>head</td>\n",
       "      <td>head</td>\n",
       "    </tr>\n",
       "    <tr>\n",
       "      <th>1</th>\n",
       "      <td>tail</td>\n",
       "      <td>head</td>\n",
       "    </tr>\n",
       "    <tr>\n",
       "      <th>2</th>\n",
       "      <td>tail</td>\n",
       "      <td>tail</td>\n",
       "    </tr>\n",
       "    <tr>\n",
       "      <th>3</th>\n",
       "      <td>head</td>\n",
       "      <td>head</td>\n",
       "    </tr>\n",
       "    <tr>\n",
       "      <th>4</th>\n",
       "      <td>head</td>\n",
       "      <td>head</td>\n",
       "    </tr>\n",
       "  </tbody>\n",
       "</table>\n",
       "</div>"
      ],
      "text/plain": [
       "     M1    M2\n",
       "0  head  head\n",
       "1  tail  head\n",
       "2  tail  tail\n",
       "3  head  head\n",
       "4  head  head"
      ]
     },
     "execution_count": 273,
     "metadata": {},
     "output_type": "execute_result"
    }
   ],
   "source": [
    "# обозначим две монеты и их стороны\n",
    "M1 = ['head', 'tail'] \n",
    "M2 = ['head', 'tail'] \n",
    "\n",
    "# задаем число экспериментов\n",
    "n = 100000\n",
    "\n",
    "# формируем выборку\n",
    "M = pd.DataFrame({\"M1\":list(map(lambda a: random.choice(M1), range(n))),\n",
    "                  \"M2\":list(map(lambda a: random.choice(M2), range(n)))\n",
    "                 })\n",
    "\n",
    "# пример таблицы\n",
    "M.head()"
   ]
  },
  {
   "cell_type": "code",
   "execution_count": 274,
   "metadata": {},
   "outputs": [
    {
     "name": "stdout",
     "output_type": "stream",
     "text": [
      "Вероятность, что монеты выпали разными сторонами: 0.50116\n"
     ]
    }
   ],
   "source": [
    "# считаем статистику выпадений разных сторон у двух подброшенных монет\n",
    "P_diff = len(M[M.M1 != M.M2])/M.shape[0]\n",
    "\n",
    "print(f'Вероятность, что монеты выпали разными сторонами: {P_diff}')"
   ]
  },
  {
   "cell_type": "markdown",
   "metadata": {},
   "source": [
    "Получили 50/50 - ожидаемо :)"
   ]
  },
  {
   "cell_type": "markdown",
   "metadata": {
    "id": "t0XOMos2Tl0e"
   },
   "source": [
    "### Задача 2\n",
    "Брошено три монеты. Описать множество всех элементарных событий. Найти вероятности следующих событий:\n",
    "\n",
    "\n",
    "1.   A = {не выпало ни одного герба}\n",
    "2.   B = {выпало четное число гербов}\n",
    "3.   C = {на третьей монете выпал герб}\n"
   ]
  },
  {
   "cell_type": "code",
   "execution_count": 275,
   "metadata": {
    "id": "88Iw-SL3jYQV"
   },
   "outputs": [
    {
     "data": {
      "text/html": [
       "<div>\n",
       "<style scoped>\n",
       "    .dataframe tbody tr th:only-of-type {\n",
       "        vertical-align: middle;\n",
       "    }\n",
       "\n",
       "    .dataframe tbody tr th {\n",
       "        vertical-align: top;\n",
       "    }\n",
       "\n",
       "    .dataframe thead th {\n",
       "        text-align: right;\n",
       "    }\n",
       "</style>\n",
       "<table border=\"1\" class=\"dataframe\">\n",
       "  <thead>\n",
       "    <tr style=\"text-align: right;\">\n",
       "      <th></th>\n",
       "      <th>M1</th>\n",
       "      <th>M2</th>\n",
       "      <th>M3</th>\n",
       "    </tr>\n",
       "  </thead>\n",
       "  <tbody>\n",
       "    <tr>\n",
       "      <th>0</th>\n",
       "      <td>head</td>\n",
       "      <td>head</td>\n",
       "      <td>head</td>\n",
       "    </tr>\n",
       "    <tr>\n",
       "      <th>1</th>\n",
       "      <td>tail</td>\n",
       "      <td>head</td>\n",
       "      <td>head</td>\n",
       "    </tr>\n",
       "    <tr>\n",
       "      <th>2</th>\n",
       "      <td>head</td>\n",
       "      <td>tail</td>\n",
       "      <td>head</td>\n",
       "    </tr>\n",
       "    <tr>\n",
       "      <th>3</th>\n",
       "      <td>head</td>\n",
       "      <td>head</td>\n",
       "      <td>head</td>\n",
       "    </tr>\n",
       "    <tr>\n",
       "      <th>4</th>\n",
       "      <td>head</td>\n",
       "      <td>tail</td>\n",
       "      <td>head</td>\n",
       "    </tr>\n",
       "  </tbody>\n",
       "</table>\n",
       "</div>"
      ],
      "text/plain": [
       "     M1    M2    M3\n",
       "0  head  head  head\n",
       "1  tail  head  head\n",
       "2  head  tail  head\n",
       "3  head  head  head\n",
       "4  head  tail  head"
      ]
     },
     "execution_count": 275,
     "metadata": {},
     "output_type": "execute_result"
    }
   ],
   "source": [
    "# обозначим три монеты и их стороны\n",
    "M1 = ['head', 'tail'] \n",
    "M2 = ['head', 'tail'] \n",
    "M3 = ['head', 'tail'] \n",
    "\n",
    "# задаем число экспериментов\n",
    "n = 10000\n",
    "\n",
    "# формируем выборку\n",
    "M = pd.DataFrame({\"M1\":list(map(lambda a: random.choice(M1), range(n))),\n",
    "                  \"M2\":list(map(lambda a: random.choice(M2), range(n))),\n",
    "                  \"M3\":list(map(lambda a: random.choice(M3), range(n)))                  \n",
    "                 })\n",
    "\n",
    "# пример таблицы\n",
    "M.head()"
   ]
  },
  {
   "cell_type": "markdown",
   "metadata": {},
   "source": [
    "Cчитаем статистику выпадений "
   ]
  },
  {
   "cell_type": "code",
   "execution_count": 276,
   "metadata": {},
   "outputs": [
    {
     "name": "stdout",
     "output_type": "stream",
     "text": [
      "Вероятность события \"A = {не выпало ни одного герба}:\" 0.122\n"
     ]
    }
   ],
   "source": [
    "# A = {не выпало ни одного герба}\n",
    "\n",
    "# все результаты, где не выпал герб ни на одной из монет, делим на общее число подбрасываний\n",
    "P_tail = len(M.query('M1 != \"head\" & M2 != \"head\" & M3 != \"head\"'))/M.shape[0]\n",
    "\n",
    "print('Вероятность события \"A = {не выпало ни одного герба}:\"', P_tail)"
   ]
  },
  {
   "cell_type": "code",
   "execution_count": 277,
   "metadata": {},
   "outputs": [
    {
     "name": "stdout",
     "output_type": "stream",
     "text": [
      "Пример первых 5-ти строк:\n",
      "\n",
      "     M1    M2    M3  A\n",
      "0  head  head  head  3\n",
      "1  tail  head  head  2\n",
      "2  head  tail  head  2\n",
      "3  head  head  head  3\n",
      "4  head  tail  head  2\n",
      "\n",
      "Вероятность события \"B = {выпало четное число гербов}:\" 0.3807\n"
     ]
    }
   ],
   "source": [
    "# B = {выпало четное число гербов}\n",
    "\n",
    "# задаём счётчик и столбец, куда будем складывать результаты счётчика\n",
    "A = 0\n",
    "M['A'] = A\n",
    "\n",
    "# проходим по строкам (один цикл подбрасывания трёх монет) и накручиваем счётчик при каждом выпавшем гербе\n",
    "for i in range(n):\n",
    "    if M.M1[i] == 'head':\n",
    "        M['A'][i] += 1\n",
    "    if M.M2[i] == 'head':\n",
    "        M['A'][i] += 1    \n",
    "    if M.M3[i] == 'head':\n",
    "        M['A'][i] += 1     \n",
    "\n",
    "print('Пример первых 5-ти строк:')\n",
    "print(\"\")\n",
    "print(M.head())\n",
    "print(\"\")\n",
    "    \n",
    "# все результаты с чётным количеством гербов в столбце A делим на общее число подбрасываний\n",
    "P_even_head = len(M[M['A'] == 2])/M.shape[0]\n",
    "P_even_head\n",
    "\n",
    "print('Вероятность события \"B = {выпало четное число гербов}:\"', P_even_head)"
   ]
  },
  {
   "cell_type": "code",
   "execution_count": 278,
   "metadata": {},
   "outputs": [
    {
     "name": "stdout",
     "output_type": "stream",
     "text": [
      "Вероятность события \"C = {на третьей монете выпал герб}:\" 0.4998\n"
     ]
    }
   ],
   "source": [
    "# C = {на третьей монете выпал герб}\n",
    "\n",
    "# все результаты, где герб выпал на третьей монете, делим на общее число подбрасываний\n",
    "P_M3_head = len(M.query('M3 == \"head\"'))/M.shape[0]\n",
    "\n",
    "print('Вероятность события \"C = {на третьей монете выпал герб}:\"', P_M3_head)"
   ]
  },
  {
   "cell_type": "markdown",
   "metadata": {},
   "source": [
    "\n",
    "### Задача 3\n",
    "Из двух претендентов E и L на ответственную должность три члена комиссии должны отобрать одного. Каждый член комиссии должен указать либо одного достойного, либо забраковать обоих. Претендент считается выбранным, если он был признана достойным хотя бы двумя членами комиссии.\n",
    "Найти вероятность событий:\n",
    "\n",
    "A = {рекомендован L}, B = {рекомендован E}\n"
   ]
  },
  {
   "cell_type": "code",
   "execution_count": 279,
   "metadata": {
    "id": "88Iw-SL3jYQV"
   },
   "outputs": [
    {
     "data": {
      "text/html": [
       "<div>\n",
       "<style scoped>\n",
       "    .dataframe tbody tr th:only-of-type {\n",
       "        vertical-align: middle;\n",
       "    }\n",
       "\n",
       "    .dataframe tbody tr th {\n",
       "        vertical-align: top;\n",
       "    }\n",
       "\n",
       "    .dataframe thead th {\n",
       "        text-align: right;\n",
       "    }\n",
       "</style>\n",
       "<table border=\"1\" class=\"dataframe\">\n",
       "  <thead>\n",
       "    <tr style=\"text-align: right;\">\n",
       "      <th></th>\n",
       "      <th>K1</th>\n",
       "      <th>K2</th>\n",
       "      <th>K3</th>\n",
       "    </tr>\n",
       "  </thead>\n",
       "  <tbody>\n",
       "    <tr>\n",
       "      <th>0</th>\n",
       "      <td>рекомендован E</td>\n",
       "      <td>рекомендован E</td>\n",
       "      <td>рекомендован E</td>\n",
       "    </tr>\n",
       "    <tr>\n",
       "      <th>1</th>\n",
       "      <td>рекомендован E</td>\n",
       "      <td>не рекомендован никто</td>\n",
       "      <td>рекомендован L</td>\n",
       "    </tr>\n",
       "    <tr>\n",
       "      <th>2</th>\n",
       "      <td>рекомендован L</td>\n",
       "      <td>рекомендован E</td>\n",
       "      <td>рекомендован E</td>\n",
       "    </tr>\n",
       "    <tr>\n",
       "      <th>3</th>\n",
       "      <td>рекомендован E</td>\n",
       "      <td>рекомендован E</td>\n",
       "      <td>рекомендован L</td>\n",
       "    </tr>\n",
       "    <tr>\n",
       "      <th>4</th>\n",
       "      <td>рекомендован E</td>\n",
       "      <td>рекомендован L</td>\n",
       "      <td>рекомендован L</td>\n",
       "    </tr>\n",
       "  </tbody>\n",
       "</table>\n",
       "</div>"
      ],
      "text/plain": [
       "               K1                     K2              K3\n",
       "0  рекомендован E         рекомендован E  рекомендован E\n",
       "1  рекомендован E  не рекомендован никто  рекомендован L\n",
       "2  рекомендован L         рекомендован E  рекомендован E\n",
       "3  рекомендован E         рекомендован E  рекомендован L\n",
       "4  рекомендован E         рекомендован L  рекомендован L"
      ]
     },
     "execution_count": 279,
     "metadata": {},
     "output_type": "execute_result"
    }
   ],
   "source": [
    "# обозначим три члена комиссии и варианты решений\n",
    "K1 = ['рекомендован L', 'рекомендован E', 'не рекомендован никто']\n",
    "K2 = ['рекомендован L', 'рекомендован E', 'не рекомендован никто']\n",
    "K3 = ['рекомендован L', 'рекомендован E', 'не рекомендован никто']\n",
    "\n",
    "# задаем число экспериментов\n",
    "n = 10000\n",
    "\n",
    "# формируем выборку\n",
    "K = pd.DataFrame({\"K1\":list(map(lambda a: random.choice(K1), range(n))),\n",
    "                  \"K2\":list(map(lambda a: random.choice(K2), range(n))),\n",
    "                  \"K3\":list(map(lambda a: random.choice(K3), range(n)))                  \n",
    "                 })\n",
    "\n",
    "# пример таблицы\n",
    "K.head()"
   ]
  },
  {
   "cell_type": "code",
   "execution_count": 280,
   "metadata": {},
   "outputs": [
    {
     "name": "stdout",
     "output_type": "stream",
     "text": [
      "Пример первых 5-ти строк:\n",
      "\n",
      "               K1                     K2              K3  L  E\n",
      "0  рекомендован E         рекомендован E  рекомендован E  0  3\n",
      "1  рекомендован E  не рекомендован никто  рекомендован L  1  1\n",
      "2  рекомендован L         рекомендован E  рекомендован E  1  2\n",
      "3  рекомендован E         рекомендован E  рекомендован L  1  2\n",
      "4  рекомендован E         рекомендован L  рекомендован L  2  1\n"
     ]
    }
   ],
   "source": [
    "# задаём счётчик и столбцы, куда будем складывать результаты счётчика\n",
    "K['L'] = 0\n",
    "K['E'] = 0\n",
    "\n",
    "S = ['L', 'E']\n",
    "\n",
    "# проходим по строкам (один цикл подбрасывания трёх монет) и накручиваем счётчик для каждого кандидата\n",
    "for i in range(n):\n",
    "    for p in S:\n",
    "        if K.K1[i] == f'рекомендован {p}':\n",
    "            K[p][i] += 1\n",
    "        if K.K2[i] == f'рекомендован {p}':\n",
    "            K[p][i] += 1\n",
    "        if K.K3[i] == f'рекомендован {p}':\n",
    "            K[p][i] += 1\n",
    "\n",
    "print('Пример первых 5-ти строк:')\n",
    "print(\"\")\n",
    "print(K.head())"
   ]
  },
  {
   "cell_type": "code",
   "execution_count": 281,
   "metadata": {},
   "outputs": [
    {
     "name": "stdout",
     "output_type": "stream",
     "text": [
      "Вероятность события \"A = {рекомендован L}:\" 0.2548\n"
     ]
    }
   ],
   "source": [
    "# A = {рекомендован L}\n",
    "\n",
    "# все результаты, где кандидата L одобрили хотя бы два члена комиссии\n",
    "P_L = len(K.query('L >= 2'))/K.shape[0]\n",
    "\n",
    "print('Вероятность события \"A = {рекомендован L}:\"', P_L)"
   ]
  },
  {
   "cell_type": "code",
   "execution_count": 282,
   "metadata": {},
   "outputs": [
    {
     "name": "stdout",
     "output_type": "stream",
     "text": [
      "Вероятность события \"B = {рекомендован E}:\" 0.2631\n"
     ]
    }
   ],
   "source": [
    "# B = {рекомендован E}\n",
    "\n",
    "# все результаты, где кандидата E одобрили хотя бы два члена комиссии\n",
    "P_E = len(K.query('E >= 2'))/K.shape[0]\n",
    "\n",
    "print('Вероятность события \"B = {рекомендован E}:\"', P_E)"
   ]
  },
  {
   "cell_type": "markdown",
   "metadata": {},
   "source": [
    "У кандидатов одинаковая вероятность быть выбранными, оцениваемая в 1/4."
   ]
  },
  {
   "cell_type": "markdown",
   "metadata": {
    "id": "peM38mVfYa5B"
   },
   "source": [
    "### Задача 4\n",
    "Брошено две игральных кости. Описать множество элементарных событий. Найти вероятности событий:\n",
    "\n",
    "A = {вышло две \"шестерки\"}\n",
    "\n",
    "B = {сумма выпавших очков не меньше 11}\n",
    "\n",
    "C = {не выпала ни одна \"шестерка\"}"
   ]
  },
  {
   "cell_type": "code",
   "execution_count": 283,
   "metadata": {},
   "outputs": [
    {
     "data": {
      "text/html": [
       "<div>\n",
       "<style scoped>\n",
       "    .dataframe tbody tr th:only-of-type {\n",
       "        vertical-align: middle;\n",
       "    }\n",
       "\n",
       "    .dataframe tbody tr th {\n",
       "        vertical-align: top;\n",
       "    }\n",
       "\n",
       "    .dataframe thead th {\n",
       "        text-align: right;\n",
       "    }\n",
       "</style>\n",
       "<table border=\"1\" class=\"dataframe\">\n",
       "  <thead>\n",
       "    <tr style=\"text-align: right;\">\n",
       "      <th></th>\n",
       "      <th>IK1</th>\n",
       "      <th>IK2</th>\n",
       "    </tr>\n",
       "  </thead>\n",
       "  <tbody>\n",
       "    <tr>\n",
       "      <th>0</th>\n",
       "      <td>3</td>\n",
       "      <td>2</td>\n",
       "    </tr>\n",
       "    <tr>\n",
       "      <th>1</th>\n",
       "      <td>4</td>\n",
       "      <td>5</td>\n",
       "    </tr>\n",
       "    <tr>\n",
       "      <th>2</th>\n",
       "      <td>6</td>\n",
       "      <td>2</td>\n",
       "    </tr>\n",
       "    <tr>\n",
       "      <th>3</th>\n",
       "      <td>6</td>\n",
       "      <td>6</td>\n",
       "    </tr>\n",
       "    <tr>\n",
       "      <th>4</th>\n",
       "      <td>4</td>\n",
       "      <td>4</td>\n",
       "    </tr>\n",
       "  </tbody>\n",
       "</table>\n",
       "</div>"
      ],
      "text/plain": [
       "   IK1  IK2\n",
       "0    3    2\n",
       "1    4    5\n",
       "2    6    2\n",
       "3    6    6\n",
       "4    4    4"
      ]
     },
     "execution_count": 283,
     "metadata": {},
     "output_type": "execute_result"
    }
   ],
   "source": [
    "# обозначим две игральных кости и варианты событий\n",
    "\n",
    "IK1 = [1, 2, 3, 4, 5, 6]\n",
    "IK2 = [1, 2, 3, 4, 5, 6]\n",
    "\n",
    "# задаем число экспериментов\n",
    "n = 10000\n",
    "\n",
    "# формируем выборку\n",
    "IK = pd.DataFrame({\"IK1\":list(map(lambda a: random.choice(IK1), range(n))),\n",
    "                  \"IK2\":list(map(lambda a: random.choice(IK2), range(n)))                 \n",
    "                 })\n",
    "\n",
    "# пример таблицы\n",
    "IK.head()"
   ]
  },
  {
   "cell_type": "code",
   "execution_count": 284,
   "metadata": {},
   "outputs": [
    {
     "name": "stdout",
     "output_type": "stream",
     "text": [
      "Вероятность события \"A = {вышло две \"шестерки\"}:\" 0.0252\n"
     ]
    }
   ],
   "source": [
    "# A = {вышло две \"шестерки\"}\n",
    "\n",
    "# считаем статистику выпадений двух шестёрок у двух подброшенных кубиков\n",
    "P_two_6 = len(IK.query('IK1 == 6 & IK2 == 6'))/IK.shape[0]\n",
    "\n",
    "print('Вероятность события \"A = {вышло две \"шестерки\"}:\"', P_two_6)"
   ]
  },
  {
   "cell_type": "code",
   "execution_count": 285,
   "metadata": {},
   "outputs": [
    {
     "name": "stdout",
     "output_type": "stream",
     "text": [
      "Вероятность события \"B = {сумма выпавших очков не меньше 11}:\" 0.0789\n"
     ]
    }
   ],
   "source": [
    "# B = {сумма выпавших очков не меньше 11}\n",
    "\n",
    "# создадим столбец с суммой очков\n",
    "IK['SUM'] = IK.IK1 + IK.IK2\n",
    "\n",
    "# считаем статистику выпадений суммы очков не меньше 11\n",
    "P_more_10 = len(IK.query('SUM >= 11'))/IK.shape[0]\n",
    "\n",
    "print('Вероятность события \"B = {сумма выпавших очков не меньше 11}:\"', P_more_10)"
   ]
  },
  {
   "cell_type": "code",
   "execution_count": 286,
   "metadata": {},
   "outputs": [
    {
     "name": "stdout",
     "output_type": "stream",
     "text": [
      "Вероятность события \"C = {не выпала ни одна \"шестерка\"}\" 0.7048\n"
     ]
    }
   ],
   "source": [
    "# C = {не выпала ни одна \"шестерка\"}\n",
    "\n",
    "# считаем статистику, когда не выпала ни одна шестёрка у двух подброшенных кубиков\n",
    "P_not_6 = len(IK.query('IK1 != 6 & IK2 != 6'))/IK.shape[0]\n",
    "\n",
    "print('Вероятность события \"C = {не выпала ни одна \"шестерка\"}\"', P_not_6)"
   ]
  },
  {
   "cell_type": "markdown",
   "metadata": {
    "id": "f-Bi0p8haclB"
   },
   "source": [
    "## Вероятность суммы событий"
   ]
  },
  {
   "cell_type": "markdown",
   "metadata": {
    "id": "g7A7QlvGTnwZ"
   },
   "source": [
    "### Задача 5\n",
    "Брошены две игральные кости. Найти вероятность события D = {выпала хотя бы одна шестёрка}\n"
   ]
  },
  {
   "cell_type": "code",
   "execution_count": 287,
   "metadata": {
    "id": "vjtTJN-kUp9D"
   },
   "outputs": [
    {
     "name": "stdout",
     "output_type": "stream",
     "text": [
      "Вероятность события \"D = {выпала хотя бы одна шестёрка}\" 0.2952\n"
     ]
    }
   ],
   "source": [
    "# D = {выпала хотя бы одна шестёрка}\n",
    "\n",
    "# считаем статистику, когда не выпала ни одна шестёрка у двух подброшенных кубиков\n",
    "P_6 = len(IK.query('IK1 == 6 | IK2 == 6'))/IK.shape[0]\n",
    "\n",
    "print('Вероятность события \"D = {выпала хотя бы одна шестёрка}\"', P_6)"
   ]
  },
  {
   "cell_type": "markdown",
   "metadata": {
    "id": "R1bYSzQQbC6I"
   },
   "source": [
    "### Задача 6\n",
    "В телефонном номере три последние цифры стерлись. Считая, что все возможные значения стершихся цифр равновероятны, найти вероятность событий:\n",
    "\n",
    "A = {Стерлись различные цифры},\n",
    "\n",
    "B = {Стерлись одинаковые цифры},\n",
    "\n",
    "C = {Среди стершихся цифр хотя бы две совпадают},\n",
    "\n",
    "D = {Среди стершихся цифр хотя бы две различны}\n"
   ]
  },
  {
   "cell_type": "code",
   "execution_count": 288,
   "metadata": {},
   "outputs": [
    {
     "data": {
      "text/html": [
       "<div>\n",
       "<style scoped>\n",
       "    .dataframe tbody tr th:only-of-type {\n",
       "        vertical-align: middle;\n",
       "    }\n",
       "\n",
       "    .dataframe tbody tr th {\n",
       "        vertical-align: top;\n",
       "    }\n",
       "\n",
       "    .dataframe thead th {\n",
       "        text-align: right;\n",
       "    }\n",
       "</style>\n",
       "<table border=\"1\" class=\"dataframe\">\n",
       "  <thead>\n",
       "    <tr style=\"text-align: right;\">\n",
       "      <th></th>\n",
       "      <th>N1</th>\n",
       "      <th>N2</th>\n",
       "      <th>N3</th>\n",
       "    </tr>\n",
       "  </thead>\n",
       "  <tbody>\n",
       "    <tr>\n",
       "      <th>0</th>\n",
       "      <td>3</td>\n",
       "      <td>4</td>\n",
       "      <td>10</td>\n",
       "    </tr>\n",
       "    <tr>\n",
       "      <th>1</th>\n",
       "      <td>9</td>\n",
       "      <td>3</td>\n",
       "      <td>6</td>\n",
       "    </tr>\n",
       "    <tr>\n",
       "      <th>2</th>\n",
       "      <td>9</td>\n",
       "      <td>9</td>\n",
       "      <td>1</td>\n",
       "    </tr>\n",
       "    <tr>\n",
       "      <th>3</th>\n",
       "      <td>9</td>\n",
       "      <td>7</td>\n",
       "      <td>1</td>\n",
       "    </tr>\n",
       "    <tr>\n",
       "      <th>4</th>\n",
       "      <td>0</td>\n",
       "      <td>9</td>\n",
       "      <td>1</td>\n",
       "    </tr>\n",
       "  </tbody>\n",
       "</table>\n",
       "</div>"
      ],
      "text/plain": [
       "   N1  N2  N3\n",
       "0   3   4  10\n",
       "1   9   3   6\n",
       "2   9   9   1\n",
       "3   9   7   1\n",
       "4   0   9   1"
      ]
     },
     "execution_count": 288,
     "metadata": {},
     "output_type": "execute_result"
    }
   ],
   "source": [
    "# задаем число экспериментов\n",
    "n = 10000\n",
    "\n",
    "# формируем выборку из вариантов событий для трёх цифр\n",
    "N = pd.DataFrame({\"N1\":list(map(lambda a: np.random.randint(0, 11), range(n))),\n",
    "                  \"N2\":list(map(lambda a: np.random.randint(0, 11), range(n))),         \n",
    "                  \"N3\":list(map(lambda a: np.random.randint(0, 11), range(n))),                   \n",
    "                  })\n",
    "\n",
    "# пример таблицы\n",
    "N.head()"
   ]
  },
  {
   "cell_type": "code",
   "execution_count": 289,
   "metadata": {},
   "outputs": [
    {
     "name": "stdout",
     "output_type": "stream",
     "text": [
      "Вероятность события \"A = {Стерлись различные цифры}:\" 0.8232\n"
     ]
    }
   ],
   "source": [
    "# A = {Стерлись различные цифры}\n",
    "\n",
    "# считаем статистику для варианта, когда стёрлось три разные цифры\n",
    "P_diff_numb = len(N.query('N1 != N2 & N2 != N3'))/N.shape[0]\n",
    "\n",
    "print('Вероятность события \"A = {Стерлись различные цифры}:\"', P_diff_numb)"
   ]
  },
  {
   "cell_type": "code",
   "execution_count": 290,
   "metadata": {},
   "outputs": [
    {
     "name": "stdout",
     "output_type": "stream",
     "text": [
      "Вероятность события \"B = {Стерлись одинаковые цифры}:\" 0.0084\n"
     ]
    }
   ],
   "source": [
    "# B = {Стерлись одинаковые цифры}\n",
    "\n",
    "# считаем статистику для варианта, когда стёрлось три одинаковые цифры\n",
    "P_same_numb = len(N.query('N1 == N2 & N2 == N3'))/N.shape[0]\n",
    "\n",
    "print('Вероятность события \"B = {Стерлись одинаковые цифры}:\"', P_same_numb)"
   ]
  },
  {
   "cell_type": "code",
   "execution_count": 291,
   "metadata": {},
   "outputs": [
    {
     "name": "stdout",
     "output_type": "stream",
     "text": [
      "Вероятность события \"C = {Среди стершихся цифр хотя бы две совпадают}:\" 0.2616\n"
     ]
    }
   ],
   "source": [
    "# C = {Среди стершихся цифр хотя бы две совпадают}\n",
    "\n",
    "# считаем статистику для варианта, когда хотя бы две стёршиеся цифры совпадают\n",
    "P_two_same_numb = len(N.query('N1 == N2 | N2 == N3 | N1 == N3'))/N.shape[0]\n",
    "\n",
    "print('Вероятность события \"C = {Среди стершихся цифр хотя бы две совпадают}:\"', P_two_same_numb)"
   ]
  },
  {
   "cell_type": "code",
   "execution_count": 292,
   "metadata": {},
   "outputs": [
    {
     "name": "stdout",
     "output_type": "stream",
     "text": [
      "Вероятность события \"D = {Среди стершихся цифр хотя бы две различны}:\" 0.9916\n"
     ]
    }
   ],
   "source": [
    "# D = {Среди стершихся цифр хотя бы две различны}\n",
    "\n",
    "# считаем статистику для варианта, когда хотя бы две стёршиеся цифры различны\n",
    "P_two_same_numb = len(N.query('N1 != N2 | N2 != N3 | N1 != N3'))/N.shape[0]\n",
    "\n",
    "print('Вероятность события \"D = {Среди стершихся цифр хотя бы две различны}:\"', P_two_same_numb)"
   ]
  },
  {
   "cell_type": "markdown",
   "metadata": {
    "id": "RnugkR8BalK_"
   },
   "source": [
    "## Случайные величины"
   ]
  },
  {
   "cell_type": "markdown",
   "metadata": {
    "id": "yLoZDZ17UVsp"
   },
   "source": [
    "### Задача 7\n",
    "В лотерее имеется 10 билетов, из которых один выигрышный. Размер выигрыша 10 ден. ед.; стоимость билета 1 ден ед. Найти закон распределения случайной величины X, равной чистому выигрышу участника лотереи, который вытаскивает билет первым."
   ]
  },
  {
   "cell_type": "code",
   "execution_count": 294,
   "metadata": {},
   "outputs": [],
   "source": [
    "# вероятность успеха 0.1\n",
    "\n",
    "bernoulli_rv = sts.bernoulli(0.1)"
   ]
  },
  {
   "cell_type": "code",
   "execution_count": 301,
   "metadata": {},
   "outputs": [
    {
     "data": {
      "image/png": "[encoded data removed]",
      "text/plain": [
       "<Figure size 432x288 with 1 Axes>"
      ]
     },
     "metadata": {
      "needs_background": "light"
     },
     "output_type": "display_data"
    }
   ],
   "source": [
    "# построим функцию распределения\n",
    "\n",
    "x = np.linspace(-1, 9, 2)\n",
    "cdf = bernoulli_rv.cdf(x) # вернёт массив из значений функции распределения\n",
    "plt.plot(x, cdf, color=\"darkblue\")\n",
    "plt.ylabel(\"$f(x)$\")\n",
    "plt.xlabel(\"$x$\")\n",
    "plt.show();"
   ]
  },
  {
   "cell_type": "code",
   "execution_count": 302,
   "metadata": {},
   "outputs": [
    {
     "data": {
      "image/png": "[encoded data removed]",
      "text/plain": [
       "<Figure size 432x288 with 1 Axes>"
      ]
     },
     "metadata": {
      "needs_background": "light"
     },
     "output_type": "display_data"
    }
   ],
   "source": [
    "# Функция вероятности pmf для дискретных случайных величин\n",
    "\n",
    "x = np.linspace(-1,9,2)\n",
    "pmf = bernoulli_rv.pmf(x) # вернёт массив из значений функции распределения\n",
    "plt.scatter(x, pmf, color=\"blue\" )\n",
    "plt.plot((-1,-1), (0,bernoulli_rv.pmf(0)), color=\"blue\")\n",
    "plt.plot((9,9), (0,bernoulli_rv.pmf(1)), color=\"blue\")\n",
    "plt.ylabel(\"$f(x)$\")\n",
    "plt.xlabel(\"$x$\")\n",
    "plt.show();"
   ]
  },
  {
   "cell_type": "markdown",
   "metadata": {},
   "source": [
    "С вероятностью ~0.9 первый вытащивший билет получит чистую прибыль -1 ден.ед."
   ]
  },
  {
   "cell_type": "markdown",
   "metadata": {
    "id": "U-NK9liSbpvb"
   },
   "source": [
    "### Задача 8\n",
    "Брошены две игральные кости. Найти закон распределения случайной величины $X$, равной сумме выпавших очков. Найти вероятности событий ${X <= 4}$, ${X > 4}$"
   ]
  },
  {
   "cell_type": "code",
   "execution_count": 215,
   "metadata": {},
   "outputs": [
    {
     "data": {
      "text/html": [
       "<div>\n",
       "<style scoped>\n",
       "    .dataframe tbody tr th:only-of-type {\n",
       "        vertical-align: middle;\n",
       "    }\n",
       "\n",
       "    .dataframe tbody tr th {\n",
       "        vertical-align: top;\n",
       "    }\n",
       "\n",
       "    .dataframe thead th {\n",
       "        text-align: right;\n",
       "    }\n",
       "</style>\n",
       "<table border=\"1\" class=\"dataframe\">\n",
       "  <thead>\n",
       "    <tr style=\"text-align: right;\">\n",
       "      <th></th>\n",
       "      <th>IK1</th>\n",
       "      <th>IK2</th>\n",
       "      <th>SUM</th>\n",
       "    </tr>\n",
       "  </thead>\n",
       "  <tbody>\n",
       "    <tr>\n",
       "      <th>0</th>\n",
       "      <td>4</td>\n",
       "      <td>3</td>\n",
       "      <td>7</td>\n",
       "    </tr>\n",
       "    <tr>\n",
       "      <th>1</th>\n",
       "      <td>2</td>\n",
       "      <td>3</td>\n",
       "      <td>5</td>\n",
       "    </tr>\n",
       "    <tr>\n",
       "      <th>2</th>\n",
       "      <td>2</td>\n",
       "      <td>3</td>\n",
       "      <td>5</td>\n",
       "    </tr>\n",
       "    <tr>\n",
       "      <th>3</th>\n",
       "      <td>6</td>\n",
       "      <td>3</td>\n",
       "      <td>9</td>\n",
       "    </tr>\n",
       "    <tr>\n",
       "      <th>4</th>\n",
       "      <td>6</td>\n",
       "      <td>2</td>\n",
       "      <td>8</td>\n",
       "    </tr>\n",
       "  </tbody>\n",
       "</table>\n",
       "</div>"
      ],
      "text/plain": [
       "   IK1  IK2  SUM\n",
       "0    4    3    7\n",
       "1    2    3    5\n",
       "2    2    3    5\n",
       "3    6    3    9\n",
       "4    6    2    8"
      ]
     },
     "execution_count": 215,
     "metadata": {},
     "output_type": "execute_result"
    }
   ],
   "source": [
    "# мы уже бросали кости в Задаче 4 и там же считали сумму выпавших очков, используем нагенерированные ранее варианты \n",
    "\n",
    "IK.head()"
   ]
  },
  {
   "cell_type": "code",
   "execution_count": 214,
   "metadata": {},
   "outputs": [
    {
     "data": {
      "image/png": "[encoded data removed]",
      "text/plain": [
       "<Figure size 432x288 with 1 Axes>"
      ]
     },
     "metadata": {
      "needs_background": "light"
     },
     "output_type": "display_data"
    }
   ],
   "source": [
    "# построим гистограмму распределения суммы выпавших очков\n",
    "\n",
    "plt.hist(IK.SUM)\n",
    "plt.title('Распределения случайной величины, равной сумме выпавших очков')\n",
    "plt.xlabel('Сумма выпавших очков', labelpad = 15)\n",
    "plt.ylabel('Количество событий', labelpad = 15);"
   ]
  },
  {
   "cell_type": "code",
   "execution_count": 217,
   "metadata": {},
   "outputs": [
    {
     "name": "stdout",
     "output_type": "stream",
     "text": [
      "Вероятность события \"сумма выпавших очков <= 4:\" 0.1731\n"
     ]
    }
   ],
   "source": [
    "# считаем статистику выпадений суммы очков не больше 4 (Х <= 4)\n",
    "\n",
    "P_nomore_4 = len(IK.query('SUM <= 4'))/IK.shape[0]\n",
    "\n",
    "print('Вероятность события \"сумма выпавших очков <= 4:\"', P_nomore_4)"
   ]
  },
  {
   "cell_type": "code",
   "execution_count": 218,
   "metadata": {},
   "outputs": [
    {
     "name": "stdout",
     "output_type": "stream",
     "text": [
      "Вероятность события \"сумма выпавших очков > 4:\" 0.8269\n"
     ]
    }
   ],
   "source": [
    "# считаем статистику выпадений суммы очков не больше 4 (Х > 4)\n",
    "\n",
    "P_more_4 = len(IK.query('SUM > 4'))/IK.shape[0]\n",
    "\n",
    "print('Вероятность события \"сумма выпавших очков > 4:\"', P_more_4)"
   ]
  },
  {
   "cell_type": "markdown",
   "metadata": {},
   "source": [
    "**p.s.**:  не понимаю, можно ли построить распределение через scipy, если вероятности всех исходов разные?"
   ]
  },
  {
   "cell_type": "markdown",
   "metadata": {
    "id": "shgW4D83awjK"
   },
   "source": [
    "## Условные вероятности"
   ]
  },
  {
   "cell_type": "markdown",
   "metadata": {
    "id": "Fbu1RFZwWZrk"
   },
   "source": [
    "### Задача 9\n",
    "Из колоды (36 карт) вынимают последовательно без возвращения две карты. Найти вероятность того, что первой картой была шестерка, а второй — семерка. Найти условную вероятность того же события при условии, что обе карты бубновой масти.\n"
   ]
  },
  {
   "cell_type": "markdown",
   "metadata": {},
   "source": [
    "#### Вероятность того, что первой картой была шестерка, а второй — семерка"
   ]
  },
  {
   "cell_type": "code",
   "execution_count": 98,
   "metadata": {},
   "outputs": [
    {
     "data": {
      "text/html": [
       "<div>\n",
       "<style scoped>\n",
       "    .dataframe tbody tr th:only-of-type {\n",
       "        vertical-align: middle;\n",
       "    }\n",
       "\n",
       "    .dataframe tbody tr th {\n",
       "        vertical-align: top;\n",
       "    }\n",
       "\n",
       "    .dataframe thead th {\n",
       "        text-align: right;\n",
       "    }\n",
       "</style>\n",
       "<table border=\"1\" class=\"dataframe\">\n",
       "  <thead>\n",
       "    <tr style=\"text-align: right;\">\n",
       "      <th></th>\n",
       "      <th>first</th>\n",
       "    </tr>\n",
       "  </thead>\n",
       "  <tbody>\n",
       "    <tr>\n",
       "      <th>0</th>\n",
       "      <td>дама</td>\n",
       "    </tr>\n",
       "    <tr>\n",
       "      <th>1</th>\n",
       "      <td>6</td>\n",
       "    </tr>\n",
       "    <tr>\n",
       "      <th>2</th>\n",
       "      <td>10</td>\n",
       "    </tr>\n",
       "    <tr>\n",
       "      <th>3</th>\n",
       "      <td>10</td>\n",
       "    </tr>\n",
       "    <tr>\n",
       "      <th>4</th>\n",
       "      <td>6</td>\n",
       "    </tr>\n",
       "  </tbody>\n",
       "</table>\n",
       "</div>"
      ],
      "text/plain": [
       "  first\n",
       "0  дама\n",
       "1     6\n",
       "2    10\n",
       "3    10\n",
       "4     6"
      ]
     },
     "execution_count": 98,
     "metadata": {},
     "output_type": "execute_result"
    }
   ],
   "source": [
    "cart = ['6', '7', '8', '9', '10', 'валет', 'дама', 'король', 'туз']*4\n",
    "\n",
    "# задаем число экспериментов\n",
    "n = 10000\n",
    "\n",
    "# формируем выборку\n",
    "carts = pd.DataFrame({\"first\":list(map(lambda a: random.choice(cart), range(n)))})\n",
    "\n",
    "# пример таблицы\n",
    "carts.head(5)"
   ]
  },
  {
   "cell_type": "code",
   "execution_count": 167,
   "metadata": {},
   "outputs": [
    {
     "data": {
      "text/html": [
       "<div>\n",
       "<style scoped>\n",
       "    .dataframe tbody tr th:only-of-type {\n",
       "        vertical-align: middle;\n",
       "    }\n",
       "\n",
       "    .dataframe tbody tr th {\n",
       "        vertical-align: top;\n",
       "    }\n",
       "\n",
       "    .dataframe thead th {\n",
       "        text-align: right;\n",
       "    }\n",
       "</style>\n",
       "<table border=\"1\" class=\"dataframe\">\n",
       "  <thead>\n",
       "    <tr style=\"text-align: right;\">\n",
       "      <th></th>\n",
       "      <th>first</th>\n",
       "      <th>second</th>\n",
       "    </tr>\n",
       "  </thead>\n",
       "  <tbody>\n",
       "    <tr>\n",
       "      <th>0</th>\n",
       "      <td>дама</td>\n",
       "      <td>король</td>\n",
       "    </tr>\n",
       "    <tr>\n",
       "      <th>1</th>\n",
       "      <td>6</td>\n",
       "      <td>10</td>\n",
       "    </tr>\n",
       "    <tr>\n",
       "      <th>2</th>\n",
       "      <td>10</td>\n",
       "      <td>6</td>\n",
       "    </tr>\n",
       "    <tr>\n",
       "      <th>3</th>\n",
       "      <td>10</td>\n",
       "      <td>король</td>\n",
       "    </tr>\n",
       "    <tr>\n",
       "      <th>4</th>\n",
       "      <td>6</td>\n",
       "      <td>9</td>\n",
       "    </tr>\n",
       "  </tbody>\n",
       "</table>\n",
       "</div>"
      ],
      "text/plain": [
       "  first  second\n",
       "0  дама  король\n",
       "1     6      10\n",
       "2    10       6\n",
       "3    10  король\n",
       "4     6       9"
      ]
     },
     "execution_count": 167,
     "metadata": {},
     "output_type": "execute_result"
    }
   ],
   "source": [
    "# заполним второй столбец случайными картами из колоды с учётом, что первая карта выбывает из \"вариантов\"\n",
    "\n",
    "x = []\n",
    "\n",
    "while len(x) < len(carts['first']):\n",
    "    for i in range(n):\n",
    "        for b in cart:\n",
    "            if carts['first'][i] == b:\n",
    "                cart2 = cart.copy()\n",
    "                cart2.remove(b)\n",
    "                x.append(random.choice(cart2)) \n",
    "                break\n",
    "\n",
    "carts['second'] = x  \n",
    "\n",
    "# пример таблицы\n",
    "carts.head()"
   ]
  },
  {
   "cell_type": "code",
   "execution_count": 168,
   "metadata": {},
   "outputs": [
    {
     "name": "stdout",
     "output_type": "stream",
     "text": [
      "Вероятность события \"первая карта - шестерка, вторая — семерка:\" 0.0139\n"
     ]
    }
   ],
   "source": [
    "# вероятность того, что первой картой была шестерка, а второй — семерка\n",
    "\n",
    "P_6_7 = len(carts.query('first == \"6\" & second == \"7\"'))/carts.shape[0]\n",
    "\n",
    "print('Вероятность события \"первая карта - шестерка, вторая — семерка:\"', P_6_7)"
   ]
  },
  {
   "cell_type": "markdown",
   "metadata": {},
   "source": [
    "#### Вероятность того, что первой картой была шестерка, а второй — семерка при условии, что обе карты бубновой масти"
   ]
  },
  {
   "cell_type": "code",
   "execution_count": 89,
   "metadata": {},
   "outputs": [
    {
     "data": {
      "text/html": [
       "<div>\n",
       "<style scoped>\n",
       "    .dataframe tbody tr th:only-of-type {\n",
       "        vertical-align: middle;\n",
       "    }\n",
       "\n",
       "    .dataframe tbody tr th {\n",
       "        vertical-align: top;\n",
       "    }\n",
       "\n",
       "    .dataframe thead th {\n",
       "        text-align: right;\n",
       "    }\n",
       "</style>\n",
       "<table border=\"1\" class=\"dataframe\">\n",
       "  <thead>\n",
       "    <tr style=\"text-align: right;\">\n",
       "      <th></th>\n",
       "      <th>first</th>\n",
       "    </tr>\n",
       "  </thead>\n",
       "  <tbody>\n",
       "    <tr>\n",
       "      <th>0</th>\n",
       "      <td>король clubs</td>\n",
       "    </tr>\n",
       "    <tr>\n",
       "      <th>1</th>\n",
       "      <td>6 clubs</td>\n",
       "    </tr>\n",
       "    <tr>\n",
       "      <th>2</th>\n",
       "      <td>валет spades</td>\n",
       "    </tr>\n",
       "    <tr>\n",
       "      <th>3</th>\n",
       "      <td>8 clubs</td>\n",
       "    </tr>\n",
       "    <tr>\n",
       "      <th>4</th>\n",
       "      <td>6 diamonds</td>\n",
       "    </tr>\n",
       "  </tbody>\n",
       "</table>\n",
       "</div>"
      ],
      "text/plain": [
       "          first\n",
       "0  король clubs\n",
       "1       6 clubs\n",
       "2  валет spades\n",
       "3       8 clubs\n",
       "4    6 diamonds"
      ]
     },
     "execution_count": 89,
     "metadata": {},
     "output_type": "execute_result"
    }
   ],
   "source": [
    "# формируем колоду карт\n",
    "cart = ['6', '7', '8', '9', '10', 'валет', 'дама', 'король', 'туз']\n",
    "suit = ['spades', 'hearts', 'clubs', 'diamonds']\n",
    "deck = [c + ' ' + s for c in cart for s in suit]\n",
    "\n",
    "# задаем число экспериментов\n",
    "n = 10000\n",
    "\n",
    "# формируем выборку\n",
    "decks = pd.DataFrame({\"first\":list(map(lambda a: random.choice(deck), range(n)))})\n",
    "\n",
    "# пример таблицы\n",
    "decks.head()"
   ]
  },
  {
   "cell_type": "code",
   "execution_count": 177,
   "metadata": {},
   "outputs": [
    {
     "data": {
      "text/html": [
       "<div>\n",
       "<style scoped>\n",
       "    .dataframe tbody tr th:only-of-type {\n",
       "        vertical-align: middle;\n",
       "    }\n",
       "\n",
       "    .dataframe tbody tr th {\n",
       "        vertical-align: top;\n",
       "    }\n",
       "\n",
       "    .dataframe thead th {\n",
       "        text-align: right;\n",
       "    }\n",
       "</style>\n",
       "<table border=\"1\" class=\"dataframe\">\n",
       "  <thead>\n",
       "    <tr style=\"text-align: right;\">\n",
       "      <th></th>\n",
       "      <th>first</th>\n",
       "      <th>second</th>\n",
       "    </tr>\n",
       "  </thead>\n",
       "  <tbody>\n",
       "    <tr>\n",
       "      <th>0</th>\n",
       "      <td>король clubs</td>\n",
       "      <td>8 clubs</td>\n",
       "    </tr>\n",
       "    <tr>\n",
       "      <th>1</th>\n",
       "      <td>6 clubs</td>\n",
       "      <td>валет clubs</td>\n",
       "    </tr>\n",
       "    <tr>\n",
       "      <th>2</th>\n",
       "      <td>валет spades</td>\n",
       "      <td>король clubs</td>\n",
       "    </tr>\n",
       "    <tr>\n",
       "      <th>3</th>\n",
       "      <td>8 clubs</td>\n",
       "      <td>король clubs</td>\n",
       "    </tr>\n",
       "    <tr>\n",
       "      <th>4</th>\n",
       "      <td>6 diamonds</td>\n",
       "      <td>7 clubs</td>\n",
       "    </tr>\n",
       "  </tbody>\n",
       "</table>\n",
       "</div>"
      ],
      "text/plain": [
       "          first        second\n",
       "0  король clubs       8 clubs\n",
       "1       6 clubs   валет clubs\n",
       "2  валет spades  король clubs\n",
       "3       8 clubs  король clubs\n",
       "4    6 diamonds       7 clubs"
      ]
     },
     "execution_count": 177,
     "metadata": {},
     "output_type": "execute_result"
    }
   ],
   "source": [
    "# заполним второй столбец случайными картами из колоды с учётом, что первая карта выбывает из \"вариантов\"\n",
    "\n",
    "y = []\n",
    "\n",
    "while len(y) < len(decks['first']):\n",
    "    for i in range(n):\n",
    "        for b in deck:\n",
    "            if decks['first'][i] == b:\n",
    "                deck2 = deck.copy()\n",
    "                deck2.remove(b)\n",
    "                y.append(random.choice(deck2)) \n",
    "                \n",
    "decks['second'] = y  \n",
    "\n",
    "# пример таблицы\n",
    "decks.head()             "
   ]
  },
  {
   "cell_type": "code",
   "execution_count": 178,
   "metadata": {},
   "outputs": [
    {
     "name": "stdout",
     "output_type": "stream",
     "text": [
      "Вероятность события \"первая карта - шестерка буби, вторая — семерка буби:\" 0.0006\n"
     ]
    }
   ],
   "source": [
    "# вероятность того, что первой картой была шестерка, а второй — семерка при условии, что обе карты бубновой масти\n",
    "\n",
    "P_6d_7d = len(decks.query('first == \"6 diamonds\" & second == \"7 diamonds\"'))/decks.shape[0]\n",
    "\n",
    "print('Вероятность события \"первая карта - шестерка буби, вторая — семерка буби:\"', P_6d_7d)"
   ]
  },
  {
   "cell_type": "markdown",
   "metadata": {
    "id": "hNVxtaz5c57b"
   },
   "source": [
    "### Задача 10\n",
    "Из урны, содержащей два белых и три черных шара, последовательно извлекают два шара; вынутые шары не возвращаются. Если первый шар оказался черным, то перед вторым извлечением в урну добавляют белый шар. В противном случае состав оставшихся шаров не меняют. Найти вероятности событий:\n",
    "\n",
    "$A$ = {извлечены два белых шара},\n",
    "\n",
    "$B$ = {извлечены два черных шара}\n",
    "\n",
    "Указание. Пусть событие $C_1$ = {первый шар белый}, событие $C_2$ = {второй шар белый}. Тогда $A = C_1C_2$, $B = \\overline C_1 \\overline C_2$ "
   ]
  },
  {
   "cell_type": "code",
   "execution_count": 144,
   "metadata": {
    "id": "WSLnhk2sdBt_"
   },
   "outputs": [
    {
     "data": {
      "text/html": [
       "<div>\n",
       "<style scoped>\n",
       "    .dataframe tbody tr th:only-of-type {\n",
       "        vertical-align: middle;\n",
       "    }\n",
       "\n",
       "    .dataframe tbody tr th {\n",
       "        vertical-align: top;\n",
       "    }\n",
       "\n",
       "    .dataframe thead th {\n",
       "        text-align: right;\n",
       "    }\n",
       "</style>\n",
       "<table border=\"1\" class=\"dataframe\">\n",
       "  <thead>\n",
       "    <tr style=\"text-align: right;\">\n",
       "      <th></th>\n",
       "      <th>first</th>\n",
       "    </tr>\n",
       "  </thead>\n",
       "  <tbody>\n",
       "    <tr>\n",
       "      <th>0</th>\n",
       "      <td>black</td>\n",
       "    </tr>\n",
       "    <tr>\n",
       "      <th>1</th>\n",
       "      <td>black</td>\n",
       "    </tr>\n",
       "    <tr>\n",
       "      <th>2</th>\n",
       "      <td>white</td>\n",
       "    </tr>\n",
       "    <tr>\n",
       "      <th>3</th>\n",
       "      <td>white</td>\n",
       "    </tr>\n",
       "    <tr>\n",
       "      <th>4</th>\n",
       "      <td>white</td>\n",
       "    </tr>\n",
       "  </tbody>\n",
       "</table>\n",
       "</div>"
      ],
      "text/plain": [
       "   first\n",
       "0  black\n",
       "1  black\n",
       "2  white\n",
       "3  white\n",
       "4  white"
      ]
     },
     "execution_count": 144,
     "metadata": {},
     "output_type": "execute_result"
    }
   ],
   "source": [
    "# заполняем урну с шариками\n",
    "\n",
    "ball = ['white']*2 + ['black']*3\n",
    "\n",
    "# задаем число экспериментов\n",
    "n = 10000\n",
    "\n",
    "# формируем выборку\n",
    "balls = pd.DataFrame({\"first\": list(map(lambda a: random.choice(ball), range(n)))})\n",
    "\n",
    "# пример таблицы\n",
    "balls.head()"
   ]
  },
  {
   "cell_type": "code",
   "execution_count": 161,
   "metadata": {},
   "outputs": [
    {
     "data": {
      "text/html": [
       "<div>\n",
       "<style scoped>\n",
       "    .dataframe tbody tr th:only-of-type {\n",
       "        vertical-align: middle;\n",
       "    }\n",
       "\n",
       "    .dataframe tbody tr th {\n",
       "        vertical-align: top;\n",
       "    }\n",
       "\n",
       "    .dataframe thead th {\n",
       "        text-align: right;\n",
       "    }\n",
       "</style>\n",
       "<table border=\"1\" class=\"dataframe\">\n",
       "  <thead>\n",
       "    <tr style=\"text-align: right;\">\n",
       "      <th></th>\n",
       "      <th>first</th>\n",
       "      <th>second</th>\n",
       "    </tr>\n",
       "  </thead>\n",
       "  <tbody>\n",
       "    <tr>\n",
       "      <th>0</th>\n",
       "      <td>black</td>\n",
       "      <td>black</td>\n",
       "    </tr>\n",
       "    <tr>\n",
       "      <th>1</th>\n",
       "      <td>black</td>\n",
       "      <td>white</td>\n",
       "    </tr>\n",
       "    <tr>\n",
       "      <th>2</th>\n",
       "      <td>white</td>\n",
       "      <td>black</td>\n",
       "    </tr>\n",
       "    <tr>\n",
       "      <th>3</th>\n",
       "      <td>white</td>\n",
       "      <td>white</td>\n",
       "    </tr>\n",
       "    <tr>\n",
       "      <th>4</th>\n",
       "      <td>white</td>\n",
       "      <td>black</td>\n",
       "    </tr>\n",
       "  </tbody>\n",
       "</table>\n",
       "</div>"
      ],
      "text/plain": [
       "   first second\n",
       "0  black  black\n",
       "1  black  white\n",
       "2  white  black\n",
       "3  white  white\n",
       "4  white  black"
      ]
     },
     "execution_count": 161,
     "metadata": {},
     "output_type": "execute_result"
    }
   ],
   "source": [
    "# заполним второй столбец с учётом, что если 1-й шар оказался черным, то перед 2-м извлечением в урну добавляют белый шар\n",
    "\n",
    "z = []\n",
    "\n",
    "while len(z) < len(balls['first']):\n",
    "    for i in range(n):\n",
    "        w = \"white\"\n",
    "        b = \"black\"\n",
    "        if balls['first'][i] == w:\n",
    "            ball2 = ball.copy()\n",
    "            ball2.remove(w)\n",
    "            z.append(random.choice(ball2))  \n",
    "        if balls['first'][i] == b:\n",
    "            ball2 = ball.copy()\n",
    "            ball2.remove(b)\n",
    "            ball2.append(w)\n",
    "            z.append(random.choice(ball2))            \n",
    "        \n",
    "balls['second'] = z\n",
    "\n",
    "# пример таблицы\n",
    "balls.head()            "
   ]
  },
  {
   "cell_type": "code",
   "execution_count": 162,
   "metadata": {},
   "outputs": [
    {
     "name": "stdout",
     "output_type": "stream",
     "text": [
      "Вероятность события \"𝐴  = {извлечены два белых шара}:\" 0.1019\n"
     ]
    }
   ],
   "source": [
    "# 𝐴  = {извлечены два белых шара}\n",
    "\n",
    "P_2w = len(balls.query('first == \"white\" & second == \"white\"'))/balls.shape[0]\n",
    "\n",
    "print('Вероятность события \"𝐴  = {извлечены два белых шара}:\"', P_2w)"
   ]
  },
  {
   "cell_type": "code",
   "execution_count": 163,
   "metadata": {},
   "outputs": [
    {
     "name": "stdout",
     "output_type": "stream",
     "text": [
      "Вероятность события \"𝐵  = {извлечены два черных шара}:\" 0.2443\n"
     ]
    }
   ],
   "source": [
    "# 𝐵  = {извлечены два черных шара}\n",
    "\n",
    "P_2b = len(balls.query('first != \"white\" & second != \"white\"'))/balls.shape[0]\n",
    "\n",
    "print('Вероятность события \"𝐵  = {извлечены два черных шара}:\"', P_2b)"
   ]
  },
  {
   "cell_type": "code",
   "execution_count": null,
   "metadata": {},
   "outputs": [],
   "source": []
  },
  {
   "cell_type": "code",
   "execution_count": 241,
   "metadata": {},
   "outputs": [
    {
     "data": {
      "text/plain": [
       "array([1, 2, 3, 4, 5, 6])"
      ]
     },
     "execution_count": 241,
     "metadata": {},
     "output_type": "execute_result"
    }
   ],
   "source": [
    "N = 100\n",
    "sample = np.random.choice([1,2,3,4,5,6], N)\n",
    "sample\n",
    "\n",
    "unique_value, counts = np.unique(sample, return_counts=True)\n",
    "unique_value"
   ]
  },
  {
   "cell_type": "code",
   "execution_count": 262,
   "metadata": {},
   "outputs": [
    {
     "data": {
      "image/png": "[encoded data removed]",
      "text/plain": [
       "<Figure size 432x288 with 1 Axes>"
      ]
     },
     "metadata": {
      "needs_background": "light"
     },
     "output_type": "display_data"
    }
   ],
   "source": [
    "df = pd.DataFrame(sample, columns=['KDE'])\n",
    "ax = df.plot(kind='density')"
   ]
  },
  {
   "cell_type": "code",
   "execution_count": 266,
   "metadata": {},
   "outputs": [
    {
     "data": {
      "text/plain": [
       "array([ 0.02593216, -0.46791918,  0.06419936,  0.73926026,  1.02824007,\n",
       "        0.36409439,  0.78272787, -1.33000114,  0.13885398,  0.15618797])"
      ]
     },
     "execution_count": 266,
     "metadata": {},
     "output_type": "execute_result"
    }
   ],
   "source": [
    "norm_rv = sts.norm(0, 1)\n",
    "norm_rv.rvs(10)"
   ]
  },
  {
   "cell_type": "code",
   "execution_count": 271,
   "metadata": {},
   "outputs": [
    {
     "data": {
      "image/png": "[encoded data removed]",
      "text/plain": [
       "<Figure size 432x288 with 1 Axes>"
      ]
     },
     "metadata": {
      "needs_background": "light"
     },
     "output_type": "display_data"
    }
   ],
   "source": [
    "x = np.linspace(-4,4,100)\n",
    "cdf = norm_rv.cdf(x)\n",
    "plt.plot(x, cdf, label='Теоретическая функция распределения')\n",
    "\n",
    "# Воспользуемся библиотекой для оценки (спасибо питон!)\n",
    "from statsmodels.distributions.empirical_distribution import ECDF\n",
    "ecdf = ECDF(sample)\n",
    "plt.step(ecdf.x, ecdf.y, label='Оценка функции распределения')\n",
    "plt.legend();"
   ]
  },
  {
   "cell_type": "code",
   "execution_count": null,
   "metadata": {},
   "outputs": [],
   "source": []
  }
 ],
 "metadata": {
  "colab": {
   "collapsed_sections": [],
   "name": "Практика к занятию 11.ipynb",
   "provenance": []
  },
  "kernelspec": {
   "display_name": "Python 3",
   "language": "python",
   "name": "python3"
  },
  "language_info": {
   "codemirror_mode": {
    "name": "ipython",
    "version": 3
   },
   "file_extension": ".py",
   "mimetype": "text/x-python",
   "name": "python",
   "nbconvert_exporter": "python",
   "pygments_lexer": "ipython3",
   "version": "3.7.6"
  }
 },
 "nbformat": 4,
 "nbformat_minor": 1
}

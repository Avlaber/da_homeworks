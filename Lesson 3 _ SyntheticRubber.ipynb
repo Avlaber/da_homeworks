{
 "cells": [
  {
   "cell_type": "markdown",
   "metadata": {
    "pycharm": {
     "name": "#%% md\n"
    }
   },
   "source": [
    "[![Open In Colab](https://colab.research.google.com/assets/colab-badge.svg)](https://colab.research.google.com/github/da-python/python-for-data-analytics/blob/main/Lesson3/hometask/SyntheticRubber.ipynb)"
   ]
  },
  {
   "cell_type": "code",
   "execution_count": 1,
   "metadata": {},
   "outputs": [],
   "source": [
    "# !pip install yfinance"
   ]
  },
  {
   "cell_type": "code",
   "execution_count": 2,
   "metadata": {
    "pycharm": {
     "name": "#%%\n"
    }
   },
   "outputs": [],
   "source": [
    "import requests\n",
    "import yfinance as yf\n",
    "import pandas as pd\n",
    "import matplotlib.pyplot as plt\n",
    "import seaborn; seaborn.set()\n",
    "from bs4 import BeautifulSoup\n",
    "from tqdm.auto import tqdm\n",
    "import os"
   ]
  },
  {
   "cell_type": "code",
   "execution_count": 3,
   "metadata": {
    "pycharm": {
     "name": "#%%\n"
    }
   },
   "outputs": [],
   "source": [
    "# Для работы с API может потребоваться обходное решение для работы с SSL сертификатом\n",
    "# import ssl\n",
    "# ssl._create_default_https_context = ssl._create_unverified_context"
   ]
  },
  {
   "cell_type": "markdown",
   "metadata": {
    "pycharm": {
     "name": "#%% md\n"
    }
   },
   "source": [
    "# Задание 1.\n",
    "\n",
    "* Вы - менеджер по продажам в нефтехимической компании.\n",
    "* Вы ведете несколько ключевых клиентов, которые закупают продукты вашей компании.\n",
    "* Ваши клиенты предпочитают формульный подход к ценообразованию и вам нужно предложить клиентам формулу цены на синтетический каучук, который может быть альтернативой натуральному каучуку с грейдом SMR 20.\n",
    "* В зависимости от объемов, которые покупают клиенты, им может быть предложена скидка.\n"
   ]
  },
  {
   "cell_type": "markdown",
   "metadata": {
    "pycharm": {
     "name": "#%% md\n"
    }
   },
   "source": [
    "### Что нужно сделать?\n",
    "\n",
    "1. Проанализировать имеющиеся данные.\n",
    "2. Определить базовую формулу цены на условиях FCA (цена на заводе). То есть как бы выглядела цена на исторических данных.\n",
    "3. Отобразить на графике.\n",
    "4. Сделать расчет возможной цены по формуле для каждого из клиентов на условиях DDP (цена с доставкой). Записать все в один эксель файл, на разных листах. Каждый лист - название клиента.\n",
    "5. Предложить формулу цены каждому из клиентов на условиях DDP (цена с доставкой).\n",
    "- Создать директорию «для клиентов» и в ней сложить  файлы с расчетами.\n",
    "- Каждый клиент - отдельный файл (любой из docx, xlsx, pptx, pdf)  с именем клиента…\n",
    "\n",
    "### В результате должно быть 3 файла:\n",
    "1. Ноутбук с расчетами и графиками.\n",
    "2. Скрипт, который делает расчет цены для каждого клиента в одном файле\n",
    "2. Скрипт, который делает расчет цены для каждого клиента в отдельном файле"
   ]
  },
  {
   "cell_type": "markdown",
   "metadata": {},
   "source": [
    "### 1. Проанализируем имеющиеся данные"
   ]
  },
  {
   "cell_type": "code",
   "execution_count": 4,
   "metadata": {
    "pycharm": {
     "name": "#%%\n"
    }
   },
   "outputs": [],
   "source": [
    "# Из данных есть:\n",
    "\n",
    "# Затраты на производство\n",
    "PRODUCTION_COST = 400 # (EUR)\n",
    "\n",
    "# Расходы на логистику\n",
    "EU_LOGISTIC_COST_EUR = 30 # в Европу в евро\n",
    "CN_LOGISTIC_COST_USD = 130 # в Китай в долларах\n",
    "\n",
    "# * Справочная информация по клиентам(объемы, локации, комментарии)\n",
    "customers = {\n",
    "    'Monty':{\n",
    "        'location':'EU',\n",
    "        'volumes':200,\n",
    "        'comment':'moving_average'\n",
    "    },\n",
    "\n",
    "    'Triangle':{\n",
    "        'location':'CN',\n",
    "        'volumes': 30,\n",
    "        'comment': 'monthly'\n",
    "    },\n",
    "    'Stone':{\n",
    "        'location':'EU',\n",
    "        'volumes': 150,\n",
    "        'comment': 'moving_average'\n",
    "    },\n",
    "    'Poly':{\n",
    "        'location':'EU',\n",
    "        'volumes': 70,\n",
    "        'comment': 'monthly'\n",
    "    }\n",
    "}\n",
    "# Скидки\n",
    "discounts = {'up to 100': 0.01, # 1%\n",
    "             'up to 300': 0.05, # 5%\n",
    "             '300 plus': 0.1}   #10%\n"
   ]
  },
  {
   "cell_type": "code",
   "execution_count": 5,
   "metadata": {
    "pycharm": {
     "name": "#%%\n"
    },
    "scrolled": true
   },
   "outputs": [
    {
     "data": {
      "text/html": [
       "<div>\n",
       "<style scoped>\n",
       "    .dataframe tbody tr th:only-of-type {\n",
       "        vertical-align: middle;\n",
       "    }\n",
       "\n",
       "    .dataframe tbody tr th {\n",
       "        vertical-align: top;\n",
       "    }\n",
       "\n",
       "    .dataframe thead th {\n",
       "        text-align: right;\n",
       "    }\n",
       "</style>\n",
       "<table border=\"1\" class=\"dataframe\">\n",
       "  <thead>\n",
       "    <tr style=\"text-align: right;\">\n",
       "      <th></th>\n",
       "      <th>date</th>\n",
       "      <th>grade</th>\n",
       "      <th>masa</th>\n",
       "      <th>rm</th>\n",
       "      <th>us</th>\n",
       "      <th>tone</th>\n",
       "    </tr>\n",
       "  </thead>\n",
       "  <tbody>\n",
       "    <tr>\n",
       "      <th>0</th>\n",
       "      <td>2022-06-30</td>\n",
       "      <td>SMR CV</td>\n",
       "      <td>Noon</td>\n",
       "      <td>979.00</td>\n",
       "      <td>226.10</td>\n",
       "      <td>Quietly Steady</td>\n",
       "    </tr>\n",
       "    <tr>\n",
       "      <th>1</th>\n",
       "      <td>2022-06-30</td>\n",
       "      <td>SMR L</td>\n",
       "      <td>Noon</td>\n",
       "      <td>969.00</td>\n",
       "      <td>223.80</td>\n",
       "      <td>Quietly Steady</td>\n",
       "    </tr>\n",
       "    <tr>\n",
       "      <th>2</th>\n",
       "      <td>2022-06-30</td>\n",
       "      <td>SMR 5</td>\n",
       "      <td>Noon</td>\n",
       "      <td>719.00</td>\n",
       "      <td>166.05</td>\n",
       "      <td>Quietly Steady</td>\n",
       "    </tr>\n",
       "    <tr>\n",
       "      <th>3</th>\n",
       "      <td>2022-06-30</td>\n",
       "      <td>SMR GP</td>\n",
       "      <td>Noon</td>\n",
       "      <td>716.00</td>\n",
       "      <td>165.40</td>\n",
       "      <td>Quietly Steady</td>\n",
       "    </tr>\n",
       "    <tr>\n",
       "      <th>4</th>\n",
       "      <td>2022-06-30</td>\n",
       "      <td>SMR 10</td>\n",
       "      <td>Noon</td>\n",
       "      <td>709.00</td>\n",
       "      <td>163.75</td>\n",
       "      <td>Quietly Steady</td>\n",
       "    </tr>\n",
       "    <tr>\n",
       "      <th>5</th>\n",
       "      <td>2022-06-30</td>\n",
       "      <td>SMR 20</td>\n",
       "      <td>Noon</td>\n",
       "      <td>707.00</td>\n",
       "      <td>163.30</td>\n",
       "      <td>Quietly Steady</td>\n",
       "    </tr>\n",
       "    <tr>\n",
       "      <th>6</th>\n",
       "      <td>2022-06-30</td>\n",
       "      <td>Latex in Bulk</td>\n",
       "      <td>Noon</td>\n",
       "      <td>575.50</td>\n",
       "      <td>575.50</td>\n",
       "      <td>Quietly Steady</td>\n",
       "    </tr>\n",
       "    <tr>\n",
       "      <th>7</th>\n",
       "      <td>2022-06-29</td>\n",
       "      <td>SMR CV</td>\n",
       "      <td>Noon</td>\n",
       "      <td>989.00</td>\n",
       "      <td>228.65</td>\n",
       "      <td>Quietly Steady</td>\n",
       "    </tr>\n",
       "    <tr>\n",
       "      <th>8</th>\n",
       "      <td>2022-06-29</td>\n",
       "      <td>SMR L</td>\n",
       "      <td>Noon</td>\n",
       "      <td>979.00</td>\n",
       "      <td>226.35</td>\n",
       "      <td>Quietly Steady</td>\n",
       "    </tr>\n",
       "    <tr>\n",
       "      <th>9</th>\n",
       "      <td>2022-06-29</td>\n",
       "      <td>SMR 5</td>\n",
       "      <td>Noon</td>\n",
       "      <td>714.00</td>\n",
       "      <td>165.10</td>\n",
       "      <td>Quietly Steady</td>\n",
       "    </tr>\n",
       "  </tbody>\n",
       "</table>\n",
       "</div>"
      ],
      "text/plain": [
       "         date          grade  masa      rm      us            tone\n",
       "0  2022-06-30         SMR CV  Noon  979.00  226.10  Quietly Steady\n",
       "1  2022-06-30          SMR L  Noon  969.00  223.80  Quietly Steady\n",
       "2  2022-06-30          SMR 5  Noon  719.00  166.05  Quietly Steady\n",
       "3  2022-06-30         SMR GP  Noon  716.00  165.40  Quietly Steady\n",
       "4  2022-06-30         SMR 10  Noon  709.00  163.75  Quietly Steady\n",
       "5  2022-06-30         SMR 20  Noon  707.00  163.30  Quietly Steady\n",
       "6  2022-06-30  Latex in Bulk  Noon  575.50  575.50  Quietly Steady\n",
       "7  2022-06-29         SMR CV  Noon  989.00  228.65  Quietly Steady\n",
       "8  2022-06-29          SMR L  Noon  979.00  226.35  Quietly Steady\n",
       "9  2022-06-29          SMR 5  Noon  714.00  165.10  Quietly Steady"
      ]
     },
     "execution_count": 5,
     "metadata": {},
     "output_type": "execute_result"
    }
   ],
   "source": [
    "# Скачаем котировки натурального каучука с сайта Малайзийской Rubber Board https://www.lgm.gov.my\n",
    "\n",
    "year = '2022'\n",
    "month = '06'\n",
    "url = f\"https://www.lgm.gov.my/webv2api/api/rubberprice/month={month}&year={year}\"\n",
    "res = requests.get(url)\n",
    "rj = res.json()\n",
    "df = pd.json_normalize(rj)\n",
    "df.head(10)"
   ]
  },
  {
   "cell_type": "markdown",
   "metadata": {},
   "source": [
    "### 2. Определим базовую формулу цены на условиях FCA (цена на заводе), т.е. как бы выглядела цена на исторических данных"
   ]
  },
  {
   "cell_type": "markdown",
   "metadata": {},
   "source": [
    "Определим базовую формулу для расчёта цены на заводе:"
   ]
  },
  {
   "cell_type": "markdown",
   "metadata": {},
   "source": [
    "PRICE_CINT = (PRICE_SMR_20 * EXCHANGE_RATE) * 2 + PRODUCTION_COST, где \n",
    "\n",
    "- PRICE_CINT - цена синтетического каучука на условии FCA (цена на заводе)\n",
    "- PRICE_SMR_20 - цена на натуральный каучук SMR на Малайзийской Rubber Board, рассчитываемая как среднеарифметическая величина за месяц, предшествующий месяцу поставки\n",
    "- EXCHANGE_RATE - среднее значение курса доллара/евро за месяц, предшествующий месяцу поставки\n",
    "- 2 - Ставка НДС, равна 20%\n",
    "- PRODUCTION_COST - затраты на производство"
   ]
  },
  {
   "cell_type": "markdown",
   "metadata": {},
   "source": [
    "**Узнаем цену на натуральный каучук с грейдом SMR 20** *(показатель в формуле PRICE_SMR_20)*"
   ]
  },
  {
   "cell_type": "markdown",
   "metadata": {},
   "source": [
    "В полученной таблице с котировками натурального каучука приведём столбцы с датой и ценами к нужным нам типам данных:"
   ]
  },
  {
   "cell_type": "code",
   "execution_count": 6,
   "metadata": {},
   "outputs": [
    {
     "name": "stdout",
     "output_type": "stream",
     "text": [
      "<class 'pandas.core.frame.DataFrame'>\n",
      "RangeIndex: 147 entries, 0 to 146\n",
      "Data columns (total 6 columns):\n",
      " #   Column  Non-Null Count  Dtype         \n",
      "---  ------  --------------  -----         \n",
      " 0   date    147 non-null    datetime64[ns]\n",
      " 1   grade   147 non-null    object        \n",
      " 2   masa    147 non-null    object        \n",
      " 3   rm      147 non-null    float64       \n",
      " 4   us      147 non-null    float64       \n",
      " 5   tone    147 non-null    object        \n",
      "dtypes: datetime64[ns](1), float64(2), object(3)\n",
      "memory usage: 7.0+ KB\n"
     ]
    }
   ],
   "source": [
    "df['date'] = pd.to_datetime(df['date'])\n",
    "df['rm'] = df['rm'].astype(float)\n",
    "df['us'] = df['us'].astype(float)\n",
    "\n",
    "# проверяем\n",
    "df.info()"
   ]
  },
  {
   "cell_type": "markdown",
   "metadata": {},
   "source": [
    "Посмотрим, за какой период цены в выгруженной таблице"
   ]
  },
  {
   "cell_type": "code",
   "execution_count": 7,
   "metadata": {},
   "outputs": [
    {
     "data": {
      "text/plain": [
       "count                              147\n",
       "mean     2022-06-16 03:25:42.857142784\n",
       "min                2022-06-01 00:00:00\n",
       "25%                2022-06-09 00:00:00\n",
       "50%                2022-06-16 00:00:00\n",
       "75%                2022-06-23 00:00:00\n",
       "max                2022-06-30 00:00:00\n",
       "Name: date, dtype: object"
      ]
     },
     "execution_count": 7,
     "metadata": {},
     "output_type": "execute_result"
    }
   ],
   "source": [
    "df['date'].describe(datetime_is_numeric=True)"
   ]
  },
  {
   "cell_type": "markdown",
   "metadata": {},
   "source": [
    "Цены за июнь, т.е. за месяц, предшествующий предыдущему."
   ]
  },
  {
   "cell_type": "markdown",
   "metadata": {},
   "source": [
    "Синтетический каучук будет заменой натуральному с грейдом SMR 20, сформируем датафрэйм только с данными по нему:"
   ]
  },
  {
   "cell_type": "code",
   "execution_count": 8,
   "metadata": {},
   "outputs": [
    {
     "data": {
      "text/html": [
       "<div>\n",
       "<style scoped>\n",
       "    .dataframe tbody tr th:only-of-type {\n",
       "        vertical-align: middle;\n",
       "    }\n",
       "\n",
       "    .dataframe tbody tr th {\n",
       "        vertical-align: top;\n",
       "    }\n",
       "\n",
       "    .dataframe thead th {\n",
       "        text-align: right;\n",
       "    }\n",
       "</style>\n",
       "<table border=\"1\" class=\"dataframe\">\n",
       "  <thead>\n",
       "    <tr style=\"text-align: right;\">\n",
       "      <th></th>\n",
       "      <th>date</th>\n",
       "      <th>grade</th>\n",
       "      <th>masa</th>\n",
       "      <th>rm</th>\n",
       "      <th>us</th>\n",
       "      <th>tone</th>\n",
       "    </tr>\n",
       "  </thead>\n",
       "  <tbody>\n",
       "    <tr>\n",
       "      <th>5</th>\n",
       "      <td>2022-06-30</td>\n",
       "      <td>SMR 20</td>\n",
       "      <td>Noon</td>\n",
       "      <td>707.0</td>\n",
       "      <td>163.30</td>\n",
       "      <td>Quietly Steady</td>\n",
       "    </tr>\n",
       "    <tr>\n",
       "      <th>12</th>\n",
       "      <td>2022-06-29</td>\n",
       "      <td>SMR 20</td>\n",
       "      <td>Noon</td>\n",
       "      <td>702.0</td>\n",
       "      <td>162.30</td>\n",
       "      <td>Quietly Steady</td>\n",
       "    </tr>\n",
       "    <tr>\n",
       "      <th>19</th>\n",
       "      <td>2022-06-28</td>\n",
       "      <td>SMR 20</td>\n",
       "      <td>Noon</td>\n",
       "      <td>699.0</td>\n",
       "      <td>161.55</td>\n",
       "      <td>Quiet</td>\n",
       "    </tr>\n",
       "    <tr>\n",
       "      <th>26</th>\n",
       "      <td>2022-06-27</td>\n",
       "      <td>SMR 20</td>\n",
       "      <td>Noon</td>\n",
       "      <td>707.0</td>\n",
       "      <td>163.40</td>\n",
       "      <td>Quietly Steady</td>\n",
       "    </tr>\n",
       "    <tr>\n",
       "      <th>33</th>\n",
       "      <td>2022-06-24</td>\n",
       "      <td>SMR 20</td>\n",
       "      <td>Noon</td>\n",
       "      <td>704.0</td>\n",
       "      <td>162.60</td>\n",
       "      <td>Quietly Steady</td>\n",
       "    </tr>\n",
       "  </tbody>\n",
       "</table>\n",
       "</div>"
      ],
      "text/plain": [
       "         date   grade  masa     rm      us            tone\n",
       "5  2022-06-30  SMR 20  Noon  707.0  163.30  Quietly Steady\n",
       "12 2022-06-29  SMR 20  Noon  702.0  162.30  Quietly Steady\n",
       "19 2022-06-28  SMR 20  Noon  699.0  161.55           Quiet\n",
       "26 2022-06-27  SMR 20  Noon  707.0  163.40  Quietly Steady\n",
       "33 2022-06-24  SMR 20  Noon  704.0  162.60  Quietly Steady"
      ]
     },
     "execution_count": 8,
     "metadata": {},
     "output_type": "execute_result"
    }
   ],
   "source": [
    "df_smr_20 = df[df['grade'] == 'SMR 20']\n",
    "df_smr_20.head()"
   ]
  },
  {
   "cell_type": "markdown",
   "metadata": {},
   "source": [
    "Переместим даты в индекс и рассчитаем среднемесячную цену в долларах к последней дате:"
   ]
  },
  {
   "cell_type": "code",
   "execution_count": 9,
   "metadata": {},
   "outputs": [
    {
     "data": {
      "text/html": [
       "<div>\n",
       "<style scoped>\n",
       "    .dataframe tbody tr th:only-of-type {\n",
       "        vertical-align: middle;\n",
       "    }\n",
       "\n",
       "    .dataframe tbody tr th {\n",
       "        vertical-align: top;\n",
       "    }\n",
       "\n",
       "    .dataframe thead th {\n",
       "        text-align: right;\n",
       "    }\n",
       "</style>\n",
       "<table border=\"1\" class=\"dataframe\">\n",
       "  <thead>\n",
       "    <tr style=\"text-align: right;\">\n",
       "      <th></th>\n",
       "      <th>us</th>\n",
       "    </tr>\n",
       "    <tr>\n",
       "      <th>date</th>\n",
       "      <th></th>\n",
       "    </tr>\n",
       "  </thead>\n",
       "  <tbody>\n",
       "    <tr>\n",
       "      <th>2022-06-30</th>\n",
       "      <td>164.15</td>\n",
       "    </tr>\n",
       "  </tbody>\n",
       "</table>\n",
       "</div>"
      ],
      "text/plain": [
       "                us\n",
       "date              \n",
       "2022-06-30  164.15"
      ]
     },
     "execution_count": 9,
     "metadata": {},
     "output_type": "execute_result"
    }
   ],
   "source": [
    "df_smr_20.set_index('date', inplace=True)\n",
    "\n",
    "mes = round(df_smr_20[['us']].resample('M').mean(), 2)\n",
    "mes"
   ]
  },
  {
   "cell_type": "markdown",
   "metadata": {},
   "source": [
    "Мы получили среднемесячную цену в us за килограмм, сохраним в отдельную переменную:"
   ]
  },
  {
   "cell_type": "code",
   "execution_count": 10,
   "metadata": {},
   "outputs": [
    {
     "data": {
      "text/plain": [
       "164.15"
      ]
     },
     "execution_count": 10,
     "metadata": {},
     "output_type": "execute_result"
    }
   ],
   "source": [
    "PRICE_SMR_20 = mes.iloc[0]['us']\n",
    "PRICE_SMR_20"
   ]
  },
  {
   "cell_type": "markdown",
   "metadata": {},
   "source": [
    "**Скачаем данные о ценах на сырую нефть и котировки курсов валют** *(показатель в формуле EXCHANGE_RATE)*"
   ]
  },
  {
   "cell_type": "code",
   "execution_count": 11,
   "metadata": {},
   "outputs": [
    {
     "data": {
      "application/vnd.jupyter.widget-view+json": {
       "model_id": "bbe2cbc1de844883bd1130f90a39e368",
       "version_major": 2,
       "version_minor": 0
      },
      "text/plain": [
       "HBox(children=(FloatProgress(value=0.0, max=4.0), HTML(value='')))"
      ]
     },
     "metadata": {},
     "output_type": "display_data"
    },
    {
     "name": "stdout",
     "output_type": "stream",
     "text": [
      "[*********************100%***********************]  1 of 1 completed\n",
      "[*********************100%***********************]  1 of 1 completed\n",
      "[*********************100%***********************]  1 of 1 completed\n",
      "[*********************100%***********************]  1 of 1 completed\n",
      "\n"
     ]
    }
   ],
   "source": [
    "# используем библиотеку yf, сформируем словарь\n",
    "\n",
    "df_dict = {}\n",
    "for ticker in tqdm(['CL=F','USDRUB=X', 'EURUSD=X', 'EURRUB=X']):\n",
    "    df = yf.download(ticker)\n",
    "    df = df.Close.copy()\n",
    "    df = df.resample('M').mean()\n",
    "    df_dict[ticker] = df"
   ]
  },
  {
   "cell_type": "markdown",
   "metadata": {},
   "source": [
    "Соединим полученные данные в датафрэйм:"
   ]
  },
  {
   "cell_type": "code",
   "execution_count": 12,
   "metadata": {},
   "outputs": [],
   "source": [
    "main_df = pd.concat(df_dict.values(), axis=1)\n",
    "main_df.columns = ['CRUDE_OIL_USD','USDRUB', 'EURUSD', 'EURRUB']"
   ]
  },
  {
   "cell_type": "markdown",
   "metadata": {},
   "source": [
    "Ограничим данные последними 4 годами:"
   ]
  },
  {
   "cell_type": "code",
   "execution_count": 13,
   "metadata": {},
   "outputs": [
    {
     "data": {
      "text/html": [
       "<div>\n",
       "<style scoped>\n",
       "    .dataframe tbody tr th:only-of-type {\n",
       "        vertical-align: middle;\n",
       "    }\n",
       "\n",
       "    .dataframe tbody tr th {\n",
       "        vertical-align: top;\n",
       "    }\n",
       "\n",
       "    .dataframe thead th {\n",
       "        text-align: right;\n",
       "    }\n",
       "</style>\n",
       "<table border=\"1\" class=\"dataframe\">\n",
       "  <thead>\n",
       "    <tr style=\"text-align: right;\">\n",
       "      <th></th>\n",
       "      <th>CRUDE_OIL_USD</th>\n",
       "      <th>USDRUB</th>\n",
       "      <th>EURUSD</th>\n",
       "      <th>EURRUB</th>\n",
       "    </tr>\n",
       "    <tr>\n",
       "      <th>Date</th>\n",
       "      <th></th>\n",
       "      <th></th>\n",
       "      <th></th>\n",
       "      <th></th>\n",
       "    </tr>\n",
       "  </thead>\n",
       "  <tbody>\n",
       "    <tr>\n",
       "      <th>2019-06-30</th>\n",
       "      <td>54.706500</td>\n",
       "      <td>64.168690</td>\n",
       "      <td>1.129002</td>\n",
       "      <td>72.458005</td>\n",
       "    </tr>\n",
       "    <tr>\n",
       "      <th>2019-07-31</th>\n",
       "      <td>57.546364</td>\n",
       "      <td>63.176222</td>\n",
       "      <td>1.122682</td>\n",
       "      <td>70.956822</td>\n",
       "    </tr>\n",
       "    <tr>\n",
       "      <th>2019-08-31</th>\n",
       "      <td>54.844091</td>\n",
       "      <td>65.687992</td>\n",
       "      <td>1.113163</td>\n",
       "      <td>73.143709</td>\n",
       "    </tr>\n",
       "    <tr>\n",
       "      <th>2019-09-30</th>\n",
       "      <td>56.967000</td>\n",
       "      <td>64.971148</td>\n",
       "      <td>1.101377</td>\n",
       "      <td>71.589861</td>\n",
       "    </tr>\n",
       "    <tr>\n",
       "      <th>2019-10-31</th>\n",
       "      <td>54.005653</td>\n",
       "      <td>64.341009</td>\n",
       "      <td>1.104839</td>\n",
       "      <td>71.093322</td>\n",
       "    </tr>\n",
       "  </tbody>\n",
       "</table>\n",
       "</div>"
      ],
      "text/plain": [
       "            CRUDE_OIL_USD     USDRUB    EURUSD     EURRUB\n",
       "Date                                                     \n",
       "2019-06-30      54.706500  64.168690  1.129002  72.458005\n",
       "2019-07-31      57.546364  63.176222  1.122682  70.956822\n",
       "2019-08-31      54.844091  65.687992  1.113163  73.143709\n",
       "2019-09-30      56.967000  64.971148  1.101377  71.589861\n",
       "2019-10-31      54.005653  64.341009  1.104839  71.093322"
      ]
     },
     "execution_count": 13,
     "metadata": {},
     "output_type": "execute_result"
    }
   ],
   "source": [
    "main_df = main_df.loc['2019-06-30':'2022-06-30'].copy()\n",
    "main_df.head()"
   ]
  },
  {
   "cell_type": "markdown",
   "metadata": {},
   "source": [
    "Затраты на производство нам известны"
   ]
  },
  {
   "cell_type": "code",
   "execution_count": 14,
   "metadata": {},
   "outputs": [],
   "source": [
    "PRODUCTION_COST = 400 # (EUR)"
   ]
  },
  {
   "cell_type": "markdown",
   "metadata": {},
   "source": [
    "Мы получили цену за килограмм натурального каучука, цену сырой нефти и котировки валют друг к другу, а также мы знаем затраты на само производство. Это поможет нам в  рассчитать формулу цены синтетического каучука в долларах и евро\n",
    "\n",
    "Вспомним формулу FCA (цена на заводе):\n",
    "\n",
    "PRICE_CINT = (PRICE_SMR_20 * EXCHANGE_RATE) * 2 + PRODUCTION_COST"
   ]
  },
  {
   "cell_type": "code",
   "execution_count": 15,
   "metadata": {},
   "outputs": [
    {
     "data": {
      "text/html": [
       "<div>\n",
       "<style scoped>\n",
       "    .dataframe tbody tr th:only-of-type {\n",
       "        vertical-align: middle;\n",
       "    }\n",
       "\n",
       "    .dataframe tbody tr th {\n",
       "        vertical-align: top;\n",
       "    }\n",
       "\n",
       "    .dataframe thead th {\n",
       "        text-align: right;\n",
       "    }\n",
       "</style>\n",
       "<table border=\"1\" class=\"dataframe\">\n",
       "  <thead>\n",
       "    <tr style=\"text-align: right;\">\n",
       "      <th></th>\n",
       "      <th>CRUDE_OIL_USD</th>\n",
       "      <th>USDRUB</th>\n",
       "      <th>EURUSD</th>\n",
       "      <th>EURRUB</th>\n",
       "      <th>MWP_PRICE_EUR</th>\n",
       "      <th>MWP_PRICE_USD</th>\n",
       "    </tr>\n",
       "    <tr>\n",
       "      <th>Date</th>\n",
       "      <th></th>\n",
       "      <th></th>\n",
       "      <th></th>\n",
       "      <th></th>\n",
       "      <th></th>\n",
       "      <th></th>\n",
       "    </tr>\n",
       "  </thead>\n",
       "  <tbody>\n",
       "    <tr>\n",
       "      <th>2019-06-30</th>\n",
       "      <td>54.706500</td>\n",
       "      <td>64.168690</td>\n",
       "      <td>1.129002</td>\n",
       "      <td>72.458005</td>\n",
       "      <td>690.787803</td>\n",
       "      <td>822.252130</td>\n",
       "    </tr>\n",
       "    <tr>\n",
       "      <th>2019-07-31</th>\n",
       "      <td>57.546364</td>\n",
       "      <td>63.176222</td>\n",
       "      <td>1.122682</td>\n",
       "      <td>70.956822</td>\n",
       "      <td>692.424839</td>\n",
       "      <td>817.649045</td>\n",
       "    </tr>\n",
       "    <tr>\n",
       "      <th>2019-08-31</th>\n",
       "      <td>54.844091</td>\n",
       "      <td>65.687992</td>\n",
       "      <td>1.113163</td>\n",
       "      <td>73.143709</td>\n",
       "      <td>694.925304</td>\n",
       "      <td>810.716771</td>\n",
       "    </tr>\n",
       "    <tr>\n",
       "      <th>2019-09-30</th>\n",
       "      <td>56.967000</td>\n",
       "      <td>64.971148</td>\n",
       "      <td>1.101377</td>\n",
       "      <td>71.589861</td>\n",
       "      <td>698.081407</td>\n",
       "      <td>802.132856</td>\n",
       "    </tr>\n",
       "    <tr>\n",
       "      <th>2019-10-31</th>\n",
       "      <td>54.005653</td>\n",
       "      <td>64.341009</td>\n",
       "      <td>1.104839</td>\n",
       "      <td>71.093322</td>\n",
       "      <td>697.147281</td>\n",
       "      <td>804.654477</td>\n",
       "    </tr>\n",
       "  </tbody>\n",
       "</table>\n",
       "</div>"
      ],
      "text/plain": [
       "            CRUDE_OIL_USD     USDRUB    EURUSD     EURRUB  MWP_PRICE_EUR  \\\n",
       "Date                                                                       \n",
       "2019-06-30      54.706500  64.168690  1.129002  72.458005     690.787803   \n",
       "2019-07-31      57.546364  63.176222  1.122682  70.956822     692.424839   \n",
       "2019-08-31      54.844091  65.687992  1.113163  73.143709     694.925304   \n",
       "2019-09-30      56.967000  64.971148  1.101377  71.589861     698.081407   \n",
       "2019-10-31      54.005653  64.341009  1.104839  71.093322     697.147281   \n",
       "\n",
       "            MWP_PRICE_USD  \n",
       "Date                       \n",
       "2019-06-30     822.252130  \n",
       "2019-07-31     817.649045  \n",
       "2019-08-31     810.716771  \n",
       "2019-09-30     802.132856  \n",
       "2019-10-31     804.654477  "
      ]
     },
     "execution_count": 15,
     "metadata": {},
     "output_type": "execute_result"
    }
   ],
   "source": [
    "main_df['MWP_PRICE_EUR'] = (PRICE_SMR_20 * (1/main_df['EURUSD'])) * 2 + PRODUCTION_COST\n",
    "main_df['MWP_PRICE_USD'] = (PRICE_SMR_20 * main_df['EURUSD']) * 2 + PRODUCTION_COST * main_df['EURUSD']\n",
    "\n",
    "main_df.head()"
   ]
  },
  {
   "cell_type": "markdown",
   "metadata": {},
   "source": [
    "### 3. Отобразим цены на графике"
   ]
  },
  {
   "cell_type": "code",
   "execution_count": 16,
   "metadata": {},
   "outputs": [],
   "source": [
    "from pylab import rcParams\n",
    "rcParams['figure.figsize'] = 15,5"
   ]
  },
  {
   "cell_type": "code",
   "execution_count": 17,
   "metadata": {},
   "outputs": [
    {
     "data": {
      "image/png": "[encoded data removed]",
      "text/plain": [
       "<Figure size 1080x360 with 1 Axes>"
      ]
     },
     "metadata": {},
     "output_type": "display_data"
    }
   ],
   "source": [
    "# График с базовой ценой FCA (на заводе) в евро\n",
    "\n",
    "main_df['MWP_PRICE_EUR'].plot()\n",
    "plt.legend();"
   ]
  },
  {
   "cell_type": "code",
   "execution_count": 18,
   "metadata": {},
   "outputs": [
    {
     "data": {
      "image/png": "[encoded data removed]",
      "text/plain": [
       "<Figure size 1080x360 with 1 Axes>"
      ]
     },
     "metadata": {},
     "output_type": "display_data"
    }
   ],
   "source": [
    "# График с базовой ценой FCA (на заводе) в долларах \n",
    "\n",
    "main_df['MWP_PRICE_USD'].plot()\n",
    "plt.legend();"
   ]
  },
  {
   "cell_type": "markdown",
   "metadata": {},
   "source": [
    "### 4. Сделаем расчет возможной цены по формуле для каждого из клиентов на условиях DDP (цена с доставкой)\n",
    "Запишем в один excel-файл на разных листах. Каждый лист - название клиента."
   ]
  },
  {
   "cell_type": "markdown",
   "metadata": {},
   "source": [
    "Расходы на логистику нам известны"
   ]
  },
  {
   "cell_type": "code",
   "execution_count": 19,
   "metadata": {},
   "outputs": [],
   "source": [
    "EU_LOGISTIC_COST_EUR = 30 # в Европу в евро\n",
    "CN_LOGISTIC_COST_USD = 130 # в Китай в долларах"
   ]
  },
  {
   "cell_type": "markdown",
   "metadata": {},
   "source": [
    "Добавим к цене FCA (цена на заводе) затраты на логистику с учётом территории клиента:"
   ]
  },
  {
   "cell_type": "code",
   "execution_count": 20,
   "metadata": {},
   "outputs": [
    {
     "data": {
      "text/html": [
       "<div>\n",
       "<style scoped>\n",
       "    .dataframe tbody tr th:only-of-type {\n",
       "        vertical-align: middle;\n",
       "    }\n",
       "\n",
       "    .dataframe tbody tr th {\n",
       "        vertical-align: top;\n",
       "    }\n",
       "\n",
       "    .dataframe thead th {\n",
       "        text-align: right;\n",
       "    }\n",
       "</style>\n",
       "<table border=\"1\" class=\"dataframe\">\n",
       "  <thead>\n",
       "    <tr style=\"text-align: right;\">\n",
       "      <th></th>\n",
       "      <th>CRUDE_OIL_USD</th>\n",
       "      <th>USDRUB</th>\n",
       "      <th>EURUSD</th>\n",
       "      <th>EURRUB</th>\n",
       "      <th>MWP_PRICE_EUR</th>\n",
       "      <th>MWP_PRICE_USD</th>\n",
       "      <th>MWP_PRICE_EUR_EU</th>\n",
       "      <th>MWP_PRICE_USD_CN</th>\n",
       "    </tr>\n",
       "    <tr>\n",
       "      <th>Date</th>\n",
       "      <th></th>\n",
       "      <th></th>\n",
       "      <th></th>\n",
       "      <th></th>\n",
       "      <th></th>\n",
       "      <th></th>\n",
       "      <th></th>\n",
       "      <th></th>\n",
       "    </tr>\n",
       "  </thead>\n",
       "  <tbody>\n",
       "    <tr>\n",
       "      <th>2019-06-30</th>\n",
       "      <td>54.706500</td>\n",
       "      <td>64.168690</td>\n",
       "      <td>1.129002</td>\n",
       "      <td>72.458005</td>\n",
       "      <td>690.787803</td>\n",
       "      <td>822.252130</td>\n",
       "      <td>720.787803</td>\n",
       "      <td>952.252130</td>\n",
       "    </tr>\n",
       "    <tr>\n",
       "      <th>2019-07-31</th>\n",
       "      <td>57.546364</td>\n",
       "      <td>63.176222</td>\n",
       "      <td>1.122682</td>\n",
       "      <td>70.956822</td>\n",
       "      <td>692.424839</td>\n",
       "      <td>817.649045</td>\n",
       "      <td>722.424839</td>\n",
       "      <td>947.649045</td>\n",
       "    </tr>\n",
       "    <tr>\n",
       "      <th>2019-08-31</th>\n",
       "      <td>54.844091</td>\n",
       "      <td>65.687992</td>\n",
       "      <td>1.113163</td>\n",
       "      <td>73.143709</td>\n",
       "      <td>694.925304</td>\n",
       "      <td>810.716771</td>\n",
       "      <td>724.925304</td>\n",
       "      <td>940.716771</td>\n",
       "    </tr>\n",
       "    <tr>\n",
       "      <th>2019-09-30</th>\n",
       "      <td>56.967000</td>\n",
       "      <td>64.971148</td>\n",
       "      <td>1.101377</td>\n",
       "      <td>71.589861</td>\n",
       "      <td>698.081407</td>\n",
       "      <td>802.132856</td>\n",
       "      <td>728.081407</td>\n",
       "      <td>932.132856</td>\n",
       "    </tr>\n",
       "    <tr>\n",
       "      <th>2019-10-31</th>\n",
       "      <td>54.005653</td>\n",
       "      <td>64.341009</td>\n",
       "      <td>1.104839</td>\n",
       "      <td>71.093322</td>\n",
       "      <td>697.147281</td>\n",
       "      <td>804.654477</td>\n",
       "      <td>727.147281</td>\n",
       "      <td>934.654477</td>\n",
       "    </tr>\n",
       "  </tbody>\n",
       "</table>\n",
       "</div>"
      ],
      "text/plain": [
       "            CRUDE_OIL_USD     USDRUB    EURUSD     EURRUB  MWP_PRICE_EUR  \\\n",
       "Date                                                                       \n",
       "2019-06-30      54.706500  64.168690  1.129002  72.458005     690.787803   \n",
       "2019-07-31      57.546364  63.176222  1.122682  70.956822     692.424839   \n",
       "2019-08-31      54.844091  65.687992  1.113163  73.143709     694.925304   \n",
       "2019-09-30      56.967000  64.971148  1.101377  71.589861     698.081407   \n",
       "2019-10-31      54.005653  64.341009  1.104839  71.093322     697.147281   \n",
       "\n",
       "            MWP_PRICE_USD  MWP_PRICE_EUR_EU  MWP_PRICE_USD_CN  \n",
       "Date                                                           \n",
       "2019-06-30     822.252130        720.787803        952.252130  \n",
       "2019-07-31     817.649045        722.424839        947.649045  \n",
       "2019-08-31     810.716771        724.925304        940.716771  \n",
       "2019-09-30     802.132856        728.081407        932.132856  \n",
       "2019-10-31     804.654477        727.147281        934.654477  "
      ]
     },
     "execution_count": 20,
     "metadata": {},
     "output_type": "execute_result"
    }
   ],
   "source": [
    "main_df['MWP_PRICE_EUR_EU'] = main_df['MWP_PRICE_EUR'] + EU_LOGISTIC_COST_EUR\n",
    "main_df['MWP_PRICE_USD_CN'] = main_df['MWP_PRICE_USD'] + CN_LOGISTIC_COST_USD\n",
    "\n",
    "main_df.head()"
   ]
  },
  {
   "cell_type": "markdown",
   "metadata": {},
   "source": [
    "Добавим столбец с со средними ценами за три месяца:"
   ]
  },
  {
   "cell_type": "code",
   "execution_count": 21,
   "metadata": {},
   "outputs": [
    {
     "data": {
      "text/html": [
       "<div>\n",
       "<style scoped>\n",
       "    .dataframe tbody tr th:only-of-type {\n",
       "        vertical-align: middle;\n",
       "    }\n",
       "\n",
       "    .dataframe tbody tr th {\n",
       "        vertical-align: top;\n",
       "    }\n",
       "\n",
       "    .dataframe thead th {\n",
       "        text-align: right;\n",
       "    }\n",
       "</style>\n",
       "<table border=\"1\" class=\"dataframe\">\n",
       "  <thead>\n",
       "    <tr style=\"text-align: right;\">\n",
       "      <th></th>\n",
       "      <th>CRUDE_OIL_USD</th>\n",
       "      <th>USDRUB</th>\n",
       "      <th>EURUSD</th>\n",
       "      <th>EURRUB</th>\n",
       "      <th>MWP_PRICE_EUR</th>\n",
       "      <th>MWP_PRICE_USD</th>\n",
       "      <th>MWP_PRICE_EUR_EU</th>\n",
       "      <th>MWP_PRICE_USD_CN</th>\n",
       "      <th>MWP_PRICE_EUR_EU_MA</th>\n",
       "      <th>MWP_PRICE_USD_CN_MA</th>\n",
       "    </tr>\n",
       "    <tr>\n",
       "      <th>Date</th>\n",
       "      <th></th>\n",
       "      <th></th>\n",
       "      <th></th>\n",
       "      <th></th>\n",
       "      <th></th>\n",
       "      <th></th>\n",
       "      <th></th>\n",
       "      <th></th>\n",
       "      <th></th>\n",
       "      <th></th>\n",
       "    </tr>\n",
       "  </thead>\n",
       "  <tbody>\n",
       "    <tr>\n",
       "      <th>2022-02-28</th>\n",
       "      <td>91.628947</td>\n",
       "      <td>77.466339</td>\n",
       "      <td>1.133995</td>\n",
       "      <td>87.878880</td>\n",
       "      <td>689.507324</td>\n",
       "      <td>825.888916</td>\n",
       "      <td>719.507324</td>\n",
       "      <td>955.888916</td>\n",
       "      <td>719.908096</td>\n",
       "      <td>954.748355</td>\n",
       "    </tr>\n",
       "    <tr>\n",
       "      <th>2022-03-31</th>\n",
       "      <td>108.262174</td>\n",
       "      <td>111.013403</td>\n",
       "      <td>1.102412</td>\n",
       "      <td>132.952291</td>\n",
       "      <td>697.801413</td>\n",
       "      <td>802.887023</td>\n",
       "      <td>727.801413</td>\n",
       "      <td>932.887023</td>\n",
       "      <td>722.393161</td>\n",
       "      <td>947.876469</td>\n",
       "    </tr>\n",
       "    <tr>\n",
       "      <th>2022-04-30</th>\n",
       "      <td>101.640499</td>\n",
       "      <td>80.666187</td>\n",
       "      <td>1.082745</td>\n",
       "      <td>86.109895</td>\n",
       "      <td>703.210960</td>\n",
       "      <td>788.562821</td>\n",
       "      <td>733.210960</td>\n",
       "      <td>918.562821</td>\n",
       "      <td>726.839899</td>\n",
       "      <td>935.779587</td>\n",
       "    </tr>\n",
       "    <tr>\n",
       "      <th>2022-05-31</th>\n",
       "      <td>109.259523</td>\n",
       "      <td>65.422944</td>\n",
       "      <td>1.057322</td>\n",
       "      <td>68.104363</td>\n",
       "      <td>710.501319</td>\n",
       "      <td>770.047903</td>\n",
       "      <td>740.501319</td>\n",
       "      <td>900.047903</td>\n",
       "      <td>733.837898</td>\n",
       "      <td>917.165916</td>\n",
       "    </tr>\n",
       "    <tr>\n",
       "      <th>2022-06-30</th>\n",
       "      <td>114.154091</td>\n",
       "      <td>60.146091</td>\n",
       "      <td>1.057670</td>\n",
       "      <td>60.378959</td>\n",
       "      <td>710.399407</td>\n",
       "      <td>770.300731</td>\n",
       "      <td>740.399407</td>\n",
       "      <td>900.300731</td>\n",
       "      <td>738.037229</td>\n",
       "      <td>906.303818</td>\n",
       "    </tr>\n",
       "  </tbody>\n",
       "</table>\n",
       "</div>"
      ],
      "text/plain": [
       "            CRUDE_OIL_USD      USDRUB    EURUSD      EURRUB  MWP_PRICE_EUR  \\\n",
       "Date                                                                         \n",
       "2022-02-28      91.628947   77.466339  1.133995   87.878880     689.507324   \n",
       "2022-03-31     108.262174  111.013403  1.102412  132.952291     697.801413   \n",
       "2022-04-30     101.640499   80.666187  1.082745   86.109895     703.210960   \n",
       "2022-05-31     109.259523   65.422944  1.057322   68.104363     710.501319   \n",
       "2022-06-30     114.154091   60.146091  1.057670   60.378959     710.399407   \n",
       "\n",
       "            MWP_PRICE_USD  MWP_PRICE_EUR_EU  MWP_PRICE_USD_CN  \\\n",
       "Date                                                            \n",
       "2022-02-28     825.888916        719.507324        955.888916   \n",
       "2022-03-31     802.887023        727.801413        932.887023   \n",
       "2022-04-30     788.562821        733.210960        918.562821   \n",
       "2022-05-31     770.047903        740.501319        900.047903   \n",
       "2022-06-30     770.300731        740.399407        900.300731   \n",
       "\n",
       "            MWP_PRICE_EUR_EU_MA  MWP_PRICE_USD_CN_MA  \n",
       "Date                                                  \n",
       "2022-02-28           719.908096           954.748355  \n",
       "2022-03-31           722.393161           947.876469  \n",
       "2022-04-30           726.839899           935.779587  \n",
       "2022-05-31           733.837898           917.165916  \n",
       "2022-06-30           738.037229           906.303818  "
      ]
     },
     "execution_count": 21,
     "metadata": {},
     "output_type": "execute_result"
    }
   ],
   "source": [
    "main_df['MWP_PRICE_EUR_EU_MA'] = main_df['MWP_PRICE_EUR_EU'].rolling(window=3).mean()\n",
    "main_df['MWP_PRICE_USD_CN_MA'] = main_df['MWP_PRICE_USD_CN'].rolling(window=3).mean()\n",
    "\n",
    "main_df.tail()"
   ]
  },
  {
   "cell_type": "markdown",
   "metadata": {},
   "source": [
    "Сделаем расчет возможной цены по формуле для каждого из клиентов с учётом объёмов их поставок, пожелания к расчёту цены, а также скидок"
   ]
  },
  {
   "cell_type": "markdown",
   "metadata": {},
   "source": [
    "Вспомним, кто наши клиенты:"
   ]
  },
  {
   "cell_type": "code",
   "execution_count": 22,
   "metadata": {},
   "outputs": [
    {
     "data": {
      "text/plain": [
       "{'Monty': {'location': 'EU', 'volumes': 200, 'comment': 'moving_average'},\n",
       " 'Triangle': {'location': 'CN', 'volumes': 30, 'comment': 'monthly'},\n",
       " 'Stone': {'location': 'EU', 'volumes': 150, 'comment': 'moving_average'},\n",
       " 'Poly': {'location': 'EU', 'volumes': 70, 'comment': 'monthly'}}"
      ]
     },
     "execution_count": 22,
     "metadata": {},
     "output_type": "execute_result"
    }
   ],
   "source": [
    "customers"
   ]
  },
  {
   "cell_type": "markdown",
   "metadata": {},
   "source": [
    "Какие есть скидки в зависимости от объёма покупки:"
   ]
  },
  {
   "cell_type": "code",
   "execution_count": 23,
   "metadata": {},
   "outputs": [
    {
     "data": {
      "text/plain": [
       "{'up to 100': 0.01, 'up to 300': 0.05, '300 plus': 0.1}"
      ]
     },
     "execution_count": 23,
     "metadata": {},
     "output_type": "execute_result"
    }
   ],
   "source": [
    "discounts"
   ]
  },
  {
   "cell_type": "markdown",
   "metadata": {},
   "source": [
    "Переименуем ключи словаря для удобства"
   ]
  },
  {
   "cell_type": "code",
   "execution_count": 24,
   "metadata": {},
   "outputs": [
    {
     "data": {
      "text/plain": [
       "{100: 0.01, 300: 0.05, 301: 0.1}"
      ]
     },
     "execution_count": 24,
     "metadata": {},
     "output_type": "execute_result"
    }
   ],
   "source": [
    "discounts = {100: 0.01, 300: 0.05, 301: 0.1}\n",
    "discounts"
   ]
  },
  {
   "cell_type": "markdown",
   "metadata": {},
   "source": [
    "Рассчитаем формулу с учётом локации, объёма и скидки:"
   ]
  },
  {
   "cell_type": "code",
   "execution_count": 25,
   "metadata": {
    "scrolled": true
   },
   "outputs": [
    {
     "name": "stdout",
     "output_type": "stream",
     "text": [
      "Клиент: Monty\n",
      "Скидка: 0.05 %\n",
      "Цена: 701.0 euro\n",
      "\n",
      "Клиент: Triangle\n",
      "Скидка: 0.01 %\n",
      "Цена: 891.0 dollar\n",
      "\n",
      "Клиент: Stone\n",
      "Скидка: 0.05 %\n",
      "Цена: 701.0 euro\n",
      "\n",
      "Клиент: Poly\n",
      "Скидка: 0.01 %\n",
      "Цена: 733.0 euro\n",
      "\n"
     ]
    }
   ],
   "source": [
    "with pd.ExcelWriter('price_proposals_all.xlsx', engine = 'xlsxwriter') as writer:\n",
    "\n",
    "    for client, v in customers.items():\n",
    "        disc = 0.0                                 # переменная для скидки\n",
    "        if v.get('location') == \"EU\":\n",
    "            fl = 0                                 # флаг для определения максимальной скидки\n",
    "            for k_lim, discount_share in discounts.items():\n",
    "                if v.get('volumes') > k_lim:\n",
    "                    continue\n",
    "                else:\n",
    "                    disc = discount_share\n",
    "                    fl = 1\n",
    "                    break\n",
    "            if fl == 0 :\n",
    "                disc = discounts.get(max(discounts.keys()))            \n",
    "\n",
    "            if v.get('comment') == \"moving_average\":\n",
    "                price = round(main_df['MWP_PRICE_EUR_EU_MA'] - main_df['MWP_PRICE_EUR_EU_MA'] * disc, 0)\n",
    "                print('Клиент:', client)\n",
    "                print('Скидка:', disc, '%')\n",
    "                print('Цена:', price[-1], 'euro')\n",
    "                print('')\n",
    "            elif v.get('comment') == \"monthly\":\n",
    "                price = round(main_df['MWP_PRICE_EUR_EU'] - main_df['MWP_PRICE_EUR_EU'] * disc, 0)            \n",
    "                print('Клиент:', client)\n",
    "                print('Скидка:', disc, '%')\n",
    "                print('Цена:', price[-1], 'euro')\n",
    "                print('')\n",
    "       \n",
    "        elif v.get('location') == 'CN':\n",
    "            fl = 0\n",
    "            for k_lim, discount_share in discounts.items():\n",
    "                if v.get('volumes') > k_lim:\n",
    "                    continue\n",
    "                else:\n",
    "                    disc = discount_share\n",
    "                    fl = 1\n",
    "                    break\n",
    "            if fl == 0 :\n",
    "                disc = discounts.get(max(discounts.keys()))                    \n",
    "                    \n",
    "            if v.get('comment') == \"moving_average\":\n",
    "                price = round(main_df['MWP_PRICE_USD_CN_MA'] - main_df['MWP_PRICE_USD_CN_MA'] * disc, 0)\n",
    "                print('Клиент:', client)\n",
    "                print('Скидка:', disc, '%')\n",
    "                print('Цена:', price[-1], 'dollar')\n",
    "                print('')  \n",
    "            elif v.get('comment') == \"monthly\":\n",
    "                price = round(main_df['MWP_PRICE_USD_CN'] - main_df['MWP_PRICE_USD_CN'] * disc, 0) \n",
    "                print('Клиент:', client)\n",
    "                print('Скидка:', disc, '%')\n",
    "                print('Цена:', price[-1], 'dollar')\n",
    "                print('')  \n",
    "\n",
    "        # сохраним информацию в excel-файл, каждого клиента - на отдельном листе\n",
    "        price.to_excel(writer, sheet_name=client)\n",
    "        \n",
    "        # Добавляем график с ценой\n",
    "        plot_path = f'{client}_wbp.png'\n",
    "        plt.title('Цена DDP (цена с доставкой)', fontsize=16, fontweight='bold')\n",
    "        plt.plot(price)\n",
    "        plt.savefig(plot_path)\n",
    "        plt.close()\n",
    "   #     plt.show()\n",
    "        worksheet = writer.sheets[client]\n",
    "        worksheet.insert_image('C2',plot_path)\n",
    "\n",
    "for k,v in customers.items():\n",
    "    if os.path.exists(f\"{k}_wbp.png\"):\n",
    "        os.remove(f\"{k}_wbp.png\")"
   ]
  },
  {
   "cell_type": "markdown",
   "metadata": {},
   "source": [
    "### 5. Предложим формулу цены каждому из клиентов на условиях DDP (цена с доставкой)\n"
   ]
  },
  {
   "cell_type": "markdown",
   "metadata": {},
   "source": [
    "Итоговая формула:"
   ]
  },
  {
   "cell_type": "markdown",
   "metadata": {},
   "source": [
    "PRICE_CINT_DDP = (PRICE_CINT + LOGISTIC_COST) * (1 - DISC), где \n",
    "\n",
    "- PRICE_CINT - цена синтетического каучука на условии FCA (цена на заводе)\n",
    "- LOGISTIC_COST - затраты на доставку\n",
    "- DISC - размер скидки в зависимости от объема закупки"
   ]
  },
  {
   "cell_type": "markdown",
   "metadata": {},
   "source": [
    "В предыдущем пункте мы рассчитали её отдельно для каждого клиента с учётом комментариев к заказам."
   ]
  },
  {
   "cell_type": "markdown",
   "metadata": {},
   "source": [
    "### 6. Создадим директорию «для клиентов» и в неё сложим файлы с расчетами"
   ]
  },
  {
   "cell_type": "markdown",
   "metadata": {},
   "source": [
    "Создаем директорию для ценовых предложений клиентам"
   ]
  },
  {
   "cell_type": "code",
   "execution_count": 26,
   "metadata": {},
   "outputs": [],
   "source": [
    "price_proposals_path = 'price_proposals_client'\n",
    "\n",
    "if not os.path.exists(price_proposals_path):\n",
    "    os.mkdir(price_proposals_path)"
   ]
  },
  {
   "cell_type": "markdown",
   "metadata": {},
   "source": [
    "### 7. Каждый клиент - отдельный файл (любой из docx, xlsx, pptx, pdf) с именем клиента"
   ]
  },
  {
   "cell_type": "markdown",
   "metadata": {},
   "source": [
    "На основе кода из п.4 запишем предложение для каждого клиента в отдельный файл "
   ]
  },
  {
   "cell_type": "code",
   "execution_count": 27,
   "metadata": {
    "scrolled": true
   },
   "outputs": [
    {
     "name": "stdout",
     "output_type": "stream",
     "text": [
      "Клиент: Monty\n",
      "Скидка: 0.05 %\n",
      "Цена: 701.0 euro\n",
      "\n",
      "Клиент: Triangle\n",
      "Скидка: 0.01 %\n",
      "Цена: 891.0 dollar\n",
      "\n",
      "Клиент: Stone\n",
      "Скидка: 0.05 %\n",
      "Цена: 701.0 euro\n",
      "\n",
      "Клиент: Poly\n",
      "Скидка: 0.01 %\n",
      "Цена: 733.0 euro\n",
      "\n"
     ]
    }
   ],
   "source": [
    "for client, v in customers.items():\n",
    "    client_proposal_file_path = os.path.join(price_proposals_path, f'price_proposals_{client}.xlsx')\n",
    "    disc = 0.0                                  # переменная для скидки\n",
    "    if v.get('location') == \"EU\":\n",
    "        fl = 0                                 # флаг для определения максимальной скидки\n",
    "        for k_lim, discount_share in discounts.items():\n",
    "            if v.get('volumes') > k_lim:\n",
    "                continue\n",
    "            else:\n",
    "                disc = discount_share\n",
    "                fl = 1\n",
    "                break\n",
    "        if fl == 0 :\n",
    "            disc = discounts.get(max(discounts.keys()))            \n",
    "\n",
    "        if v.get('comment') == \"moving_average\":\n",
    "            price = round(main_df['MWP_PRICE_EUR_EU_MA'] - main_df['MWP_PRICE_EUR_EU_MA'] * disc, 0)\n",
    "            print('Клиент:', client)\n",
    "            print('Скидка:', disc, '%')\n",
    "            print('Цена:', price[-1], 'euro')\n",
    "            print('')\n",
    "        elif v.get('comment') == \"monthly\":\n",
    "            price = round(main_df['MWP_PRICE_EUR_EU'] - main_df['MWP_PRICE_EUR_EU'] * disc, 0)            \n",
    "            print('Клиент:', client)\n",
    "            print('Скидка:', disc, '%')\n",
    "            print('Цена:', price[-1], 'euro')\n",
    "            print('')\n",
    "       \n",
    "    elif v.get('location') == 'CN':\n",
    "        fl = 0\n",
    "        for k_lim, discount_share in discounts.items():\n",
    "            if v.get('volumes') > k_lim:\n",
    "                continue\n",
    "            else:\n",
    "                disc = discount_share\n",
    "                fl = 1\n",
    "                break\n",
    "        if fl == 0 :\n",
    "            disc = discounts.get(max(discounts.keys()))                    \n",
    "                    \n",
    "        if v.get('comment') == \"moving_average\":\n",
    "            price = round(main_df['MWP_PRICE_USD_CN_MA'] - main_df['MWP_PRICE_USD_CN_MA'] * disc, 0)\n",
    "            print('Клиент:', client)\n",
    "            print('Скидка:', disc, '%')\n",
    "            print('Цена:', price[-1], 'dollar')\n",
    "            print('')  \n",
    "        elif v.get('comment') == \"monthly\":\n",
    "            price = round(main_df['MWP_PRICE_USD_CN'] - main_df['MWP_PRICE_USD_CN'] * disc, 0) \n",
    "            print('Клиент:', client)\n",
    "            print('Скидка:', disc, '%')\n",
    "            print('Цена:', price[-1], 'dollar')\n",
    "            print('')             \n",
    "                \n",
    "        # сохраним информацию в excel-файл, каждого клиента - на отдельном листе\n",
    "    with pd.ExcelWriter(client_proposal_file_path, engine='xlsxwriter') as writer:\n",
    "        price.to_excel(writer, sheet_name='price_proposal')\n",
    "        \n",
    "        # Добавляем график с ценой\n",
    "        plot_path = f'{client}_wbp.png'\n",
    "        plt.title('Цена DDP (цена с доставкой)', fontsize=16, fontweight='bold')\n",
    "        plt.plot(price)\n",
    "        plt.savefig(plot_path)\n",
    "        plt.close()\n",
    "    #    plt.show()\n",
    "        worksheet = writer.sheets['price_proposal']\n",
    "        worksheet.insert_image('C2',plot_path)\n",
    "        \n",
    "for k,v in customers.items():\n",
    "    if os.path.exists(f\"{k}_wbp.png\"):\n",
    "        os.remove(f\"{k}_wbp.png\")"
   ]
  },
  {
   "cell_type": "markdown",
   "metadata": {
    "pycharm": {
     "name": "#%% md\n"
    }
   },
   "source": [
    "# Задание 2. Продолжение"
   ]
  },
  {
   "cell_type": "markdown",
   "metadata": {
    "pycharm": {
     "name": "#%% md\n"
    }
   },
   "source": [
    "Клиенты согласились на ваше предложение. \n",
    "Вам нужно написать скрипт, с помощью которого можно автоматом рассчитывать цены для всех клиентов одновременно. \n",
    "Важный момент: данные для расчета скрипт должен подтягивать сам.\n",
    "\n",
    "В результате должно быть 3 файла\n",
    "1. Ноутбук с расчетами и графиками (чтобы данные подтягивались туда)\n",
    "2. Скрипт, который делает расчет цены для клиента (чтобы данные подтягивались туда сами)"
   ]
  },
  {
   "cell_type": "code",
   "execution_count": 28,
   "metadata": {
    "pycharm": {
     "name": "#%%\n"
    }
   },
   "outputs": [],
   "source": [
    "# дублирует п.7"
   ]
  },
  {
   "cell_type": "markdown",
   "metadata": {
    "pycharm": {
     "name": "#%% md\n"
    }
   },
   "source": [
    "# Задание 3. Back to Russia\n",
    "\n",
    "К вам пришел новый клиент из России, он готов регулярно закупать синтетический каучук. Клиент готов забирать ВБП с завода самостоятельно.\n",
    "1. На основе тех данных, которые уже есть предложите цену новому клиенту. \n",
    "2. Подготовьте скрипт, который будет использовать курс публикуемый на <a href='http://www.cbr.ru/currency_base/dynamics/'> сайте ЦБ РФ</a> или из любого другого источника.\n"
   ]
  },
  {
   "cell_type": "markdown",
   "metadata": {
    "pycharm": {
     "name": "#%%\n"
    }
   },
   "source": [
    "Вспомним, какие данные есть в нашем датафрэйме"
   ]
  },
  {
   "cell_type": "code",
   "execution_count": 29,
   "metadata": {},
   "outputs": [
    {
     "data": {
      "text/html": [
       "<div>\n",
       "<style scoped>\n",
       "    .dataframe tbody tr th:only-of-type {\n",
       "        vertical-align: middle;\n",
       "    }\n",
       "\n",
       "    .dataframe tbody tr th {\n",
       "        vertical-align: top;\n",
       "    }\n",
       "\n",
       "    .dataframe thead th {\n",
       "        text-align: right;\n",
       "    }\n",
       "</style>\n",
       "<table border=\"1\" class=\"dataframe\">\n",
       "  <thead>\n",
       "    <tr style=\"text-align: right;\">\n",
       "      <th></th>\n",
       "      <th>CRUDE_OIL_USD</th>\n",
       "      <th>USDRUB</th>\n",
       "      <th>EURUSD</th>\n",
       "      <th>EURRUB</th>\n",
       "      <th>MWP_PRICE_EUR</th>\n",
       "      <th>MWP_PRICE_USD</th>\n",
       "      <th>MWP_PRICE_EUR_EU</th>\n",
       "      <th>MWP_PRICE_USD_CN</th>\n",
       "      <th>MWP_PRICE_EUR_EU_MA</th>\n",
       "      <th>MWP_PRICE_USD_CN_MA</th>\n",
       "    </tr>\n",
       "    <tr>\n",
       "      <th>Date</th>\n",
       "      <th></th>\n",
       "      <th></th>\n",
       "      <th></th>\n",
       "      <th></th>\n",
       "      <th></th>\n",
       "      <th></th>\n",
       "      <th></th>\n",
       "      <th></th>\n",
       "      <th></th>\n",
       "      <th></th>\n",
       "    </tr>\n",
       "  </thead>\n",
       "  <tbody>\n",
       "    <tr>\n",
       "      <th>2019-06-30</th>\n",
       "      <td>54.706500</td>\n",
       "      <td>64.168690</td>\n",
       "      <td>1.129002</td>\n",
       "      <td>72.458005</td>\n",
       "      <td>690.787803</td>\n",
       "      <td>822.252130</td>\n",
       "      <td>720.787803</td>\n",
       "      <td>952.252130</td>\n",
       "      <td>NaN</td>\n",
       "      <td>NaN</td>\n",
       "    </tr>\n",
       "    <tr>\n",
       "      <th>2019-07-31</th>\n",
       "      <td>57.546364</td>\n",
       "      <td>63.176222</td>\n",
       "      <td>1.122682</td>\n",
       "      <td>70.956822</td>\n",
       "      <td>692.424839</td>\n",
       "      <td>817.649045</td>\n",
       "      <td>722.424839</td>\n",
       "      <td>947.649045</td>\n",
       "      <td>NaN</td>\n",
       "      <td>NaN</td>\n",
       "    </tr>\n",
       "    <tr>\n",
       "      <th>2019-08-31</th>\n",
       "      <td>54.844091</td>\n",
       "      <td>65.687992</td>\n",
       "      <td>1.113163</td>\n",
       "      <td>73.143709</td>\n",
       "      <td>694.925304</td>\n",
       "      <td>810.716771</td>\n",
       "      <td>724.925304</td>\n",
       "      <td>940.716771</td>\n",
       "      <td>722.712648</td>\n",
       "      <td>946.872648</td>\n",
       "    </tr>\n",
       "  </tbody>\n",
       "</table>\n",
       "</div>"
      ],
      "text/plain": [
       "            CRUDE_OIL_USD     USDRUB    EURUSD     EURRUB  MWP_PRICE_EUR  \\\n",
       "Date                                                                       \n",
       "2019-06-30      54.706500  64.168690  1.129002  72.458005     690.787803   \n",
       "2019-07-31      57.546364  63.176222  1.122682  70.956822     692.424839   \n",
       "2019-08-31      54.844091  65.687992  1.113163  73.143709     694.925304   \n",
       "\n",
       "            MWP_PRICE_USD  MWP_PRICE_EUR_EU  MWP_PRICE_USD_CN  \\\n",
       "Date                                                            \n",
       "2019-06-30     822.252130        720.787803        952.252130   \n",
       "2019-07-31     817.649045        722.424839        947.649045   \n",
       "2019-08-31     810.716771        724.925304        940.716771   \n",
       "\n",
       "            MWP_PRICE_EUR_EU_MA  MWP_PRICE_USD_CN_MA  \n",
       "Date                                                  \n",
       "2019-06-30                  NaN                  NaN  \n",
       "2019-07-31                  NaN                  NaN  \n",
       "2019-08-31           722.712648           946.872648  "
      ]
     },
     "execution_count": 29,
     "metadata": {},
     "output_type": "execute_result"
    }
   ],
   "source": [
    "main_df.head(3)"
   ]
  },
  {
   "cell_type": "markdown",
   "metadata": {},
   "source": [
    "Видим, что у нас есть котировки доллара к рублю. Также у нас есть рассчитанная ранее цена в долларах. Остаётся посчитать цену с учётом курса (переведём в рубли) и без учёта доставки."
   ]
  },
  {
   "cell_type": "code",
   "execution_count": 30,
   "metadata": {},
   "outputs": [
    {
     "data": {
      "text/plain": [
       "Date\n",
       "2019-06-30    47487.0\n",
       "2019-07-31    46490.0\n",
       "2019-08-31    47929.0\n",
       "2019-09-30    46904.0\n",
       "2019-10-31    46595.0\n",
       "Freq: M, Name: MWP_PRICE_RUB, dtype: float64"
      ]
     },
     "execution_count": 30,
     "metadata": {},
     "output_type": "execute_result"
    }
   ],
   "source": [
    "disc = discounts.get(max(discounts.keys()))    \n",
    "main_df['MWP_PRICE_RUB'] = (main_df['MWP_PRICE_USD'] - main_df['MWP_PRICE_USD'] * disc) * main_df['USDRUB']\n",
    "price = round(main_df['MWP_PRICE_RUB'], 0)\n",
    "price.head()"
   ]
  },
  {
   "cell_type": "markdown",
   "metadata": {},
   "source": [
    "Сохраним расчёты в файл, а также выведем в файл график изменения цены на ретро-периодах"
   ]
  },
  {
   "cell_type": "code",
   "execution_count": 31,
   "metadata": {},
   "outputs": [
    {
     "name": "stdout",
     "output_type": "stream",
     "text": [
      "Клиент: client_RU\n",
      "Скидка: 0.1 %\n",
      "Цена: Date\n",
      "2019-06-30    47487.0\n",
      "2019-07-31    46490.0\n",
      "2019-08-31    47929.0\n",
      "2019-09-30    46904.0\n",
      "2019-10-31    46595.0\n",
      "Freq: M, Name: MWP_PRICE_RUB, dtype: float64\n"
     ]
    },
    {
     "data": {
      "image/png": "[encoded data removed]",
      "text/plain": [
       "<Figure size 1080x360 with 1 Axes>"
      ]
     },
     "metadata": {},
     "output_type": "display_data"
    }
   ],
   "source": [
    "client_proposal_file_path = os.path.join(price_proposals_path, 'price_proposals_RU.xlsx')\n",
    "with pd.ExcelWriter(client_proposal_file_path, engine='xlsxwriter') as writer:\n",
    "    price.to_excel(writer, sheet_name='price_proposal')\n",
    "        \n",
    "    # Добавляем график с ценой\n",
    "    plot_path = 'client_RU.png'\n",
    "    plt.title('Цена FCA (цена на заводе, со скидкой)', fontsize=16, fontweight='bold')\n",
    "    plt.plot(price)\n",
    "    plt.savefig(plot_path)\n",
    "    worksheet = writer.sheets['price_proposal']\n",
    "    worksheet.insert_image('C2',plot_path)\n",
    "\n",
    "if os.path.exists('client_RU.png'):\n",
    "    os.remove('client_RU.png')\n",
    "    \n",
    "# Посмотрим, что у нас получилось   \n",
    "\n",
    "print('Клиент: client_RU')\n",
    "print('Скидка:', disc, '%')\n",
    "print('Цена:', price.head())\n",
    "plt.show()    "
   ]
  },
  {
   "cell_type": "markdown",
   "metadata": {
    "pycharm": {
     "name": "#%% md\n"
    }
   },
   "source": [
    "# Задание 4. Check it"
   ]
  },
  {
   "cell_type": "markdown",
   "metadata": {
    "pycharm": {
     "name": "#%% md\n"
    }
   },
   "source": [
    "* Подумайте, как можно проверить корректность работы алгоритма? \n",
    "* Какие возможны ошибки?\n",
    "* Придумайте тесты для проверки возможных ошибок алгоритма\n",
    "* Интергрируйте их в свои скрипты в виде исключений\n"
   ]
  },
  {
   "cell_type": "markdown",
   "metadata": {
    "pycharm": {
     "name": "#%%\n"
    }
   },
   "source": [
    "Алгоритм может споткнуться при отсутствии значений, на основе которых нужно вычислить итоговое ценовое предложение, поэтому:\n",
    "\n",
    "- <font color='red'>**Исключение**</font>: Не указано имя клиента\n",
    "\n",
    "**Вывод**: Введите имя клиента\n",
    "\n",
    "- <font color='red'>**Исключение**</font>: Не указана локация клиента / Указана локация клиента, не предусмотренная в скрипте\n",
    "\n",
    "**Вывод**: Неизвестная локация\n",
    "\n",
    "- <font color='red'>**Исключение**</font>: Не указан объем поставки\n",
    "\n",
    "**Вывод**: Введите объем поставки\n",
    "\n",
    "- <font color='red'>**Исключение**</font>: Не указан способ расчёта цены\n",
    "\n",
    "**Вывод**: Введите способ расчёта цены\n"
   ]
  },
  {
   "cell_type": "code",
   "execution_count": 32,
   "metadata": {
    "scrolled": true
   },
   "outputs": [],
   "source": [
    "for client, v in customers.items():\n",
    "    try:\n",
    "        client_proposal_file_path = os.path.join(price_proposals_path, f'price_proposals_{client}.xlsx')\n",
    "    except:\n",
    "        print('Введите имя клиента')\n",
    "    else:\n",
    "        disc = 0.0                                  # переменная для скидки\n",
    "\n",
    "    try:\n",
    "        if v.get('location') == \"EU\" or v.get('location') == \"CN\":\n",
    "            continue #print('Location is Ok')\n",
    "    except:\n",
    "        print('Не указана локация клиента / Указана локация клиента, не предусмотренная в скрипте')\n",
    "    else:\n",
    "        if v.get('location') == \"EU\":\n",
    "            fl = 0                                 # флаг для определения максимальной скидки\n",
    "            for k_lim, discount_share in discounts.items():\n",
    "                \n",
    "                try:\n",
    "                    if v.get('volumes') is not None:\n",
    "                        continue #print('Volumes is Ok')  \n",
    "                except:\n",
    "                    print('Введите объем поставки')                    \n",
    "                else:                    \n",
    "                    if v.get('volumes') > k_lim:\n",
    "                        continue\n",
    "                    else:\n",
    "                        disc = discount_share\n",
    "                        fl = 1\n",
    "                        break\n",
    "                    if fl == 0:\n",
    "                        disc = discounts.get(max(discounts.keys()))            \n",
    "\n",
    "                try:\n",
    "                    if v.get('comment') is not None:\n",
    "                        continue #print('Comment is Ok')  \n",
    "                except:\n",
    "                    print('Введите способ расчёта цены')                    \n",
    "                else: \n",
    "                    if v.get('comment') == \"moving_average\":\n",
    "                        price = round(main_df['MWP_PRICE_EUR_EU_MA'] - main_df['MWP_PRICE_EUR_EU_MA'] * disc, 0)\n",
    "                        print('Клиент:', client)\n",
    "                        print('Скидка:', disc, '%')\n",
    "                        print('Цена:', price[-1], 'euro')\n",
    "                        print('')\n",
    "                    elif v.get('comment') == \"monthly\":\n",
    "                        price = round(main_df['MWP_PRICE_EUR_EU'] - main_df['MWP_PRICE_EUR_EU'] * disc, 0)            \n",
    "                        print('Клиент:', client)\n",
    "                        print('Скидка:', disc, '%')\n",
    "                        print('Цена:', price[-1], 'euro')\n",
    "                        print('')\n",
    "\n",
    "                    elif v.get('location') == 'CN':\n",
    "                        fl = 0\n",
    "                        for k_lim, discount_share in discounts.items():\n",
    "                            if v.get('volumes') > k_lim:\n",
    "                                continue\n",
    "                            else:\n",
    "                                disc = discount_share\n",
    "                                fl = 1\n",
    "                                break\n",
    "                        if fl == 0 :\n",
    "                            disc = discounts.get(max(discounts.keys()))                    \n",
    "\n",
    "                        if v.get('comment') == \"moving_average\":\n",
    "                            price = round(main_df['MWP_PRICE_USD_CN_MA'] - main_df['MWP_PRICE_USD_CN_MA'] * disc, 0)\n",
    "                            print('Клиент:', client)\n",
    "                            print('Скидка:', disc, '%')\n",
    "                            print('Цена:', price[-1], 'dollar')\n",
    "                            print('')  \n",
    "                        elif v.get('comment') == \"monthly\":\n",
    "                            price = round(main_df['MWP_PRICE_USD_CN'] - main_df['MWP_PRICE_USD_CN'] * disc, 0) \n",
    "                            print('Клиент:', client)\n",
    "                            print('Скидка:', disc, '%')\n",
    "                            print('Цена:', price[-1], 'dollar')\n",
    "                            print('')             \n",
    "\n",
    "                \n",
    "                # сохраним информацию в excel-файл, каждого клиента - на отдельном листе\n",
    "            with pd.ExcelWriter(client_proposal_file_path, engine='xlsxwriter') as writer:\n",
    "                price.to_excel(writer, sheet_name='price_proposal')\n",
    "\n",
    "                # Добавляем график с ценой\n",
    "                plot_path = f'{client}_wbp.png'\n",
    "                plt.title('Цена DDP (цена с доставкой)', fontsize=16, fontweight='bold')\n",
    "                plt.plot(price)\n",
    "                plt.savefig(plot_path)\n",
    "                plt.close()\n",
    "            #    plt.show()\n",
    "                worksheet = writer.sheets['price_proposal']\n",
    "                worksheet.insert_image('C2',plot_path)\n",
    "        \n",
    "for k,v in customers.items():\n",
    "    if os.path.exists(f\"{k}_wbp.png\"):\n",
    "        os.remove(f\"{k}_wbp.png\")"
   ]
  },
  {
   "cell_type": "markdown",
   "metadata": {},
   "source": [
    "*Тут я, видимо, запуталась с исключениями, т.к. ничего не выводит.*"
   ]
  },
  {
   "cell_type": "markdown",
   "metadata": {
    "pycharm": {
     "name": "#%% md\n"
    }
   },
   "source": [
    "# Задание 5. Поделись с ближним"
   ]
  },
  {
   "cell_type": "markdown",
   "metadata": {
    "pycharm": {
     "name": "#%% md\n"
    }
   },
   "source": [
    "Вы решили пойти в отпуск на время вашего отсутствия вас будет заменять коллега. Он будет заниматься рассчетом цен для клиентов. Чтобы ему было проще вам нужно завернуть ваши скрипты в модуль, который будет запускать у себя коллега."
   ]
  },
  {
   "cell_type": "markdown",
   "metadata": {
    "pycharm": {
     "name": "#%% md\n"
    }
   },
   "source": [
    "* Создайте модуль, который можно запускать в ноутбуке подкладывая в ту же директорию\n",
    "* Хорошенько задокументируйте ВСЁ, но помните о PEP8"
   ]
  },
  {
   "cell_type": "markdown",
   "metadata": {},
   "source": [
    "Сохраняем наш скрипт с расчётом цен в модуль"
   ]
  },
  {
   "cell_type": "code",
   "execution_count": 33,
   "metadata": {},
   "outputs": [
    {
     "name": "stdout",
     "output_type": "stream",
     "text": [
      "Overwriting price_proposal_calculation_mod.py\n"
     ]
    }
   ],
   "source": [
    "%%writefile price_proposal_calculation_mod.py\n",
    "\n",
    "import requests\n",
    "import yfinance as yf\n",
    "import pandas as pd\n",
    "import matplotlib.pyplot as plt\n",
    "import seaborn; seaborn.set()\n",
    "from bs4 import BeautifulSoup\n",
    "from tqdm.auto import tqdm\n",
    "import os\n",
    "from pylab import rcParams\n",
    "from datetime import datetime\n",
    "\n",
    "\n",
    "def calculate_price_proposal():\n",
    "    seaborn.set()\n",
    "\n",
    "    # Затраты на производство\n",
    "    PRODUCTION_COST = 400  # (EUR)\n",
    "\n",
    "    # Расходы на логистику\n",
    "    EU_LOGISTIC_COST_EUR = 30  # в Европу в евро\n",
    "    CN_LOGISTIC_COST_USD = 130  # в Китай в долларах\n",
    "\n",
    "    costs = {\n",
    "        'PRODUCTION_COST': PRODUCTION_COST,\n",
    "        'EU_LOGISTIC_COST_EUR': EU_LOGISTIC_COST_EUR,\n",
    "        'CN_LOGISTIC_COST_USD': CN_LOGISTIC_COST_USD,\n",
    "    }\n",
    "\n",
    "    # Справочная информация по клиентам (объемы, локации, комментарии)\n",
    "    customers = {\n",
    "        'Monty': {\n",
    "            'location': 'EU',\n",
    "            'volumes': 350,\n",
    "            'comment': 'moving_average'\n",
    "                    },\n",
    "\n",
    "        'Triangle': {\n",
    "            'location': 'CN',\n",
    "            'volumes': 30,\n",
    "            'comment': 'monthly'\n",
    "                    },\n",
    "        'Stone': {\n",
    "            'location': 'EU',\n",
    "            'volumes': 150,\n",
    "            'comment': 'moving_average'\n",
    "                    },\n",
    "        'Poly': {\n",
    "            'location': 'EU',\n",
    "            'volumes': 70,\n",
    "            'comment': 'monthly'\n",
    "                    }\n",
    "                }\n",
    "    \n",
    "    # Скидки\n",
    "    discounts = {100: 0.01, # 1%\n",
    "                 300: 0.05, # 5%\n",
    "                 301: 0.1}  #10%\n",
    "    #\n",
    "    price_proposals_path = 'price_proposals_client'\n",
    "\n",
    "    # подгружаем котировки курсы\n",
    "    print(\"Подгружаем котировки и курсы\")\n",
    "    df_dict = {}\n",
    "    for ticker in tqdm(['CL=F', 'USDRUB=X', 'EURUSD=X', 'EURRUB=X']):\n",
    "        df = yf.download(ticker, progress=False)\n",
    "        df = df.Close.copy()\n",
    "        df = df.resample('M').mean()\n",
    "        df_dict[ticker] = df  \n",
    "        \n",
    "    # рассчитываем цены\n",
    "    print(\"Рассчитываем цены\")\n",
    "    \n",
    "    # скачаем котировки натурального каучука с сайта Малайзийской Rubber Board https://www.lgm.gov.my\n",
    "    year = '2022'\n",
    "    month = '06'\n",
    "    url = f\"https://www.lgm.gov.my/webv2api/api/rubberprice/month={month}&year={year}\"\n",
    "    res = requests.get(url)\n",
    "    rj = res.json()\n",
    "    df = pd.json_normalize(rj)\n",
    "\n",
    "    # приведём столбцы с датой и ценами к нужным нам типам данных\n",
    "    df['date'] = pd.to_datetime(df['date'])\n",
    "    df['us'] = df['us'].astype(float)\n",
    "\n",
    "    # cинтетический каучук будет заменой натуральному с грейдом SMR 20, сформируем датафрэйм с данными по нему\n",
    "    df_smr_20 = df[df['grade'] == 'SMR 20']\n",
    "    df_smr_20.set_index('date', inplace=True)\n",
    "\n",
    "    # переместим даты в индекс и рассчитаем среднемесячную цену в долларах к последней дате\n",
    "    mes = round(df_smr_20[['us']].resample('M').mean(), 2)\n",
    "\n",
    "    # мы получили среднемесячную цену в us за килограмм, сохраним в отдельную переменную\n",
    "    PRICE_SMR_20 = mes.iloc[0]['us']\n",
    "    PRICE_SMR_20    \n",
    "    \n",
    "    main_df = pd.concat(df_dict.values(), axis=1)\n",
    "    main_df.columns = ['CRUDE_OIL_USD', 'USDRUB', 'EURUSD', 'EURRUB']\n",
    "    \n",
    "    # ограничим данные последними 4 годами:\n",
    "    main_df = main_df.loc['2019-06-30':'2022-06-30'].copy()\n",
    "    \n",
    "    # формулу цены FCA (цена на заводе) синтетического каучука в долларах и евро\n",
    "    main_df['MWP_PRICE_EUR'] = (PRICE_SMR_20 * (1/main_df['EURUSD'])) * 2 + costs.get('PRODUCTION_COST')\n",
    "    main_df['MWP_PRICE_USD'] = (PRICE_SMR_20 * main_df['EURUSD']) * 2 + costs.get('PRODUCTION_COST') * main_df['EURUSD']\n",
    "\n",
    "    # добавим к цене FCA (цена на заводе) затраты на логистику с учётом территории клиента\n",
    "    main_df['MWP_PRICE_EUR_EU'] = main_df['MWP_PRICE_EUR'] + costs.get('EU_LOGISTIC_COST_EUR')\n",
    "    main_df['MWP_PRICE_USD_CN'] = main_df['MWP_PRICE_USD'] + costs.get('CN_LOGISTIC_COST_USD')\n",
    "    \n",
    "    # добавим столбец с со средними ценами за три месяца:\n",
    "    main_df['MWP_PRICE_EUR_EU_MA'] = main_df['MWP_PRICE_EUR_EU'].rolling(window=3).mean()\n",
    "    main_df['MWP_PRICE_USD_CN_MA'] = main_df['MWP_PRICE_USD_CN'].rolling(window=3).mean()\n",
    "\n",
    "\n",
    "    # создаем отдельный файл с расчётом цены для каждого из клиентов         \n",
    "\n",
    "    rcParams['figure.figsize'] = 15,7\n",
    "\n",
    "    print(\"Готовим отдельный файл для клиентов\")\n",
    "    for client, v in customers.items():\n",
    "\n",
    "        # Создаем директорию и путь к файлу\n",
    "        client_proposal_file_path = os.path.join(price_proposals_path, f'price_proposals_{client}.xlsx')\n",
    "        if not os.path.exists(client_proposal_file_path ):\n",
    "            os.makedirs(client_proposal_file_path)\n",
    "\n",
    "        calculation_date = datetime.today().date().strftime(format=\"%d%m%Y\")\n",
    "        client_price_file_path = os.path.join(client_proposal_file_path, f'{client}_mwp_price_{calculation_date}.xlsx')\n",
    "\n",
    "        disc = 0.0  # переменная для скидки\n",
    "        if v.get('location') == \"EU\":\n",
    "            fl = 0                                 # флаг для определения максимальной скидки\n",
    "            for k_lim, discount_share in discounts.items():\n",
    "                if v.get('volumes') > k_lim:\n",
    "                    continue\n",
    "                else:\n",
    "                    disc = discount_share\n",
    "                    fl = 1\n",
    "                    break\n",
    "            if fl == 0:\n",
    "                disc = discounts.get(max(discounts.keys()))\n",
    "              \n",
    "            if v.get('comment') == \"moving_average\":\n",
    "                price = round(main_df['MWP_PRICE_EUR_EU_MA'] - main_df['MWP_PRICE_EUR_EU_MA'] * disc, 0)\n",
    "            elif v.get('comment') == \"monthly\":\n",
    "                price = round(main_df['MWP_PRICE_EUR_EU'] - main_df['MWP_PRICE_EUR_EU'] * disc, 0)                  \n",
    "                 \n",
    "        elif v.get('location') == 'CN':\n",
    "            fl = 0\n",
    "            for k_lim, discount_share in discounts.items():\n",
    "                if v.get('volumes') > k_lim:\n",
    "                    continue\n",
    "                else:\n",
    "                    disc = discount_share\n",
    "                    fl = 1\n",
    "                    break\n",
    "            if fl == 0:\n",
    "                disc = discounts.get(max(discounts.keys()))\n",
    "            \n",
    "            if v.get('comment') == \"moving_average\":\n",
    "                price = round(main_df['MWP_PRICE_USD_CN_MA'] - main_df['MWP_PRICE_USD_CN_MA'] * disc, 0)\n",
    "            elif v.get('comment') == \"monthly\":\n",
    "                price = round(main_df['MWP_PRICE_USD_CN'] - main_df['MWP_PRICE_USD_CN'] * disc, 0)\n",
    "         \n",
    "            \n",
    "            # сохраним информацию в excel-файл, каждого клиента - на отдельном листе            \n",
    "        with pd.ExcelWriter(client_proposal_file_path, engine='xlsxwriter') as writer:\n",
    "            price.to_excel(writer, sheet_name='price_proposal')\n",
    "\n",
    "            # добавим график с ценой\n",
    "            plot_path = f'{client}_wbp.png'\n",
    "            plt.title('Цена DDP (цена с доставкой)', fontsize=16, fontweight='bold')\n",
    "            plt.plot(price)\n",
    "            plt.savefig(plot_path)\n",
    "            plt.close()\n",
    "\n",
    "            worksheet = writer.sheets['price_proposal']\n",
    "            worksheet.insert_image('C2',plot_path)\n",
    "\n",
    "        print(f\"{client} готов\")\n",
    "\n",
    "    print(\"Удаляем ненужные файлы\")\n",
    "    for k, v in customers.items():\n",
    "        if os.path.exists(f\"{k}_wbp.png\"):\n",
    "            os.remove(f\"{k}_wbp.png\")\n",
    "\n",
    "    print(\"Работа завершена!\")\n",
    "\n",
    "if __name__ == \"__main__\":\n",
    "    calculate_prices()"
   ]
  },
  {
   "cell_type": "markdown",
   "metadata": {},
   "source": [
    "Импортируем модуль"
   ]
  },
  {
   "cell_type": "code",
   "execution_count": 34,
   "metadata": {},
   "outputs": [],
   "source": [
    "from price_proposal_calculation_mod import calculate_price_proposal"
   ]
  },
  {
   "cell_type": "markdown",
   "metadata": {},
   "source": [
    "Проверяем, что всё корректно"
   ]
  },
  {
   "cell_type": "code",
   "execution_count": 35,
   "metadata": {},
   "outputs": [
    {
     "name": "stdout",
     "output_type": "stream",
     "text": [
      "Подгружаем котировки и курсы\n"
     ]
    },
    {
     "data": {
      "application/vnd.jupyter.widget-view+json": {
       "model_id": "3916c9ea81ae4679a523ed50536ab255",
       "version_major": 2,
       "version_minor": 0
      },
      "text/plain": [
       "HBox(children=(FloatProgress(value=0.0, max=4.0), HTML(value='')))"
      ]
     },
     "metadata": {},
     "output_type": "display_data"
    },
    {
     "name": "stdout",
     "output_type": "stream",
     "text": [
      "\n",
      "Рассчитываем цены\n",
      "Готовим отдельный файл для клиентов\n",
      "Monty готов\n",
      "Triangle готов\n",
      "Stone готов\n",
      "Poly готов\n",
      "Удаляем ненужные файлы\n",
      "Работа завершена!\n"
     ]
    }
   ],
   "source": [
    "calculate_price_proposal()"
   ]
  },
  {
   "cell_type": "markdown",
   "metadata": {
    "pycharm": {
     "name": "#%% md\n"
    }
   },
   "source": [
    "# Задание 6. Поделись пакетом"
   ]
  },
  {
   "cell_type": "markdown",
   "metadata": {
    "pycharm": {
     "name": "#%% md\n"
    }
   },
   "source": [
    "Ваши коллеги узнали, что вы быстро рассчитываете цены для формульных контрактов, и решили использовать такую же практику для своих продуктов и клиентов. Вам нужно создать пакет, чтобы его было проще устанавливать и использовать."
   ]
  },
  {
   "cell_type": "markdown",
   "metadata": {
    "pycharm": {
     "name": "#%% md\n"
    }
   },
   "source": [
    "* Создайте отдельный пакет, который можно устанавливать с помощью pip \n",
    "* В пакете должны быть реализованы функции для рассчета цен по формульным контрактам\n",
    "* Выложите пакет в репозиторий"
   ]
  },
  {
   "cell_type": "code",
   "execution_count": 36,
   "metadata": {
    "pycharm": {
     "name": "#%%\n"
    }
   },
   "outputs": [],
   "source": [
    "# !pip install yourpackage\n",
    "# import yourpackage"
   ]
  },
  {
   "cell_type": "markdown",
   "metadata": {},
   "source": [
    "*Этот раздел ещё не разобрали.*"
   ]
  }
 ],
 "metadata": {
  "kernelspec": {
   "display_name": "Python 3",
   "language": "python",
   "name": "python3"
  },
  "language_info": {
   "codemirror_mode": {
    "name": "ipython",
    "version": 3
   },
   "file_extension": ".py",
   "mimetype": "text/x-python",
   "name": "python",
   "nbconvert_exporter": "python",
   "pygments_lexer": "ipython3",
   "version": "3.7.6"
  }
 },
 "nbformat": 4,
 "nbformat_minor": 2
}

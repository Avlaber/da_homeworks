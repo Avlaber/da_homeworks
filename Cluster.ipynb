{
 "cells": [
  {
   "cell_type": "markdown",
   "metadata": {
    "pycharm": {
     "name": "#%% md\n"
    }
   },
   "source": [
    "# Задание"
   ]
  },
  {
   "cell_type": "markdown",
   "metadata": {
    "pycharm": {
     "name": "#%% md\n"
    }
   },
   "source": [
    "### Основная часть"
   ]
  },
  {
   "cell_type": "markdown",
   "metadata": {
    "pycharm": {
     "name": "#%% md\n"
    }
   },
   "source": [
    "* Проанализируйте и опишите данный датасет, используя все возможные графики из тех, что были на уроке Matplotlib, Seaborn, Plotly\n",
    "* Используйте также описательные статистики\n",
    "* У каждого построенного графика должен быть соответствующий вывод, который описывает наблюдение или инсайт"
   ]
  },
  {
   "cell_type": "markdown",
   "metadata": {
    "pycharm": {
     "name": "#%% md\n"
    }
   },
   "source": [
    "# Описания полей"
   ]
  },
  {
   "cell_type": "markdown",
   "metadata": {
    "pycharm": {
     "name": "#%% md\n"
    }
   },
   "source": [
    "* age\t- возраст\n",
    "* gender\t- пол repexc_date\n",
    "* city_type\t- Тип города проживания клиента\n",
    "* full_mob\t- Длительность взаимоотношений с банком\n",
    "\n",
    "\n",
    "* ml_balance\t- ипотека\n",
    "* cl_balance_0m\t- потребительский кредит\n",
    "* loan_balance_0m\t- все кредиты\n",
    "* td_balance_0m\t- депозит\n",
    "* casa_balance_0m\t- счета\n",
    "\n",
    "\n",
    "* dc_trx_cnt\t- количество трат по картам\n",
    "* dc_trx_sum\t- сумма трат по картам\n",
    "* Avg_trx\t- средний размер транзакции\n",
    "* avgtrx_to_balance\t- отношение среднего размера транзакции к балансу\n",
    "\n",
    "\n",
    "* min_casa_balance_1q\t- показатели по счетам за квартал\n",
    "* max_casa_balance_1q\t\n",
    "* avg_casa_balance_1Y\t- показатели по счетам за год\n",
    "\n",
    "\n",
    "* min_td_balance_1q\t    - показатели по депозитам за квартал\n",
    "* max_td_balance_1q\t\n",
    "* avg_td_balance_1Y\t    - показатели по депозитам за год\n",
    "\n",
    "\n",
    "* min_loan_balance_1q\t   - показатели по всем кредитам за квартал\t\n",
    "* max_loan_balance_1q\t\n",
    "* avg_loan_balance_1Y\t   - показатели по всем кредитам за год\n",
    "\n",
    "\n",
    "* min_cl_balance_1q\t\t- показатели по потребительским кредитам за квартал\n",
    "* max_cl_balance_1q\t\n",
    "* avg_cl_balance_1Y\t    - показатели по потребительским кредитам за год\t\n",
    "* loan_to_deposit\t- отношение кредитов к депозитам\n",
    "\n",
    "\n",
    "* income\t- доход клиента\n",
    "* nbi\t- доход от клиента без OPEX (чистый бизнес доход)"
   ]
  },
  {
   "cell_type": "markdown",
   "metadata": {},
   "source": [
    "### План:\n",
    "1. [Загрузим и изучим данные](#researchdata)  \n",
    "2. [Изучим и визуализируем данные](#analyzedata)  "
   ]
  },
  {
   "cell_type": "markdown",
   "metadata": {},
   "source": [
    "<a name=\"researchdata\"></a>\n",
    "\n",
    "## Загрузим и изучим данные"
   ]
  },
  {
   "cell_type": "markdown",
   "metadata": {},
   "source": [
    "Импортируем библиотеки:"
   ]
  },
  {
   "cell_type": "code",
   "execution_count": 635,
   "metadata": {
    "pycharm": {
     "name": "#%%\n"
    }
   },
   "outputs": [],
   "source": [
    "%matplotlib inline\n",
    "import pandas as pd\n",
    "import matplotlib.pyplot as plt\n",
    "import seaborn as sns\n",
    "import plotly.express as px\n",
    "import numpy as np\n",
    "from scipy import stats\n",
    "from tqdm.auto import tqdm"
   ]
  },
  {
   "cell_type": "markdown",
   "metadata": {},
   "source": [
    "Загружаем файл с данными клиентов банка:"
   ]
  },
  {
   "cell_type": "code",
   "execution_count": 636,
   "metadata": {
    "pycharm": {
     "name": "#%%\n"
    }
   },
   "outputs": [
    {
     "data": {
      "text/html": [
       "<div>\n",
       "<style scoped>\n",
       "    .dataframe tbody tr th:only-of-type {\n",
       "        vertical-align: middle;\n",
       "    }\n",
       "\n",
       "    .dataframe tbody tr th {\n",
       "        vertical-align: top;\n",
       "    }\n",
       "\n",
       "    .dataframe thead th {\n",
       "        text-align: right;\n",
       "    }\n",
       "</style>\n",
       "<table border=\"1\" class=\"dataframe\">\n",
       "  <thead>\n",
       "    <tr style=\"text-align: right;\">\n",
       "      <th></th>\n",
       "      <th>age</th>\n",
       "      <th>gender</th>\n",
       "      <th>city_type</th>\n",
       "      <th>full_mob</th>\n",
       "      <th>ml_balance</th>\n",
       "      <th>cl_balance_0m</th>\n",
       "      <th>loan_balance_0m</th>\n",
       "      <th>td_balance_0m</th>\n",
       "      <th>casa_balance_0m</th>\n",
       "      <th>dc_trx_cnt</th>\n",
       "      <th>...</th>\n",
       "      <th>min_loan_balance_1q</th>\n",
       "      <th>max_loan_balance_1q</th>\n",
       "      <th>avg_loan_balance_1Y</th>\n",
       "      <th>min_cl_balance_1q</th>\n",
       "      <th>max_cl_balance_1q</th>\n",
       "      <th>avg_cl_balance_1Y</th>\n",
       "      <th>loan_to_deposit</th>\n",
       "      <th>Avg_trx</th>\n",
       "      <th>avgtrx_to_balance</th>\n",
       "      <th>nbi</th>\n",
       "    </tr>\n",
       "  </thead>\n",
       "  <tbody>\n",
       "    <tr>\n",
       "      <th>0</th>\n",
       "      <td>71</td>\n",
       "      <td>NaN</td>\n",
       "      <td>&lt;100</td>\n",
       "      <td>103</td>\n",
       "      <td>0.0</td>\n",
       "      <td>0.0</td>\n",
       "      <td>0.00</td>\n",
       "      <td>0.0</td>\n",
       "      <td>0.000000e+00</td>\n",
       "      <td>0</td>\n",
       "      <td>...</td>\n",
       "      <td>0.00</td>\n",
       "      <td>0.00</td>\n",
       "      <td>0.000000</td>\n",
       "      <td>0.0</td>\n",
       "      <td>0.0</td>\n",
       "      <td>0.0</td>\n",
       "      <td>NaN</td>\n",
       "      <td>NaN</td>\n",
       "      <td>NaN</td>\n",
       "      <td>NaN</td>\n",
       "    </tr>\n",
       "    <tr>\n",
       "      <th>1</th>\n",
       "      <td>49</td>\n",
       "      <td>NaN</td>\n",
       "      <td>Mega</td>\n",
       "      <td>81</td>\n",
       "      <td>0.0</td>\n",
       "      <td>0.0</td>\n",
       "      <td>0.00</td>\n",
       "      <td>0.0</td>\n",
       "      <td>3.272937e+03</td>\n",
       "      <td>0</td>\n",
       "      <td>...</td>\n",
       "      <td>0.00</td>\n",
       "      <td>0.00</td>\n",
       "      <td>0.000000</td>\n",
       "      <td>0.0</td>\n",
       "      <td>0.0</td>\n",
       "      <td>0.0</td>\n",
       "      <td>NaN</td>\n",
       "      <td>NaN</td>\n",
       "      <td>NaN</td>\n",
       "      <td>28.762952</td>\n",
       "    </tr>\n",
       "    <tr>\n",
       "      <th>2</th>\n",
       "      <td>56</td>\n",
       "      <td>NaN</td>\n",
       "      <td>Mega</td>\n",
       "      <td>81</td>\n",
       "      <td>0.0</td>\n",
       "      <td>0.0</td>\n",
       "      <td>0.00</td>\n",
       "      <td>0.0</td>\n",
       "      <td>6.249755e+03</td>\n",
       "      <td>6</td>\n",
       "      <td>...</td>\n",
       "      <td>0.00</td>\n",
       "      <td>0.00</td>\n",
       "      <td>0.000000</td>\n",
       "      <td>0.0</td>\n",
       "      <td>0.0</td>\n",
       "      <td>0.0</td>\n",
       "      <td>NaN</td>\n",
       "      <td>854.670000</td>\n",
       "      <td>0.083467</td>\n",
       "      <td>1973.335539</td>\n",
       "    </tr>\n",
       "    <tr>\n",
       "      <th>3</th>\n",
       "      <td>47</td>\n",
       "      <td>NaN</td>\n",
       "      <td>Mega</td>\n",
       "      <td>81</td>\n",
       "      <td>0.0</td>\n",
       "      <td>0.0</td>\n",
       "      <td>0.00</td>\n",
       "      <td>0.0</td>\n",
       "      <td>1.435494e+04</td>\n",
       "      <td>0</td>\n",
       "      <td>...</td>\n",
       "      <td>0.00</td>\n",
       "      <td>0.00</td>\n",
       "      <td>0.000000</td>\n",
       "      <td>0.0</td>\n",
       "      <td>0.0</td>\n",
       "      <td>0.0</td>\n",
       "      <td>NaN</td>\n",
       "      <td>NaN</td>\n",
       "      <td>NaN</td>\n",
       "      <td>364.008556</td>\n",
       "    </tr>\n",
       "    <tr>\n",
       "      <th>4</th>\n",
       "      <td>74</td>\n",
       "      <td>NaN</td>\n",
       "      <td>Mega</td>\n",
       "      <td>81</td>\n",
       "      <td>0.0</td>\n",
       "      <td>0.0</td>\n",
       "      <td>0.00</td>\n",
       "      <td>0.0</td>\n",
       "      <td>9.151177e+04</td>\n",
       "      <td>0</td>\n",
       "      <td>...</td>\n",
       "      <td>0.00</td>\n",
       "      <td>0.00</td>\n",
       "      <td>0.000000</td>\n",
       "      <td>0.0</td>\n",
       "      <td>0.0</td>\n",
       "      <td>0.0</td>\n",
       "      <td>NaN</td>\n",
       "      <td>NaN</td>\n",
       "      <td>NaN</td>\n",
       "      <td>6651.416562</td>\n",
       "    </tr>\n",
       "    <tr>\n",
       "      <th>5</th>\n",
       "      <td>72</td>\n",
       "      <td>М</td>\n",
       "      <td>Mega</td>\n",
       "      <td>50</td>\n",
       "      <td>0.0</td>\n",
       "      <td>0.0</td>\n",
       "      <td>0.00</td>\n",
       "      <td>0.0</td>\n",
       "      <td>9.369080e+04</td>\n",
       "      <td>0</td>\n",
       "      <td>...</td>\n",
       "      <td>0.00</td>\n",
       "      <td>0.00</td>\n",
       "      <td>0.000000</td>\n",
       "      <td>0.0</td>\n",
       "      <td>0.0</td>\n",
       "      <td>0.0</td>\n",
       "      <td>NaN</td>\n",
       "      <td>NaN</td>\n",
       "      <td>NaN</td>\n",
       "      <td>2433.644326</td>\n",
       "    </tr>\n",
       "    <tr>\n",
       "      <th>6</th>\n",
       "      <td>46</td>\n",
       "      <td>NaN</td>\n",
       "      <td>&lt;100</td>\n",
       "      <td>81</td>\n",
       "      <td>0.0</td>\n",
       "      <td>0.0</td>\n",
       "      <td>0.00</td>\n",
       "      <td>0.0</td>\n",
       "      <td>5.350795e+03</td>\n",
       "      <td>0</td>\n",
       "      <td>...</td>\n",
       "      <td>0.00</td>\n",
       "      <td>0.00</td>\n",
       "      <td>0.000000</td>\n",
       "      <td>0.0</td>\n",
       "      <td>0.0</td>\n",
       "      <td>0.0</td>\n",
       "      <td>NaN</td>\n",
       "      <td>NaN</td>\n",
       "      <td>NaN</td>\n",
       "      <td>177.408546</td>\n",
       "    </tr>\n",
       "    <tr>\n",
       "      <th>7</th>\n",
       "      <td>62</td>\n",
       "      <td>NaN</td>\n",
       "      <td>&lt;100</td>\n",
       "      <td>56</td>\n",
       "      <td>0.0</td>\n",
       "      <td>0.0</td>\n",
       "      <td>0.00</td>\n",
       "      <td>0.0</td>\n",
       "      <td>4.783591e+04</td>\n",
       "      <td>0</td>\n",
       "      <td>...</td>\n",
       "      <td>0.00</td>\n",
       "      <td>0.00</td>\n",
       "      <td>0.000000</td>\n",
       "      <td>0.0</td>\n",
       "      <td>0.0</td>\n",
       "      <td>0.0</td>\n",
       "      <td>NaN</td>\n",
       "      <td>NaN</td>\n",
       "      <td>NaN</td>\n",
       "      <td>1284.357885</td>\n",
       "    </tr>\n",
       "    <tr>\n",
       "      <th>8</th>\n",
       "      <td>39</td>\n",
       "      <td>NaN</td>\n",
       "      <td>100-500</td>\n",
       "      <td>13</td>\n",
       "      <td>0.0</td>\n",
       "      <td>0.0</td>\n",
       "      <td>0.00</td>\n",
       "      <td>0.0</td>\n",
       "      <td>2.919013e+06</td>\n",
       "      <td>0</td>\n",
       "      <td>...</td>\n",
       "      <td>0.00</td>\n",
       "      <td>0.00</td>\n",
       "      <td>0.000000</td>\n",
       "      <td>0.0</td>\n",
       "      <td>0.0</td>\n",
       "      <td>0.0</td>\n",
       "      <td>NaN</td>\n",
       "      <td>NaN</td>\n",
       "      <td>NaN</td>\n",
       "      <td>17397.286761</td>\n",
       "    </tr>\n",
       "    <tr>\n",
       "      <th>9</th>\n",
       "      <td>36</td>\n",
       "      <td>М</td>\n",
       "      <td>&lt;100</td>\n",
       "      <td>154</td>\n",
       "      <td>0.0</td>\n",
       "      <td>0.0</td>\n",
       "      <td>32413.52</td>\n",
       "      <td>0.0</td>\n",
       "      <td>0.000000e+00</td>\n",
       "      <td>83</td>\n",
       "      <td>...</td>\n",
       "      <td>32413.52</td>\n",
       "      <td>34119.49</td>\n",
       "      <td>38051.374167</td>\n",
       "      <td>0.0</td>\n",
       "      <td>0.0</td>\n",
       "      <td>0.0</td>\n",
       "      <td>NaN</td>\n",
       "      <td>3915.032892</td>\n",
       "      <td>4.383411</td>\n",
       "      <td>6065.052515</td>\n",
       "    </tr>\n",
       "    <tr>\n",
       "      <th>10</th>\n",
       "      <td>56</td>\n",
       "      <td>F</td>\n",
       "      <td>&lt;100</td>\n",
       "      <td>165</td>\n",
       "      <td>0.0</td>\n",
       "      <td>0.0</td>\n",
       "      <td>61189.99</td>\n",
       "      <td>70000.0</td>\n",
       "      <td>1.524580e+03</td>\n",
       "      <td>341</td>\n",
       "      <td>...</td>\n",
       "      <td>44360.86</td>\n",
       "      <td>61189.99</td>\n",
       "      <td>43218.413333</td>\n",
       "      <td>0.0</td>\n",
       "      <td>0.0</td>\n",
       "      <td>0.0</td>\n",
       "      <td>0.617406</td>\n",
       "      <td>1323.992698</td>\n",
       "      <td>0.226536</td>\n",
       "      <td>8009.940315</td>\n",
       "    </tr>\n",
       "    <tr>\n",
       "      <th>11</th>\n",
       "      <td>19</td>\n",
       "      <td>М</td>\n",
       "      <td>100-500</td>\n",
       "      <td>40</td>\n",
       "      <td>0.0</td>\n",
       "      <td>0.0</td>\n",
       "      <td>0.00</td>\n",
       "      <td>0.0</td>\n",
       "      <td>1.965000e+01</td>\n",
       "      <td>72</td>\n",
       "      <td>...</td>\n",
       "      <td>0.00</td>\n",
       "      <td>0.00</td>\n",
       "      <td>0.000000</td>\n",
       "      <td>0.0</td>\n",
       "      <td>0.0</td>\n",
       "      <td>0.0</td>\n",
       "      <td>NaN</td>\n",
       "      <td>215.688611</td>\n",
       "      <td>0.992718</td>\n",
       "      <td>684.233442</td>\n",
       "    </tr>\n",
       "    <tr>\n",
       "      <th>12</th>\n",
       "      <td>20</td>\n",
       "      <td>F</td>\n",
       "      <td>1M+</td>\n",
       "      <td>3</td>\n",
       "      <td>0.0</td>\n",
       "      <td>0.0</td>\n",
       "      <td>0.00</td>\n",
       "      <td>0.0</td>\n",
       "      <td>1.033817e+04</td>\n",
       "      <td>105</td>\n",
       "      <td>...</td>\n",
       "      <td>0.00</td>\n",
       "      <td>0.00</td>\n",
       "      <td>0.000000</td>\n",
       "      <td>0.0</td>\n",
       "      <td>0.0</td>\n",
       "      <td>0.0</td>\n",
       "      <td>NaN</td>\n",
       "      <td>1202.188857</td>\n",
       "      <td>0.063129</td>\n",
       "      <td>157.694118</td>\n",
       "    </tr>\n",
       "    <tr>\n",
       "      <th>13</th>\n",
       "      <td>51</td>\n",
       "      <td>М</td>\n",
       "      <td>100-500</td>\n",
       "      <td>37</td>\n",
       "      <td>0.0</td>\n",
       "      <td>0.0</td>\n",
       "      <td>0.00</td>\n",
       "      <td>0.0</td>\n",
       "      <td>8.738120e+03</td>\n",
       "      <td>189</td>\n",
       "      <td>...</td>\n",
       "      <td>0.00</td>\n",
       "      <td>0.00</td>\n",
       "      <td>0.000000</td>\n",
       "      <td>0.0</td>\n",
       "      <td>0.0</td>\n",
       "      <td>0.0</td>\n",
       "      <td>NaN</td>\n",
       "      <td>4145.593968</td>\n",
       "      <td>0.130954</td>\n",
       "      <td>3054.122311</td>\n",
       "    </tr>\n",
       "    <tr>\n",
       "      <th>14</th>\n",
       "      <td>50</td>\n",
       "      <td>F</td>\n",
       "      <td>100-500</td>\n",
       "      <td>156</td>\n",
       "      <td>0.0</td>\n",
       "      <td>0.0</td>\n",
       "      <td>521337.41</td>\n",
       "      <td>0.0</td>\n",
       "      <td>5.002000e+01</td>\n",
       "      <td>16</td>\n",
       "      <td>...</td>\n",
       "      <td>521337.41</td>\n",
       "      <td>530412.52</td>\n",
       "      <td>374931.774170</td>\n",
       "      <td>0.0</td>\n",
       "      <td>0.0</td>\n",
       "      <td>0.0</td>\n",
       "      <td>NaN</td>\n",
       "      <td>15225.000000</td>\n",
       "      <td>40.617059</td>\n",
       "      <td>57309.483796</td>\n",
       "    </tr>\n",
       "  </tbody>\n",
       "</table>\n",
       "<p>15 rows × 28 columns</p>\n",
       "</div>"
      ],
      "text/plain": [
       "    age gender city_type  full_mob  ml_balance  cl_balance_0m  \\\n",
       "0    71    NaN      <100       103         0.0            0.0   \n",
       "1    49    NaN      Mega        81         0.0            0.0   \n",
       "2    56    NaN      Mega        81         0.0            0.0   \n",
       "3    47    NaN      Mega        81         0.0            0.0   \n",
       "4    74    NaN      Mega        81         0.0            0.0   \n",
       "5    72      М      Mega        50         0.0            0.0   \n",
       "6    46    NaN      <100        81         0.0            0.0   \n",
       "7    62    NaN      <100        56         0.0            0.0   \n",
       "8    39    NaN   100-500        13         0.0            0.0   \n",
       "9    36      М      <100       154         0.0            0.0   \n",
       "10   56      F      <100       165         0.0            0.0   \n",
       "11   19      М   100-500        40         0.0            0.0   \n",
       "12   20      F       1M+         3         0.0            0.0   \n",
       "13   51      М   100-500        37         0.0            0.0   \n",
       "14   50      F   100-500       156         0.0            0.0   \n",
       "\n",
       "    loan_balance_0m  td_balance_0m  casa_balance_0m  dc_trx_cnt  ...  \\\n",
       "0              0.00            0.0     0.000000e+00           0  ...   \n",
       "1              0.00            0.0     3.272937e+03           0  ...   \n",
       "2              0.00            0.0     6.249755e+03           6  ...   \n",
       "3              0.00            0.0     1.435494e+04           0  ...   \n",
       "4              0.00            0.0     9.151177e+04           0  ...   \n",
       "5              0.00            0.0     9.369080e+04           0  ...   \n",
       "6              0.00            0.0     5.350795e+03           0  ...   \n",
       "7              0.00            0.0     4.783591e+04           0  ...   \n",
       "8              0.00            0.0     2.919013e+06           0  ...   \n",
       "9          32413.52            0.0     0.000000e+00          83  ...   \n",
       "10         61189.99        70000.0     1.524580e+03         341  ...   \n",
       "11             0.00            0.0     1.965000e+01          72  ...   \n",
       "12             0.00            0.0     1.033817e+04         105  ...   \n",
       "13             0.00            0.0     8.738120e+03         189  ...   \n",
       "14        521337.41            0.0     5.002000e+01          16  ...   \n",
       "\n",
       "    min_loan_balance_1q  max_loan_balance_1q  avg_loan_balance_1Y  \\\n",
       "0                  0.00                 0.00             0.000000   \n",
       "1                  0.00                 0.00             0.000000   \n",
       "2                  0.00                 0.00             0.000000   \n",
       "3                  0.00                 0.00             0.000000   \n",
       "4                  0.00                 0.00             0.000000   \n",
       "5                  0.00                 0.00             0.000000   \n",
       "6                  0.00                 0.00             0.000000   \n",
       "7                  0.00                 0.00             0.000000   \n",
       "8                  0.00                 0.00             0.000000   \n",
       "9              32413.52             34119.49         38051.374167   \n",
       "10             44360.86             61189.99         43218.413333   \n",
       "11                 0.00                 0.00             0.000000   \n",
       "12                 0.00                 0.00             0.000000   \n",
       "13                 0.00                 0.00             0.000000   \n",
       "14            521337.41            530412.52        374931.774170   \n",
       "\n",
       "    min_cl_balance_1q  max_cl_balance_1q  avg_cl_balance_1Y  loan_to_deposit  \\\n",
       "0                 0.0                0.0                0.0              NaN   \n",
       "1                 0.0                0.0                0.0              NaN   \n",
       "2                 0.0                0.0                0.0              NaN   \n",
       "3                 0.0                0.0                0.0              NaN   \n",
       "4                 0.0                0.0                0.0              NaN   \n",
       "5                 0.0                0.0                0.0              NaN   \n",
       "6                 0.0                0.0                0.0              NaN   \n",
       "7                 0.0                0.0                0.0              NaN   \n",
       "8                 0.0                0.0                0.0              NaN   \n",
       "9                 0.0                0.0                0.0              NaN   \n",
       "10                0.0                0.0                0.0         0.617406   \n",
       "11                0.0                0.0                0.0              NaN   \n",
       "12                0.0                0.0                0.0              NaN   \n",
       "13                0.0                0.0                0.0              NaN   \n",
       "14                0.0                0.0                0.0              NaN   \n",
       "\n",
       "         Avg_trx  avgtrx_to_balance           nbi  \n",
       "0            NaN                NaN           NaN  \n",
       "1            NaN                NaN     28.762952  \n",
       "2     854.670000           0.083467   1973.335539  \n",
       "3            NaN                NaN    364.008556  \n",
       "4            NaN                NaN   6651.416562  \n",
       "5            NaN                NaN   2433.644326  \n",
       "6            NaN                NaN    177.408546  \n",
       "7            NaN                NaN   1284.357885  \n",
       "8            NaN                NaN  17397.286761  \n",
       "9    3915.032892           4.383411   6065.052515  \n",
       "10   1323.992698           0.226536   8009.940315  \n",
       "11    215.688611           0.992718    684.233442  \n",
       "12   1202.188857           0.063129    157.694118  \n",
       "13   4145.593968           0.130954   3054.122311  \n",
       "14  15225.000000          40.617059  57309.483796  \n",
       "\n",
       "[15 rows x 28 columns]"
      ]
     },
     "execution_count": 636,
     "metadata": {},
     "output_type": "execute_result"
    }
   ],
   "source": [
    "data_client = pd.read_csv('test_cluster.csv', encoding='cp1251', sep=';')\n",
    "\n",
    "data_client.head(15)"
   ]
  },
  {
   "cell_type": "markdown",
   "metadata": {},
   "source": [
    "**Посмотрим на общую информацию по датасету и предобработаем данные**"
   ]
  },
  {
   "cell_type": "code",
   "execution_count": 637,
   "metadata": {
    "pycharm": {
     "name": "#%%\n"
    },
    "scrolled": false
   },
   "outputs": [
    {
     "name": "stdout",
     "output_type": "stream",
     "text": [
      "<class 'pandas.core.frame.DataFrame'>\n",
      "RangeIndex: 50000 entries, 0 to 49999\n",
      "Data columns (total 28 columns):\n",
      " #   Column               Non-Null Count  Dtype  \n",
      "---  ------               --------------  -----  \n",
      " 0   age                  50000 non-null  int64  \n",
      " 1   gender               49277 non-null  object \n",
      " 2   city_type            50000 non-null  object \n",
      " 3   full_mob             50000 non-null  int64  \n",
      " 4   ml_balance           50000 non-null  float64\n",
      " 5   cl_balance_0m        50000 non-null  float64\n",
      " 6   loan_balance_0m      50000 non-null  float64\n",
      " 7   td_balance_0m        50000 non-null  float64\n",
      " 8   casa_balance_0m      50000 non-null  float64\n",
      " 9   dc_trx_cnt           50000 non-null  int64  \n",
      " 10  dc_trx_sum           50000 non-null  float64\n",
      " 11  income               50000 non-null  float64\n",
      " 12  min_casa_balance_1q  50000 non-null  float64\n",
      " 13  max_casa_balance_1q  50000 non-null  float64\n",
      " 14  avg_casa_balance_1Y  50000 non-null  float64\n",
      " 15  min_td_balance_1q    50000 non-null  float64\n",
      " 16  max_td_balance_1q    50000 non-null  float64\n",
      " 17  avg_td_balance_1Y    50000 non-null  float64\n",
      " 18  min_loan_balance_1q  50000 non-null  float64\n",
      " 19  max_loan_balance_1q  50000 non-null  float64\n",
      " 20  avg_loan_balance_1Y  50000 non-null  float64\n",
      " 21  min_cl_balance_1q    50000 non-null  float64\n",
      " 22  max_cl_balance_1q    50000 non-null  float64\n",
      " 23  avg_cl_balance_1Y    50000 non-null  float64\n",
      " 24  loan_to_deposit      3820 non-null   float64\n",
      " 25  Avg_trx              32128 non-null  float64\n",
      " 26  avgtrx_to_balance    31515 non-null  float64\n",
      " 27  nbi                  47569 non-null  float64\n",
      "dtypes: float64(23), int64(3), object(2)\n",
      "memory usage: 10.7+ MB\n"
     ]
    }
   ],
   "source": [
    "data_client.info()"
   ]
  },
  {
   "cell_type": "markdown",
   "metadata": {},
   "source": [
    "Типы данных соответствуют указанным данным в столбцах."
   ]
  },
  {
   "cell_type": "markdown",
   "metadata": {},
   "source": [
    "**Проверим дубликаты**"
   ]
  },
  {
   "cell_type": "code",
   "execution_count": 638,
   "metadata": {},
   "outputs": [
    {
     "data": {
      "text/plain": [
       "26"
      ]
     },
     "execution_count": 638,
     "metadata": {},
     "output_type": "execute_result"
    }
   ],
   "source": [
    "data_client.duplicated().sum()"
   ]
  },
  {
   "cell_type": "markdown",
   "metadata": {},
   "source": [
    "Т.к. дубликаты составляют совсем малую часть от общих данных, удалим дубли, чтобы не засорять датасет"
   ]
  },
  {
   "cell_type": "code",
   "execution_count": 639,
   "metadata": {},
   "outputs": [],
   "source": [
    "data_client = data_client.drop_duplicates()"
   ]
  },
  {
   "cell_type": "markdown",
   "metadata": {},
   "source": [
    "**Посмотрим на пропуски в данных**"
   ]
  },
  {
   "cell_type": "code",
   "execution_count": 640,
   "metadata": {},
   "outputs": [
    {
     "data": {
      "text/plain": [
       "age                        0\n",
       "gender                   723\n",
       "city_type                  0\n",
       "full_mob                   0\n",
       "ml_balance                 0\n",
       "cl_balance_0m              0\n",
       "loan_balance_0m            0\n",
       "td_balance_0m              0\n",
       "casa_balance_0m            0\n",
       "dc_trx_cnt                 0\n",
       "dc_trx_sum                 0\n",
       "income                     0\n",
       "min_casa_balance_1q        0\n",
       "max_casa_balance_1q        0\n",
       "avg_casa_balance_1Y        0\n",
       "min_td_balance_1q          0\n",
       "max_td_balance_1q          0\n",
       "avg_td_balance_1Y          0\n",
       "min_loan_balance_1q        0\n",
       "max_loan_balance_1q        0\n",
       "avg_loan_balance_1Y        0\n",
       "min_cl_balance_1q          0\n",
       "max_cl_balance_1q          0\n",
       "avg_cl_balance_1Y          0\n",
       "loan_to_deposit        46154\n",
       "Avg_trx                17846\n",
       "avgtrx_to_balance      18459\n",
       "nbi                     2406\n",
       "dtype: int64"
      ]
     },
     "execution_count": 640,
     "metadata": {},
     "output_type": "execute_result"
    }
   ],
   "source": [
    "data_client.isnull().sum()"
   ]
  },
  {
   "cell_type": "markdown",
   "metadata": {},
   "source": [
    "Пропуски в колонках с полом (gender) составляют незначительную часть в общем объеме, но в целом они не помешают нам исследовать датасет, оставим их.\n",
    "\n",
    "Больше всего пропусков в колонке loan_to_deposit (отношение кредитов к депозитам), что может говорить о том, что клиенты не пользуются этими услугами. Пропусков слишком много, их нельзя ни удалить, ни предзаполнить другими данными, оставим как есть.\n",
    "\n",
    "Примерно равное количество пропусков в колонках Avg_trx (средний размер транзакции) и avgtrx_to_balance (отношение среднего размера транзакции к балансу) - возможно, они относятся к тем клиентам, которые за выбранное время при выгрузке датасета не совершали транзакции. Они могут быть интересны нам по другим данным, их удалять тоже не будем.\n",
    "\n",
    "Также небольшая часть (по отношению к общим данным) пропусков есть в колонке nbi (чистый бизнес доход от клиента). Оставим эти пропуски в датасете, чтобы исседовать клиентов по другим данным.\n",
    "\n",
    "*Таким образом, на текущем этапе мы не будем вычищать из данных никакие пропуски.*\n",
    "\n"
   ]
  },
  {
   "cell_type": "markdown",
   "metadata": {},
   "source": [
    "По данным видно, что у нас нет столбца с уникальными идентификаторами, добавим столбец с индексами, он поможет нам считать уникальных клиентов"
   ]
  },
  {
   "cell_type": "code",
   "execution_count": 641,
   "metadata": {},
   "outputs": [
    {
     "data": {
      "text/html": [
       "<div>\n",
       "<style scoped>\n",
       "    .dataframe tbody tr th:only-of-type {\n",
       "        vertical-align: middle;\n",
       "    }\n",
       "\n",
       "    .dataframe tbody tr th {\n",
       "        vertical-align: top;\n",
       "    }\n",
       "\n",
       "    .dataframe thead th {\n",
       "        text-align: right;\n",
       "    }\n",
       "</style>\n",
       "<table border=\"1\" class=\"dataframe\">\n",
       "  <thead>\n",
       "    <tr style=\"text-align: right;\">\n",
       "      <th></th>\n",
       "      <th>index</th>\n",
       "      <th>age</th>\n",
       "      <th>gender</th>\n",
       "      <th>city_type</th>\n",
       "      <th>full_mob</th>\n",
       "      <th>ml_balance</th>\n",
       "      <th>cl_balance_0m</th>\n",
       "      <th>loan_balance_0m</th>\n",
       "      <th>td_balance_0m</th>\n",
       "      <th>casa_balance_0m</th>\n",
       "      <th>...</th>\n",
       "      <th>min_loan_balance_1q</th>\n",
       "      <th>max_loan_balance_1q</th>\n",
       "      <th>avg_loan_balance_1Y</th>\n",
       "      <th>min_cl_balance_1q</th>\n",
       "      <th>max_cl_balance_1q</th>\n",
       "      <th>avg_cl_balance_1Y</th>\n",
       "      <th>loan_to_deposit</th>\n",
       "      <th>Avg_trx</th>\n",
       "      <th>avgtrx_to_balance</th>\n",
       "      <th>nbi</th>\n",
       "    </tr>\n",
       "  </thead>\n",
       "  <tbody>\n",
       "    <tr>\n",
       "      <th>0</th>\n",
       "      <td>0</td>\n",
       "      <td>71</td>\n",
       "      <td>NaN</td>\n",
       "      <td>&lt;100</td>\n",
       "      <td>103</td>\n",
       "      <td>0.0</td>\n",
       "      <td>0.0</td>\n",
       "      <td>0.0</td>\n",
       "      <td>0.0</td>\n",
       "      <td>0.0000</td>\n",
       "      <td>...</td>\n",
       "      <td>0.0</td>\n",
       "      <td>0.0</td>\n",
       "      <td>0.0</td>\n",
       "      <td>0.0</td>\n",
       "      <td>0.0</td>\n",
       "      <td>0.0</td>\n",
       "      <td>NaN</td>\n",
       "      <td>NaN</td>\n",
       "      <td>NaN</td>\n",
       "      <td>NaN</td>\n",
       "    </tr>\n",
       "    <tr>\n",
       "      <th>1</th>\n",
       "      <td>1</td>\n",
       "      <td>49</td>\n",
       "      <td>NaN</td>\n",
       "      <td>Mega</td>\n",
       "      <td>81</td>\n",
       "      <td>0.0</td>\n",
       "      <td>0.0</td>\n",
       "      <td>0.0</td>\n",
       "      <td>0.0</td>\n",
       "      <td>3272.9367</td>\n",
       "      <td>...</td>\n",
       "      <td>0.0</td>\n",
       "      <td>0.0</td>\n",
       "      <td>0.0</td>\n",
       "      <td>0.0</td>\n",
       "      <td>0.0</td>\n",
       "      <td>0.0</td>\n",
       "      <td>NaN</td>\n",
       "      <td>NaN</td>\n",
       "      <td>NaN</td>\n",
       "      <td>28.762952</td>\n",
       "    </tr>\n",
       "    <tr>\n",
       "      <th>2</th>\n",
       "      <td>2</td>\n",
       "      <td>56</td>\n",
       "      <td>NaN</td>\n",
       "      <td>Mega</td>\n",
       "      <td>81</td>\n",
       "      <td>0.0</td>\n",
       "      <td>0.0</td>\n",
       "      <td>0.0</td>\n",
       "      <td>0.0</td>\n",
       "      <td>6249.7550</td>\n",
       "      <td>...</td>\n",
       "      <td>0.0</td>\n",
       "      <td>0.0</td>\n",
       "      <td>0.0</td>\n",
       "      <td>0.0</td>\n",
       "      <td>0.0</td>\n",
       "      <td>0.0</td>\n",
       "      <td>NaN</td>\n",
       "      <td>854.67</td>\n",
       "      <td>0.083467</td>\n",
       "      <td>1973.335539</td>\n",
       "    </tr>\n",
       "    <tr>\n",
       "      <th>3</th>\n",
       "      <td>3</td>\n",
       "      <td>47</td>\n",
       "      <td>NaN</td>\n",
       "      <td>Mega</td>\n",
       "      <td>81</td>\n",
       "      <td>0.0</td>\n",
       "      <td>0.0</td>\n",
       "      <td>0.0</td>\n",
       "      <td>0.0</td>\n",
       "      <td>14354.9370</td>\n",
       "      <td>...</td>\n",
       "      <td>0.0</td>\n",
       "      <td>0.0</td>\n",
       "      <td>0.0</td>\n",
       "      <td>0.0</td>\n",
       "      <td>0.0</td>\n",
       "      <td>0.0</td>\n",
       "      <td>NaN</td>\n",
       "      <td>NaN</td>\n",
       "      <td>NaN</td>\n",
       "      <td>364.008556</td>\n",
       "    </tr>\n",
       "    <tr>\n",
       "      <th>4</th>\n",
       "      <td>4</td>\n",
       "      <td>74</td>\n",
       "      <td>NaN</td>\n",
       "      <td>Mega</td>\n",
       "      <td>81</td>\n",
       "      <td>0.0</td>\n",
       "      <td>0.0</td>\n",
       "      <td>0.0</td>\n",
       "      <td>0.0</td>\n",
       "      <td>91511.7691</td>\n",
       "      <td>...</td>\n",
       "      <td>0.0</td>\n",
       "      <td>0.0</td>\n",
       "      <td>0.0</td>\n",
       "      <td>0.0</td>\n",
       "      <td>0.0</td>\n",
       "      <td>0.0</td>\n",
       "      <td>NaN</td>\n",
       "      <td>NaN</td>\n",
       "      <td>NaN</td>\n",
       "      <td>6651.416562</td>\n",
       "    </tr>\n",
       "  </tbody>\n",
       "</table>\n",
       "<p>5 rows × 29 columns</p>\n",
       "</div>"
      ],
      "text/plain": [
       "   index  age gender city_type  full_mob  ml_balance  cl_balance_0m  \\\n",
       "0      0   71    NaN      <100       103         0.0            0.0   \n",
       "1      1   49    NaN      Mega        81         0.0            0.0   \n",
       "2      2   56    NaN      Mega        81         0.0            0.0   \n",
       "3      3   47    NaN      Mega        81         0.0            0.0   \n",
       "4      4   74    NaN      Mega        81         0.0            0.0   \n",
       "\n",
       "   loan_balance_0m  td_balance_0m  casa_balance_0m  ...  min_loan_balance_1q  \\\n",
       "0              0.0            0.0           0.0000  ...                  0.0   \n",
       "1              0.0            0.0        3272.9367  ...                  0.0   \n",
       "2              0.0            0.0        6249.7550  ...                  0.0   \n",
       "3              0.0            0.0       14354.9370  ...                  0.0   \n",
       "4              0.0            0.0       91511.7691  ...                  0.0   \n",
       "\n",
       "   max_loan_balance_1q  avg_loan_balance_1Y  min_cl_balance_1q  \\\n",
       "0                  0.0                  0.0                0.0   \n",
       "1                  0.0                  0.0                0.0   \n",
       "2                  0.0                  0.0                0.0   \n",
       "3                  0.0                  0.0                0.0   \n",
       "4                  0.0                  0.0                0.0   \n",
       "\n",
       "   max_cl_balance_1q  avg_cl_balance_1Y  loan_to_deposit  Avg_trx  \\\n",
       "0                0.0                0.0              NaN      NaN   \n",
       "1                0.0                0.0              NaN      NaN   \n",
       "2                0.0                0.0              NaN   854.67   \n",
       "3                0.0                0.0              NaN      NaN   \n",
       "4                0.0                0.0              NaN      NaN   \n",
       "\n",
       "   avgtrx_to_balance          nbi  \n",
       "0                NaN          NaN  \n",
       "1                NaN    28.762952  \n",
       "2           0.083467  1973.335539  \n",
       "3                NaN   364.008556  \n",
       "4                NaN  6651.416562  \n",
       "\n",
       "[5 rows x 29 columns]"
      ]
     },
     "execution_count": 641,
     "metadata": {},
     "output_type": "execute_result"
    }
   ],
   "source": [
    "data_client.reset_index(inplace=True)\n",
    "\n",
    "data_client.head()"
   ]
  },
  {
   "cell_type": "markdown",
   "metadata": {},
   "source": [
    "Пропуски в колонках с полом (gender) составляют незначительную часть в общем объеме, но в целом они не помешают нам исследовать датасет, оставим их.\n",
    "\n",
    "Больше всего пропусков в колонке loan_to_deposit (отношение кредитов к депозитам), что может говорить о том, что клиенты не пользуются этими услугами. Пропусков слишком много, их нельзя ни удалить, ни предзаполнить другими данными, оставим как есть.\n",
    "\n",
    "Примерно равное количество пропусков в колонках Avg_trx (средний размер транзакции) и avgtrx_to_balance (отношение среднего размера транзакции к балансу) - возможно, они относятся к тем клиентам, которые за выбранное время при выгрузке датасета не совершали транзакции. Они могут быть интересны нам по другим данным, их удалять тоже не будем.\n",
    "\n",
    "Также небольшая часть (по отношению к общим данным) пропусков есть в колонке nbi (чистый бизнес доход от клиента). Оставим эти пропуски в датасете, чтобы исседовать клиентов по другим данным.\n",
    "\n",
    "*Таким образом, на текущем этапе мы не будем вычищать из данных никакие пропуски.*\n",
    "\n"
   ]
  },
  {
   "cell_type": "markdown",
   "metadata": {},
   "source": [
    "**Посмотрим на значения в колонах с помощью описательных статистик (метод describe)**"
   ]
  },
  {
   "cell_type": "markdown",
   "metadata": {},
   "source": [
    "Отдельно рассмотрим статистики для столбцов, которые показывают качественные данные, и отдельно - количественные."
   ]
  },
  {
   "cell_type": "markdown",
   "metadata": {},
   "source": [
    "***Качественные значения***"
   ]
  },
  {
   "cell_type": "code",
   "execution_count": 642,
   "metadata": {},
   "outputs": [
    {
     "data": {
      "text/html": [
       "<div>\n",
       "<style scoped>\n",
       "    .dataframe tbody tr th:only-of-type {\n",
       "        vertical-align: middle;\n",
       "    }\n",
       "\n",
       "    .dataframe tbody tr th {\n",
       "        vertical-align: top;\n",
       "    }\n",
       "\n",
       "    .dataframe thead th {\n",
       "        text-align: right;\n",
       "    }\n",
       "</style>\n",
       "<table border=\"1\" class=\"dataframe\">\n",
       "  <thead>\n",
       "    <tr style=\"text-align: right;\">\n",
       "      <th></th>\n",
       "      <th>gender</th>\n",
       "      <th>city_type</th>\n",
       "    </tr>\n",
       "  </thead>\n",
       "  <tbody>\n",
       "    <tr>\n",
       "      <th>count</th>\n",
       "      <td>49251</td>\n",
       "      <td>49974</td>\n",
       "    </tr>\n",
       "    <tr>\n",
       "      <th>unique</th>\n",
       "      <td>2</td>\n",
       "      <td>5</td>\n",
       "    </tr>\n",
       "    <tr>\n",
       "      <th>top</th>\n",
       "      <td>М</td>\n",
       "      <td>&lt;100</td>\n",
       "    </tr>\n",
       "    <tr>\n",
       "      <th>freq</th>\n",
       "      <td>25388</td>\n",
       "      <td>15406</td>\n",
       "    </tr>\n",
       "  </tbody>\n",
       "</table>\n",
       "</div>"
      ],
      "text/plain": [
       "       gender city_type\n",
       "count   49251     49974\n",
       "unique      2         5\n",
       "top         М      <100\n",
       "freq    25388     15406"
      ]
     },
     "execution_count": 642,
     "metadata": {},
     "output_type": "execute_result"
    }
   ],
   "source": [
    "# пол и тип города проживания\n",
    "\n",
    "data_client[['gender', 'city_type']].describe()"
   ]
  },
  {
   "cell_type": "markdown",
   "metadata": {},
   "source": [
    "По половому признаку видим, что мужчин среди клиентов больше, правда, не на много, всего на 1,5 п.п. ((25388 / 49251) * 100 = 51,5%).\n",
    "Здесь никаких инсайтов нет, возможно, они появятся в связке с другими значениями."
   ]
  },
  {
   "cell_type": "markdown",
   "metadata": {},
   "source": [
    "По типу города проживания доля 30% у клиентов из городов <100 ((15406 / 49974) * 100 = 30.8%). Всего типов городов 5. К ним ещё вернёмся позже, чтобы рассмотреть поподробней."
   ]
  },
  {
   "cell_type": "markdown",
   "metadata": {},
   "source": [
    "***Количественные значения***\n",
    "\n",
    "Будем смотреть данные отдельными группами."
   ]
  },
  {
   "cell_type": "code",
   "execution_count": 643,
   "metadata": {},
   "outputs": [
    {
     "data": {
      "text/html": [
       "<div>\n",
       "<style scoped>\n",
       "    .dataframe tbody tr th:only-of-type {\n",
       "        vertical-align: middle;\n",
       "    }\n",
       "\n",
       "    .dataframe tbody tr th {\n",
       "        vertical-align: top;\n",
       "    }\n",
       "\n",
       "    .dataframe thead th {\n",
       "        text-align: right;\n",
       "    }\n",
       "</style>\n",
       "<table border=\"1\" class=\"dataframe\">\n",
       "  <thead>\n",
       "    <tr style=\"text-align: right;\">\n",
       "      <th></th>\n",
       "      <th>age</th>\n",
       "      <th>full_mob</th>\n",
       "    </tr>\n",
       "  </thead>\n",
       "  <tbody>\n",
       "    <tr>\n",
       "      <th>count</th>\n",
       "      <td>49974.000000</td>\n",
       "      <td>49974.000000</td>\n",
       "    </tr>\n",
       "    <tr>\n",
       "      <th>mean</th>\n",
       "      <td>41.526654</td>\n",
       "      <td>53.670409</td>\n",
       "    </tr>\n",
       "    <tr>\n",
       "      <th>std</th>\n",
       "      <td>12.866757</td>\n",
       "      <td>47.427322</td>\n",
       "    </tr>\n",
       "    <tr>\n",
       "      <th>min</th>\n",
       "      <td>4.000000</td>\n",
       "      <td>0.000000</td>\n",
       "    </tr>\n",
       "    <tr>\n",
       "      <th>25%</th>\n",
       "      <td>32.000000</td>\n",
       "      <td>13.000000</td>\n",
       "    </tr>\n",
       "    <tr>\n",
       "      <th>50%</th>\n",
       "      <td>40.000000</td>\n",
       "      <td>37.000000</td>\n",
       "    </tr>\n",
       "    <tr>\n",
       "      <th>75%</th>\n",
       "      <td>51.000000</td>\n",
       "      <td>81.000000</td>\n",
       "    </tr>\n",
       "    <tr>\n",
       "      <th>max</th>\n",
       "      <td>98.000000</td>\n",
       "      <td>236.000000</td>\n",
       "    </tr>\n",
       "  </tbody>\n",
       "</table>\n",
       "</div>"
      ],
      "text/plain": [
       "                age      full_mob\n",
       "count  49974.000000  49974.000000\n",
       "mean      41.526654     53.670409\n",
       "std       12.866757     47.427322\n",
       "min        4.000000      0.000000\n",
       "25%       32.000000     13.000000\n",
       "50%       40.000000     37.000000\n",
       "75%       51.000000     81.000000\n",
       "max       98.000000    236.000000"
      ]
     },
     "execution_count": 643,
     "metadata": {},
     "output_type": "execute_result"
    }
   ],
   "source": [
    "# возраст и длительность взаимоотношений с банком\n",
    "\n",
    "data_client[['age','full_mob']].describe()"
   ]
  },
  {
   "cell_type": "markdown",
   "metadata": {},
   "source": [
    "Средний возраст клиентов - 41 год, самому молодому клиенту - 4 года (счёт открыли на ребёнка? либо некорректные данные в датасете), самому старшему - 98 лет. При этом не более 75% наших клиентов моложе 51 года.\n",
    "\n",
    "Судя по максимальному значению длительности взаимоотношений с банком 236 и значениям в 50 и 75 перцентилях, данные в этом столбце, скорее всего, измеряются в месяцах (в годах - слишком много, в днях - слишком мало). Эти данные мы также посмотрим позже поподробней."
   ]
  },
  {
   "cell_type": "code",
   "execution_count": 644,
   "metadata": {},
   "outputs": [
    {
     "data": {
      "text/html": [
       "<div>\n",
       "<style scoped>\n",
       "    .dataframe tbody tr th:only-of-type {\n",
       "        vertical-align: middle;\n",
       "    }\n",
       "\n",
       "    .dataframe tbody tr th {\n",
       "        vertical-align: top;\n",
       "    }\n",
       "\n",
       "    .dataframe thead th {\n",
       "        text-align: right;\n",
       "    }\n",
       "</style>\n",
       "<table border=\"1\" class=\"dataframe\">\n",
       "  <thead>\n",
       "    <tr style=\"text-align: right;\">\n",
       "      <th></th>\n",
       "      <th>ml_balance</th>\n",
       "      <th>cl_balance_0m</th>\n",
       "      <th>loan_balance_0m</th>\n",
       "      <th>td_balance_0m</th>\n",
       "      <th>casa_balance_0m</th>\n",
       "    </tr>\n",
       "  </thead>\n",
       "  <tbody>\n",
       "    <tr>\n",
       "      <th>count</th>\n",
       "      <td>4.997400e+04</td>\n",
       "      <td>4.997400e+04</td>\n",
       "      <td>4.997400e+04</td>\n",
       "      <td>4.997400e+04</td>\n",
       "      <td>4.997400e+04</td>\n",
       "    </tr>\n",
       "    <tr>\n",
       "      <th>mean</th>\n",
       "      <td>1.288815e+04</td>\n",
       "      <td>6.036830e+04</td>\n",
       "      <td>8.130726e+04</td>\n",
       "      <td>7.005946e+04</td>\n",
       "      <td>6.864382e+04</td>\n",
       "    </tr>\n",
       "    <tr>\n",
       "      <th>std</th>\n",
       "      <td>1.874990e+05</td>\n",
       "      <td>2.018042e+05</td>\n",
       "      <td>2.860859e+05</td>\n",
       "      <td>1.679846e+06</td>\n",
       "      <td>1.749322e+06</td>\n",
       "    </tr>\n",
       "    <tr>\n",
       "      <th>min</th>\n",
       "      <td>0.000000e+00</td>\n",
       "      <td>0.000000e+00</td>\n",
       "      <td>0.000000e+00</td>\n",
       "      <td>0.000000e+00</td>\n",
       "      <td>0.000000e+00</td>\n",
       "    </tr>\n",
       "    <tr>\n",
       "      <th>25%</th>\n",
       "      <td>0.000000e+00</td>\n",
       "      <td>0.000000e+00</td>\n",
       "      <td>0.000000e+00</td>\n",
       "      <td>0.000000e+00</td>\n",
       "      <td>3.416750e+01</td>\n",
       "    </tr>\n",
       "    <tr>\n",
       "      <th>50%</th>\n",
       "      <td>0.000000e+00</td>\n",
       "      <td>0.000000e+00</td>\n",
       "      <td>0.000000e+00</td>\n",
       "      <td>0.000000e+00</td>\n",
       "      <td>7.615200e+02</td>\n",
       "    </tr>\n",
       "    <tr>\n",
       "      <th>75%</th>\n",
       "      <td>0.000000e+00</td>\n",
       "      <td>0.000000e+00</td>\n",
       "      <td>0.000000e+00</td>\n",
       "      <td>0.000000e+00</td>\n",
       "      <td>8.771190e+03</td>\n",
       "    </tr>\n",
       "    <tr>\n",
       "      <th>max</th>\n",
       "      <td>1.467568e+07</td>\n",
       "      <td>7.354568e+06</td>\n",
       "      <td>1.467568e+07</td>\n",
       "      <td>3.305000e+08</td>\n",
       "      <td>2.474474e+08</td>\n",
       "    </tr>\n",
       "  </tbody>\n",
       "</table>\n",
       "</div>"
      ],
      "text/plain": [
       "         ml_balance  cl_balance_0m  loan_balance_0m  td_balance_0m  \\\n",
       "count  4.997400e+04   4.997400e+04     4.997400e+04   4.997400e+04   \n",
       "mean   1.288815e+04   6.036830e+04     8.130726e+04   7.005946e+04   \n",
       "std    1.874990e+05   2.018042e+05     2.860859e+05   1.679846e+06   \n",
       "min    0.000000e+00   0.000000e+00     0.000000e+00   0.000000e+00   \n",
       "25%    0.000000e+00   0.000000e+00     0.000000e+00   0.000000e+00   \n",
       "50%    0.000000e+00   0.000000e+00     0.000000e+00   0.000000e+00   \n",
       "75%    0.000000e+00   0.000000e+00     0.000000e+00   0.000000e+00   \n",
       "max    1.467568e+07   7.354568e+06     1.467568e+07   3.305000e+08   \n",
       "\n",
       "       casa_balance_0m  \n",
       "count     4.997400e+04  \n",
       "mean      6.864382e+04  \n",
       "std       1.749322e+06  \n",
       "min       0.000000e+00  \n",
       "25%       3.416750e+01  \n",
       "50%       7.615200e+02  \n",
       "75%       8.771190e+03  \n",
       "max       2.474474e+08  "
      ]
     },
     "execution_count": 644,
     "metadata": {},
     "output_type": "execute_result"
    }
   ],
   "source": [
    "# ипотека, потребительский кредит, все кредиты, депозит, счета\n",
    "\n",
    "data_client[['ml_balance', 'cl_balance_0m', 'loan_balance_0m', 'td_balance_0m', 'casa_balance_0m']].describe()"
   ]
  },
  {
   "cell_type": "code",
   "execution_count": 645,
   "metadata": {},
   "outputs": [
    {
     "data": {
      "image/png": "[encoded data removed]",
      "text/plain": [
       "<Figure size 504x504 with 1 Axes>"
      ]
     },
     "metadata": {
      "needs_background": "light"
     },
     "output_type": "display_data"
    }
   ],
   "source": [
    "sns.catplot(data = data_client[['ml_balance', 'cl_balance_0m', 'loan_balance_0m', \n",
    "                                 'td_balance_0m', 'casa_balance_0m']], height=7);"
   ]
  },
  {
   "cell_type": "markdown",
   "metadata": {},
   "source": [
    "Данные показывают, что у большинства наших клиентов нет ни ипотеки, ни кредитов, на депозитах деньги хранят также немногие (не более 25%).\n",
    "\n",
    "А вот на счетах в среднем лежит около 68000, но при этом не более чем у половины клиентов на счетах меньше 761, а у 75% - не более 8771."
   ]
  },
  {
   "cell_type": "code",
   "execution_count": 646,
   "metadata": {},
   "outputs": [
    {
     "data": {
      "text/html": [
       "<div>\n",
       "<style scoped>\n",
       "    .dataframe tbody tr th:only-of-type {\n",
       "        vertical-align: middle;\n",
       "    }\n",
       "\n",
       "    .dataframe tbody tr th {\n",
       "        vertical-align: top;\n",
       "    }\n",
       "\n",
       "    .dataframe thead th {\n",
       "        text-align: right;\n",
       "    }\n",
       "</style>\n",
       "<table border=\"1\" class=\"dataframe\">\n",
       "  <thead>\n",
       "    <tr style=\"text-align: right;\">\n",
       "      <th></th>\n",
       "      <th>dc_trx_cnt</th>\n",
       "      <th>dc_trx_sum</th>\n",
       "      <th>Avg_trx</th>\n",
       "      <th>avgtrx_to_balance</th>\n",
       "    </tr>\n",
       "  </thead>\n",
       "  <tbody>\n",
       "    <tr>\n",
       "      <th>count</th>\n",
       "      <td>49974.000000</td>\n",
       "      <td>4.997400e+04</td>\n",
       "      <td>3.212800e+04</td>\n",
       "      <td>3.151500e+04</td>\n",
       "    </tr>\n",
       "    <tr>\n",
       "      <th>mean</th>\n",
       "      <td>105.066034</td>\n",
       "      <td>2.208556e+05</td>\n",
       "      <td>5.279361e+03</td>\n",
       "      <td>3.384532e+02</td>\n",
       "    </tr>\n",
       "    <tr>\n",
       "      <th>std</th>\n",
       "      <td>192.722910</td>\n",
       "      <td>6.009374e+05</td>\n",
       "      <td>1.598972e+04</td>\n",
       "      <td>2.936955e+04</td>\n",
       "    </tr>\n",
       "    <tr>\n",
       "      <th>min</th>\n",
       "      <td>0.000000</td>\n",
       "      <td>0.000000e+00</td>\n",
       "      <td>0.000000e+00</td>\n",
       "      <td>0.000000e+00</td>\n",
       "    </tr>\n",
       "    <tr>\n",
       "      <th>25%</th>\n",
       "      <td>0.000000</td>\n",
       "      <td>0.000000e+00</td>\n",
       "      <td>8.143703e+02</td>\n",
       "      <td>8.005211e-02</td>\n",
       "    </tr>\n",
       "    <tr>\n",
       "      <th>50%</th>\n",
       "      <td>14.000000</td>\n",
       "      <td>3.517921e+04</td>\n",
       "      <td>1.716181e+03</td>\n",
       "      <td>3.017687e-01</td>\n",
       "    </tr>\n",
       "    <tr>\n",
       "      <th>75%</th>\n",
       "      <td>122.750000</td>\n",
       "      <td>2.605961e+05</td>\n",
       "      <td>4.416583e+03</td>\n",
       "      <td>1.532015e+00</td>\n",
       "    </tr>\n",
       "    <tr>\n",
       "      <th>max</th>\n",
       "      <td>2970.000000</td>\n",
       "      <td>3.634105e+07</td>\n",
       "      <td>1.749500e+06</td>\n",
       "      <td>5.000000e+06</td>\n",
       "    </tr>\n",
       "  </tbody>\n",
       "</table>\n",
       "</div>"
      ],
      "text/plain": [
       "         dc_trx_cnt    dc_trx_sum       Avg_trx  avgtrx_to_balance\n",
       "count  49974.000000  4.997400e+04  3.212800e+04       3.151500e+04\n",
       "mean     105.066034  2.208556e+05  5.279361e+03       3.384532e+02\n",
       "std      192.722910  6.009374e+05  1.598972e+04       2.936955e+04\n",
       "min        0.000000  0.000000e+00  0.000000e+00       0.000000e+00\n",
       "25%        0.000000  0.000000e+00  8.143703e+02       8.005211e-02\n",
       "50%       14.000000  3.517921e+04  1.716181e+03       3.017687e-01\n",
       "75%      122.750000  2.605961e+05  4.416583e+03       1.532015e+00\n",
       "max     2970.000000  3.634105e+07  1.749500e+06       5.000000e+06"
      ]
     },
     "execution_count": 646,
     "metadata": {},
     "output_type": "execute_result"
    }
   ],
   "source": [
    "# количество трат по картам, сумма трат по картам, средний размер транзакции, отношение среднего размера транзакции к балансу\n",
    "\n",
    "data_client[['dc_trx_cnt', 'dc_trx_sum', 'Avg_trx', 'avgtrx_to_balance']].describe()"
   ]
  },
  {
   "cell_type": "code",
   "execution_count": 647,
   "metadata": {},
   "outputs": [
    {
     "data": {
      "image/png": "[encoded data removed]",
      "text/plain": [
       "<Figure size 360x360 with 1 Axes>"
      ]
     },
     "metadata": {
      "needs_background": "light"
     },
     "output_type": "display_data"
    }
   ],
   "source": [
    "sns.catplot(data = data_client[['dc_trx_cnt', 'dc_trx_sum', 'Avg_trx', 'avgtrx_to_balance']], height=5);"
   ]
  },
  {
   "cell_type": "markdown",
   "metadata": {},
   "source": [
    "У половины клиентов количество трат по картам не более 14, общая сумма - не более 35179. При этом средний размер транзации у половины клиентов - не более 1716, отношение среднего размера транзакции к балансу - 0,3."
   ]
  },
  {
   "cell_type": "code",
   "execution_count": 648,
   "metadata": {},
   "outputs": [
    {
     "data": {
      "text/html": [
       "<div>\n",
       "<style scoped>\n",
       "    .dataframe tbody tr th:only-of-type {\n",
       "        vertical-align: middle;\n",
       "    }\n",
       "\n",
       "    .dataframe tbody tr th {\n",
       "        vertical-align: top;\n",
       "    }\n",
       "\n",
       "    .dataframe thead th {\n",
       "        text-align: right;\n",
       "    }\n",
       "</style>\n",
       "<table border=\"1\" class=\"dataframe\">\n",
       "  <thead>\n",
       "    <tr style=\"text-align: right;\">\n",
       "      <th></th>\n",
       "      <th>min_casa_balance_1q</th>\n",
       "      <th>max_casa_balance_1q</th>\n",
       "      <th>avg_casa_balance_1Y</th>\n",
       "    </tr>\n",
       "  </thead>\n",
       "  <tbody>\n",
       "    <tr>\n",
       "      <th>count</th>\n",
       "      <td>4.997400e+04</td>\n",
       "      <td>4.997400e+04</td>\n",
       "      <td>4.997400e+04</td>\n",
       "    </tr>\n",
       "    <tr>\n",
       "      <th>mean</th>\n",
       "      <td>5.516768e+04</td>\n",
       "      <td>9.285023e+04</td>\n",
       "      <td>6.559088e+04</td>\n",
       "    </tr>\n",
       "    <tr>\n",
       "      <th>std</th>\n",
       "      <td>1.699372e+06</td>\n",
       "      <td>2.754850e+06</td>\n",
       "      <td>1.899512e+06</td>\n",
       "    </tr>\n",
       "    <tr>\n",
       "      <th>min</th>\n",
       "      <td>0.000000e+00</td>\n",
       "      <td>0.000000e+00</td>\n",
       "      <td>0.000000e+00</td>\n",
       "    </tr>\n",
       "    <tr>\n",
       "      <th>25%</th>\n",
       "      <td>4.652500e+00</td>\n",
       "      <td>2.440975e+02</td>\n",
       "      <td>4.416696e+02</td>\n",
       "    </tr>\n",
       "    <tr>\n",
       "      <th>50%</th>\n",
       "      <td>2.228600e+02</td>\n",
       "      <td>3.663360e+03</td>\n",
       "      <td>3.031704e+03</td>\n",
       "    </tr>\n",
       "    <tr>\n",
       "      <th>75%</th>\n",
       "      <td>3.618247e+03</td>\n",
       "      <td>2.157640e+04</td>\n",
       "      <td>1.297028e+04</td>\n",
       "    </tr>\n",
       "    <tr>\n",
       "      <th>max</th>\n",
       "      <td>2.474474e+08</td>\n",
       "      <td>4.461676e+08</td>\n",
       "      <td>3.103200e+08</td>\n",
       "    </tr>\n",
       "  </tbody>\n",
       "</table>\n",
       "</div>"
      ],
      "text/plain": [
       "       min_casa_balance_1q  max_casa_balance_1q  avg_casa_balance_1Y\n",
       "count         4.997400e+04         4.997400e+04         4.997400e+04\n",
       "mean          5.516768e+04         9.285023e+04         6.559088e+04\n",
       "std           1.699372e+06         2.754850e+06         1.899512e+06\n",
       "min           0.000000e+00         0.000000e+00         0.000000e+00\n",
       "25%           4.652500e+00         2.440975e+02         4.416696e+02\n",
       "50%           2.228600e+02         3.663360e+03         3.031704e+03\n",
       "75%           3.618247e+03         2.157640e+04         1.297028e+04\n",
       "max           2.474474e+08         4.461676e+08         3.103200e+08"
      ]
     },
     "execution_count": 648,
     "metadata": {},
     "output_type": "execute_result"
    }
   ],
   "source": [
    "# показатели по счетам за квартал (min, max), средние показатели по счетам за год\n",
    "\n",
    "data_client[['min_casa_balance_1q', 'max_casa_balance_1q', 'avg_casa_balance_1Y']].describe()"
   ]
  },
  {
   "cell_type": "markdown",
   "metadata": {},
   "source": [
    "Среднее значение max показателя по счетам за квартал почти в 2 раза больше min показателя. Если смотреть по перцентилям: не более чем у половины max показатель превышает показатель min в 16,5 раз (3663 / 222), не более чем у 75% - в 6 раз (21576 / 3618).\n",
    "\n",
    "Средний годовой показатель по счетам у половины клиентов не превышает 3031."
   ]
  },
  {
   "cell_type": "code",
   "execution_count": 649,
   "metadata": {},
   "outputs": [
    {
     "data": {
      "text/html": [
       "<div>\n",
       "<style scoped>\n",
       "    .dataframe tbody tr th:only-of-type {\n",
       "        vertical-align: middle;\n",
       "    }\n",
       "\n",
       "    .dataframe tbody tr th {\n",
       "        vertical-align: top;\n",
       "    }\n",
       "\n",
       "    .dataframe thead th {\n",
       "        text-align: right;\n",
       "    }\n",
       "</style>\n",
       "<table border=\"1\" class=\"dataframe\">\n",
       "  <thead>\n",
       "    <tr style=\"text-align: right;\">\n",
       "      <th></th>\n",
       "      <th>min_td_balance_1q</th>\n",
       "      <th>max_td_balance_1q</th>\n",
       "      <th>avg_td_balance_1Y</th>\n",
       "    </tr>\n",
       "  </thead>\n",
       "  <tbody>\n",
       "    <tr>\n",
       "      <th>count</th>\n",
       "      <td>4.997400e+04</td>\n",
       "      <td>4.997400e+04</td>\n",
       "      <td>4.997400e+04</td>\n",
       "    </tr>\n",
       "    <tr>\n",
       "      <th>mean</th>\n",
       "      <td>6.034382e+04</td>\n",
       "      <td>7.627020e+04</td>\n",
       "      <td>7.116044e+04</td>\n",
       "    </tr>\n",
       "    <tr>\n",
       "      <th>std</th>\n",
       "      <td>9.716618e+05</td>\n",
       "      <td>1.763411e+06</td>\n",
       "      <td>1.115324e+06</td>\n",
       "    </tr>\n",
       "    <tr>\n",
       "      <th>min</th>\n",
       "      <td>0.000000e+00</td>\n",
       "      <td>0.000000e+00</td>\n",
       "      <td>0.000000e+00</td>\n",
       "    </tr>\n",
       "    <tr>\n",
       "      <th>50%</th>\n",
       "      <td>0.000000e+00</td>\n",
       "      <td>0.000000e+00</td>\n",
       "      <td>0.000000e+00</td>\n",
       "    </tr>\n",
       "    <tr>\n",
       "      <th>75%</th>\n",
       "      <td>0.000000e+00</td>\n",
       "      <td>0.000000e+00</td>\n",
       "      <td>0.000000e+00</td>\n",
       "    </tr>\n",
       "    <tr>\n",
       "      <th>90%</th>\n",
       "      <td>0.000000e+00</td>\n",
       "      <td>0.000000e+00</td>\n",
       "      <td>0.000000e+00</td>\n",
       "    </tr>\n",
       "    <tr>\n",
       "      <th>95%</th>\n",
       "      <td>7.000000e+03</td>\n",
       "      <td>1.000000e+05</td>\n",
       "      <td>1.776610e+05</td>\n",
       "    </tr>\n",
       "    <tr>\n",
       "      <th>99%</th>\n",
       "      <td>1.310455e+06</td>\n",
       "      <td>1.400000e+06</td>\n",
       "      <td>1.350000e+06</td>\n",
       "    </tr>\n",
       "    <tr>\n",
       "      <th>max</th>\n",
       "      <td>1.332600e+08</td>\n",
       "      <td>3.473500e+08</td>\n",
       "      <td>1.616579e+08</td>\n",
       "    </tr>\n",
       "  </tbody>\n",
       "</table>\n",
       "</div>"
      ],
      "text/plain": [
       "       min_td_balance_1q  max_td_balance_1q  avg_td_balance_1Y\n",
       "count       4.997400e+04       4.997400e+04       4.997400e+04\n",
       "mean        6.034382e+04       7.627020e+04       7.116044e+04\n",
       "std         9.716618e+05       1.763411e+06       1.115324e+06\n",
       "min         0.000000e+00       0.000000e+00       0.000000e+00\n",
       "50%         0.000000e+00       0.000000e+00       0.000000e+00\n",
       "75%         0.000000e+00       0.000000e+00       0.000000e+00\n",
       "90%         0.000000e+00       0.000000e+00       0.000000e+00\n",
       "95%         7.000000e+03       1.000000e+05       1.776610e+05\n",
       "99%         1.310455e+06       1.400000e+06       1.350000e+06\n",
       "max         1.332600e+08       3.473500e+08       1.616579e+08"
      ]
     },
     "execution_count": 649,
     "metadata": {},
     "output_type": "execute_result"
    }
   ],
   "source": [
    "# показатели по депозитам за квартал (min, max), средние показатели по депозитам за год\n",
    "\n",
    "data_client[['min_td_balance_1q', 'max_td_balance_1q', 'avg_td_balance_1Y']].describe(\n",
    "                                                                 percentiles = [.5, .75, .90, .95, .99])"
   ]
  },
  {
   "cell_type": "markdown",
   "metadata": {},
   "source": [
    "Как мы видим, у 90% клиентов на депозитах пусто, ими практически никто не пользуется."
   ]
  },
  {
   "cell_type": "code",
   "execution_count": 650,
   "metadata": {},
   "outputs": [
    {
     "data": {
      "text/html": [
       "<div>\n",
       "<style scoped>\n",
       "    .dataframe tbody tr th:only-of-type {\n",
       "        vertical-align: middle;\n",
       "    }\n",
       "\n",
       "    .dataframe tbody tr th {\n",
       "        vertical-align: top;\n",
       "    }\n",
       "\n",
       "    .dataframe thead th {\n",
       "        text-align: right;\n",
       "    }\n",
       "</style>\n",
       "<table border=\"1\" class=\"dataframe\">\n",
       "  <thead>\n",
       "    <tr style=\"text-align: right;\">\n",
       "      <th></th>\n",
       "      <th>min_loan_balance_1q</th>\n",
       "      <th>max_loan_balance_1q</th>\n",
       "      <th>avg_loan_balance_1Y</th>\n",
       "    </tr>\n",
       "  </thead>\n",
       "  <tbody>\n",
       "    <tr>\n",
       "      <th>count</th>\n",
       "      <td>4.997400e+04</td>\n",
       "      <td>4.997400e+04</td>\n",
       "      <td>4.997400e+04</td>\n",
       "    </tr>\n",
       "    <tr>\n",
       "      <th>mean</th>\n",
       "      <td>7.538621e+04</td>\n",
       "      <td>8.879750e+04</td>\n",
       "      <td>7.895314e+04</td>\n",
       "    </tr>\n",
       "    <tr>\n",
       "      <th>std</th>\n",
       "      <td>2.758838e+05</td>\n",
       "      <td>3.004779e+05</td>\n",
       "      <td>2.749794e+05</td>\n",
       "    </tr>\n",
       "    <tr>\n",
       "      <th>min</th>\n",
       "      <td>0.000000e+00</td>\n",
       "      <td>0.000000e+00</td>\n",
       "      <td>0.000000e+00</td>\n",
       "    </tr>\n",
       "    <tr>\n",
       "      <th>50%</th>\n",
       "      <td>0.000000e+00</td>\n",
       "      <td>0.000000e+00</td>\n",
       "      <td>0.000000e+00</td>\n",
       "    </tr>\n",
       "    <tr>\n",
       "      <th>75%</th>\n",
       "      <td>0.000000e+00</td>\n",
       "      <td>0.000000e+00</td>\n",
       "      <td>3.988511e+03</td>\n",
       "    </tr>\n",
       "    <tr>\n",
       "      <th>79%</th>\n",
       "      <td>0.000000e+00</td>\n",
       "      <td>2.999211e+04</td>\n",
       "      <td>3.519744e+04</td>\n",
       "    </tr>\n",
       "    <tr>\n",
       "      <th>80%</th>\n",
       "      <td>9.892992e+03</td>\n",
       "      <td>4.196721e+04</td>\n",
       "      <td>4.562833e+04</td>\n",
       "    </tr>\n",
       "    <tr>\n",
       "      <th>90%</th>\n",
       "      <td>2.219249e+05</td>\n",
       "      <td>2.798832e+05</td>\n",
       "      <td>2.444764e+05</td>\n",
       "    </tr>\n",
       "    <tr>\n",
       "      <th>max</th>\n",
       "      <td>1.467568e+07</td>\n",
       "      <td>1.481199e+07</td>\n",
       "      <td>1.502391e+07</td>\n",
       "    </tr>\n",
       "  </tbody>\n",
       "</table>\n",
       "</div>"
      ],
      "text/plain": [
       "       min_loan_balance_1q  max_loan_balance_1q  avg_loan_balance_1Y\n",
       "count         4.997400e+04         4.997400e+04         4.997400e+04\n",
       "mean          7.538621e+04         8.879750e+04         7.895314e+04\n",
       "std           2.758838e+05         3.004779e+05         2.749794e+05\n",
       "min           0.000000e+00         0.000000e+00         0.000000e+00\n",
       "50%           0.000000e+00         0.000000e+00         0.000000e+00\n",
       "75%           0.000000e+00         0.000000e+00         3.988511e+03\n",
       "79%           0.000000e+00         2.999211e+04         3.519744e+04\n",
       "80%           9.892992e+03         4.196721e+04         4.562833e+04\n",
       "90%           2.219249e+05         2.798832e+05         2.444764e+05\n",
       "max           1.467568e+07         1.481199e+07         1.502391e+07"
      ]
     },
     "execution_count": 650,
     "metadata": {},
     "output_type": "execute_result"
    }
   ],
   "source": [
    "# показатели по всем кредитам за квартал (min, max), средние показатели по всем кредитам за год\n",
    "\n",
    "data_client[['min_loan_balance_1q', 'max_loan_balance_1q', 'avg_loan_balance_1Y']].describe(\n",
    "                                                                 percentiles = [.5, .75, .79, .80, .90])"
   ]
  },
  {
   "cell_type": "markdown",
   "metadata": {},
   "source": [
    "Кредиты берут не более 20% клиентов. Квартальное отношение их min показателя к max: 1 к 4 (41967 / 9892), а среднее значение за год - 45628."
   ]
  },
  {
   "cell_type": "code",
   "execution_count": 651,
   "metadata": {},
   "outputs": [
    {
     "data": {
      "text/html": [
       "<div>\n",
       "<style scoped>\n",
       "    .dataframe tbody tr th:only-of-type {\n",
       "        vertical-align: middle;\n",
       "    }\n",
       "\n",
       "    .dataframe tbody tr th {\n",
       "        vertical-align: top;\n",
       "    }\n",
       "\n",
       "    .dataframe thead th {\n",
       "        text-align: right;\n",
       "    }\n",
       "</style>\n",
       "<table border=\"1\" class=\"dataframe\">\n",
       "  <thead>\n",
       "    <tr style=\"text-align: right;\">\n",
       "      <th></th>\n",
       "      <th>min_cl_balance_1q</th>\n",
       "      <th>max_cl_balance_1q</th>\n",
       "      <th>avg_cl_balance_1Y</th>\n",
       "      <th>loan_to_deposit</th>\n",
       "    </tr>\n",
       "  </thead>\n",
       "  <tbody>\n",
       "    <tr>\n",
       "      <th>count</th>\n",
       "      <td>4.997400e+04</td>\n",
       "      <td>4.997400e+04</td>\n",
       "      <td>4.997400e+04</td>\n",
       "      <td>3820.000000</td>\n",
       "    </tr>\n",
       "    <tr>\n",
       "      <th>mean</th>\n",
       "      <td>5.559062e+04</td>\n",
       "      <td>6.512895e+04</td>\n",
       "      <td>5.537293e+04</td>\n",
       "      <td>18.236559</td>\n",
       "    </tr>\n",
       "    <tr>\n",
       "      <th>std</th>\n",
       "      <td>1.897342e+05</td>\n",
       "      <td>2.113722e+05</td>\n",
       "      <td>1.725558e+05</td>\n",
       "      <td>269.329001</td>\n",
       "    </tr>\n",
       "    <tr>\n",
       "      <th>min</th>\n",
       "      <td>0.000000e+00</td>\n",
       "      <td>0.000000e+00</td>\n",
       "      <td>0.000000e+00</td>\n",
       "      <td>0.000000</td>\n",
       "    </tr>\n",
       "    <tr>\n",
       "      <th>50%</th>\n",
       "      <td>0.000000e+00</td>\n",
       "      <td>0.000000e+00</td>\n",
       "      <td>0.000000e+00</td>\n",
       "      <td>0.000000</td>\n",
       "    </tr>\n",
       "    <tr>\n",
       "      <th>75%</th>\n",
       "      <td>0.000000e+00</td>\n",
       "      <td>0.000000e+00</td>\n",
       "      <td>0.000000e+00</td>\n",
       "      <td>0.000000</td>\n",
       "    </tr>\n",
       "    <tr>\n",
       "      <th>80%</th>\n",
       "      <td>0.000000e+00</td>\n",
       "      <td>0.000000e+00</td>\n",
       "      <td>0.000000e+00</td>\n",
       "      <td>0.000000</td>\n",
       "    </tr>\n",
       "    <tr>\n",
       "      <th>85%</th>\n",
       "      <td>1.832075e+04</td>\n",
       "      <td>5.556097e+04</td>\n",
       "      <td>6.314409e+04</td>\n",
       "      <td>0.000000</td>\n",
       "    </tr>\n",
       "    <tr>\n",
       "      <th>90%</th>\n",
       "      <td>1.583726e+05</td>\n",
       "      <td>2.048856e+05</td>\n",
       "      <td>1.789286e+05</td>\n",
       "      <td>0.000000</td>\n",
       "    </tr>\n",
       "    <tr>\n",
       "      <th>max</th>\n",
       "      <td>5.646888e+06</td>\n",
       "      <td>7.501889e+06</td>\n",
       "      <td>4.112823e+06</td>\n",
       "      <td>12521.279170</td>\n",
       "    </tr>\n",
       "  </tbody>\n",
       "</table>\n",
       "</div>"
      ],
      "text/plain": [
       "       min_cl_balance_1q  max_cl_balance_1q  avg_cl_balance_1Y  \\\n",
       "count       4.997400e+04       4.997400e+04       4.997400e+04   \n",
       "mean        5.559062e+04       6.512895e+04       5.537293e+04   \n",
       "std         1.897342e+05       2.113722e+05       1.725558e+05   \n",
       "min         0.000000e+00       0.000000e+00       0.000000e+00   \n",
       "50%         0.000000e+00       0.000000e+00       0.000000e+00   \n",
       "75%         0.000000e+00       0.000000e+00       0.000000e+00   \n",
       "80%         0.000000e+00       0.000000e+00       0.000000e+00   \n",
       "85%         1.832075e+04       5.556097e+04       6.314409e+04   \n",
       "90%         1.583726e+05       2.048856e+05       1.789286e+05   \n",
       "max         5.646888e+06       7.501889e+06       4.112823e+06   \n",
       "\n",
       "       loan_to_deposit  \n",
       "count      3820.000000  \n",
       "mean         18.236559  \n",
       "std         269.329001  \n",
       "min           0.000000  \n",
       "50%           0.000000  \n",
       "75%           0.000000  \n",
       "80%           0.000000  \n",
       "85%           0.000000  \n",
       "90%           0.000000  \n",
       "max       12521.279170  "
      ]
     },
     "execution_count": 651,
     "metadata": {},
     "output_type": "execute_result"
    }
   ],
   "source": [
    "# показатели по потребительским кредитам за квартал (min, max), средние показатели по потребительским кредитам за год\n",
    "# отношение кредитов к депозитам\n",
    "\n",
    "data_client[['min_cl_balance_1q', 'max_cl_balance_1q', 'avg_cl_balance_1Y', 'loan_to_deposit']].describe(\n",
    "                                                                 percentiles = [.5, .75, .80, .85, .90])"
   ]
  },
  {
   "cell_type": "markdown",
   "metadata": {},
   "source": [
    "По потребительским кредитам ситуация ситуация примерно такая же: 80% клиентов не брали потребительский кредит. Те, кто брал потребительский кредит (не менее 15% клиентов), взяли в среднем на сумму 63144."
   ]
  },
  {
   "cell_type": "code",
   "execution_count": 652,
   "metadata": {},
   "outputs": [
    {
     "data": {
      "text/html": [
       "<div>\n",
       "<style scoped>\n",
       "    .dataframe tbody tr th:only-of-type {\n",
       "        vertical-align: middle;\n",
       "    }\n",
       "\n",
       "    .dataframe tbody tr th {\n",
       "        vertical-align: top;\n",
       "    }\n",
       "\n",
       "    .dataframe thead th {\n",
       "        text-align: right;\n",
       "    }\n",
       "</style>\n",
       "<table border=\"1\" class=\"dataframe\">\n",
       "  <thead>\n",
       "    <tr style=\"text-align: right;\">\n",
       "      <th></th>\n",
       "      <th>income</th>\n",
       "      <th>nbi</th>\n",
       "    </tr>\n",
       "  </thead>\n",
       "  <tbody>\n",
       "    <tr>\n",
       "      <th>count</th>\n",
       "      <td>4.997400e+04</td>\n",
       "      <td>4.756800e+04</td>\n",
       "    </tr>\n",
       "    <tr>\n",
       "      <th>mean</th>\n",
       "      <td>2.602185e+04</td>\n",
       "      <td>1.205403e+04</td>\n",
       "    </tr>\n",
       "    <tr>\n",
       "      <th>std</th>\n",
       "      <td>4.361109e+05</td>\n",
       "      <td>4.532169e+04</td>\n",
       "    </tr>\n",
       "    <tr>\n",
       "      <th>min</th>\n",
       "      <td>0.000000e+00</td>\n",
       "      <td>1.684957e-04</td>\n",
       "    </tr>\n",
       "    <tr>\n",
       "      <th>50%</th>\n",
       "      <td>0.000000e+00</td>\n",
       "      <td>1.379670e+03</td>\n",
       "    </tr>\n",
       "    <tr>\n",
       "      <th>75%</th>\n",
       "      <td>3.164562e+04</td>\n",
       "      <td>9.781994e+03</td>\n",
       "    </tr>\n",
       "    <tr>\n",
       "      <th>80%</th>\n",
       "      <td>3.928565e+04</td>\n",
       "      <td>1.464306e+04</td>\n",
       "    </tr>\n",
       "    <tr>\n",
       "      <th>85%</th>\n",
       "      <td>4.855100e+04</td>\n",
       "      <td>2.248580e+04</td>\n",
       "    </tr>\n",
       "    <tr>\n",
       "      <th>90%</th>\n",
       "      <td>6.210826e+04</td>\n",
       "      <td>3.499448e+04</td>\n",
       "    </tr>\n",
       "    <tr>\n",
       "      <th>max</th>\n",
       "      <td>9.060000e+07</td>\n",
       "      <td>4.691796e+06</td>\n",
       "    </tr>\n",
       "  </tbody>\n",
       "</table>\n",
       "</div>"
      ],
      "text/plain": [
       "             income           nbi\n",
       "count  4.997400e+04  4.756800e+04\n",
       "mean   2.602185e+04  1.205403e+04\n",
       "std    4.361109e+05  4.532169e+04\n",
       "min    0.000000e+00  1.684957e-04\n",
       "50%    0.000000e+00  1.379670e+03\n",
       "75%    3.164562e+04  9.781994e+03\n",
       "80%    3.928565e+04  1.464306e+04\n",
       "85%    4.855100e+04  2.248580e+04\n",
       "90%    6.210826e+04  3.499448e+04\n",
       "max    9.060000e+07  4.691796e+06"
      ]
     },
     "execution_count": 652,
     "metadata": {},
     "output_type": "execute_result"
    }
   ],
   "source": [
    "# доход клиента, доход от клиента без OPEX (чистый бизнес доход)\n",
    "\n",
    "data_client[['income', 'nbi']].describe(percentiles = [.5, .75, .80, .85, .90])"
   ]
  },
  {
   "cell_type": "code",
   "execution_count": 653,
   "metadata": {},
   "outputs": [
    {
     "data": {
      "image/png": "[encoded data removed]",
      "text/plain": [
       "<Figure size 216x216 with 1 Axes>"
      ]
     },
     "metadata": {
      "needs_background": "light"
     },
     "output_type": "display_data"
    }
   ],
   "source": [
    "sns.catplot(data = data_client[['income', 'nbi']], height=3);"
   ]
  },
  {
   "cell_type": "markdown",
   "metadata": {},
   "source": [
    "По половине клиентов у нас нет данных о доходе, причём это не пропуски, а нулевые значения. По 1/4 клиентов у нас есть данные, их доходы в районе 31645. Также у нас есть клиент с доходом 90 600 000 - это максимальное значение в наших данных о доходах.\n",
    "\n",
    "Чистый средний доход от клиента в районе 12054, не более чем по половине клиентов - 1379, по 25% - 9781. Самый максимальный доход по одному из клиентов 4 691 796, самый минимальный - 0,0001 :)"
   ]
  },
  {
   "cell_type": "markdown",
   "metadata": {},
   "source": [
    "***Выводы по всем данным***\n",
    "\n",
    "- По половому признаку данные распределились примерно поровну, мужчин среди клиентов больше всего на 1,5 п.п.\n",
    "- Типов городов проживания у нас 5 в текущих данных.  30% клиентов из городов <100.\n",
    "- Средний возраст клиентов - 41 год. При этом 75% наших клиентов моложе 51 года. \n",
    "- Данные о длительности взаимоотношений, скорее всего, измеряются в месяцах, их рассмотрим позже подробнее.\n",
    "- Данные показывают, что у большинства наших клиентов нет ни ипотеки, ни кредитов. Кредиты берут не более 20% клиентов.\n",
    "- Депозитами пользуются ещё меньше: у 90% клиентов на депозитах пусто.\n",
    "- А вот на счетах в среднем лежит около 68000, но при этом не более чем у половины клиентов на счетах меньше 761, а у 75% - не более 8771. На среднее значение оказывают влияние клиенты с большими суммами на счетах.\n",
    "- Квартальные показатели говорят нам, что среднее значение max показателя по счетам за квартал почти в 2 раза больше min показателя. При этом годовой средний показатель по счетам у половины клиентов не превышает 3031.\n",
    "- Половина клиентов совершила не более 14 транзакций (трат по картам) на общую сумму не более 35179. При этом средний размер транзации у половины клиентов - не более 1716, а отношение среднего размера транзакции к балансу - 0,3.\n",
    "- По половине клиентов у нас нет данных о доходе. По 1/4 клиентов у нас есть данные, их доходы в районе 31645. Максимальное значение в наших данных о доходах - 90 600 000.\n",
    "- Чистый средний доход от клиента в районе 12054, при этом не более чем по половине клиентов доход составляет 1379, по 25% - 9781. Самый максимальный доход по одному из клиентов 4 691 796."
   ]
  },
  {
   "cell_type": "markdown",
   "metadata": {},
   "source": [
    "<a name=\"analyzedata\"></a>\n",
    "\n",
    "## Изучим и визуализируем данные"
   ]
  },
  {
   "cell_type": "markdown",
   "metadata": {},
   "source": [
    "**Типы городов**"
   ]
  },
  {
   "cell_type": "markdown",
   "metadata": {},
   "source": [
    "На этапе исследования статистических данных мы хотели вернуться к данным о типах городов в нашем датасете.\n",
    "\n",
    "Посмотрим, какие типы городов есть в выборке и сколько клиентов каждого типа. "
   ]
  },
  {
   "cell_type": "code",
   "execution_count": 654,
   "metadata": {},
   "outputs": [
    {
     "data": {
      "text/plain": [
       "<100        15406\n",
       "100-500     10725\n",
       "Mega         8951\n",
       "1M+          7905\n",
       "500-1000     6987\n",
       "Name: city_type, dtype: int64"
      ]
     },
     "execution_count": 654,
     "metadata": {},
     "output_type": "execute_result"
    }
   ],
   "source": [
    "data_client['city_type'].value_counts()"
   ]
  },
  {
   "cell_type": "markdown",
   "metadata": {},
   "source": [
    "Сохраним их в отдельную таблицу"
   ]
  },
  {
   "cell_type": "code",
   "execution_count": 655,
   "metadata": {},
   "outputs": [
    {
     "data": {
      "text/html": [
       "<div>\n",
       "<style scoped>\n",
       "    .dataframe tbody tr th:only-of-type {\n",
       "        vertical-align: middle;\n",
       "    }\n",
       "\n",
       "    .dataframe tbody tr th {\n",
       "        vertical-align: top;\n",
       "    }\n",
       "\n",
       "    .dataframe thead th {\n",
       "        text-align: right;\n",
       "    }\n",
       "</style>\n",
       "<table border=\"1\" class=\"dataframe\">\n",
       "  <thead>\n",
       "    <tr style=\"text-align: right;\">\n",
       "      <th></th>\n",
       "      <th>city_type</th>\n",
       "      <th>count</th>\n",
       "    </tr>\n",
       "  </thead>\n",
       "  <tbody>\n",
       "    <tr>\n",
       "      <th>0</th>\n",
       "      <td>&lt;100</td>\n",
       "      <td>15406</td>\n",
       "    </tr>\n",
       "    <tr>\n",
       "      <th>1</th>\n",
       "      <td>100-500</td>\n",
       "      <td>10725</td>\n",
       "    </tr>\n",
       "    <tr>\n",
       "      <th>2</th>\n",
       "      <td>Mega</td>\n",
       "      <td>8951</td>\n",
       "    </tr>\n",
       "    <tr>\n",
       "      <th>3</th>\n",
       "      <td>1M+</td>\n",
       "      <td>7905</td>\n",
       "    </tr>\n",
       "    <tr>\n",
       "      <th>4</th>\n",
       "      <td>500-1000</td>\n",
       "      <td>6987</td>\n",
       "    </tr>\n",
       "  </tbody>\n",
       "</table>\n",
       "</div>"
      ],
      "text/plain": [
       "  city_type  count\n",
       "0      <100  15406\n",
       "1   100-500  10725\n",
       "2      Mega   8951\n",
       "3       1M+   7905\n",
       "4  500-1000   6987"
      ]
     },
     "execution_count": 655,
     "metadata": {},
     "output_type": "execute_result"
    }
   ],
   "source": [
    "city_type_client_count = (data_client.groupby('city_type')['index'].count()\n",
    "                                     .sort_values(ascending=False)\n",
    "                                     .reset_index()\n",
    "                                     .head(10))\n",
    "city_type_client_count.columns = ['city_type', 'count']\n",
    "\n",
    "city_type_client_count"
   ]
  },
  {
   "cell_type": "markdown",
   "metadata": {},
   "source": [
    "Посмотрим на распределение клиентов по типам городов на графике"
   ]
  },
  {
   "cell_type": "code",
   "execution_count": 656,
   "metadata": {},
   "outputs": [
    {
     "data": {
      "image/png": "[encoded data removed]",
      "text/plain": [
       "<Figure size 720x360 with 1 Axes>"
      ]
     },
     "metadata": {},
     "output_type": "display_data"
    }
   ],
   "source": [
    "sns.set(style=\"whitegrid\")\n",
    "f, ax = plt.subplots(figsize = (10, 5))\n",
    "\n",
    "sns.barplot(data = city_type_client_count,\n",
    "            x = 'count', \n",
    "            y = 'city_type',\n",
    "            palette = 'Blues')\n",
    "\n",
    "plt.title('Количество клиентов в разных типах городов проживания', pad=20)\n",
    "plt.xlabel('Количество клиентов', labelpad = 15)\n",
    "plt.ylabel('Тип города', labelpad = 15)\n",
    "plt.show();"
   ]
  },
  {
   "cell_type": "markdown",
   "metadata": {},
   "source": [
    "Посмотрим на это же распределение в долях в виде pie-чарта"
   ]
  },
  {
   "cell_type": "code",
   "execution_count": 657,
   "metadata": {},
   "outputs": [
    {
     "data": {
      "application/vnd.plotly.v1+json": {
       "config": {
        "plotlyServerURL": "https://plot.ly"
       },
       "data": [
        {
         "domain": {
          "x": [
           0,
           1
          ],
          "y": [
           0,
           1
          ]
         },
         "hovertemplate": "city_type=%{label}<br>count=%{value}<extra></extra>",
         "labels": [
          "<100",
          "100-500",
          "Mega",
          "1M+",
          "500-1000"
         ],
         "legendgroup": "",
         "name": "",
         "showlegend": true,
         "type": "pie",
         "values": [
          15406,
          10725,
          8951,
          7905,
          6987
         ]
        }
       ],
       "layout": {
        "height": 400,
        "legend": {
         "tracegroupgap": 0
        },
        "template": {
         "data": {
          "bar": [
           {
            "error_x": {
             "color": "#2a3f5f"
            },
            "error_y": {
             "color": "#2a3f5f"
            },
            "marker": {
             "line": {
              "color": "#E5ECF6",
              "width": 0.5
             }
            },
            "type": "bar"
           }
          ],
          "barpolar": [
           {
            "marker": {
             "line": {
              "color": "#E5ECF6",
              "width": 0.5
             }
            },
            "type": "barpolar"
           }
          ],
          "carpet": [
           {
            "aaxis": {
             "endlinecolor": "#2a3f5f",
             "gridcolor": "white",
             "linecolor": "white",
             "minorgridcolor": "white",
             "startlinecolor": "#2a3f5f"
            },
            "baxis": {
             "endlinecolor": "#2a3f5f",
             "gridcolor": "white",
             "linecolor": "white",
             "minorgridcolor": "white",
             "startlinecolor": "#2a3f5f"
            },
            "type": "carpet"
           }
          ],
          "choropleth": [
           {
            "colorbar": {
             "outlinewidth": 0,
             "ticks": ""
            },
            "type": "choropleth"
           }
          ],
          "contour": [
           {
            "colorbar": {
             "outlinewidth": 0,
             "ticks": ""
            },
            "colorscale": [
             [
              0,
              "#0d0887"
             ],
             [
              0.1111111111111111,
              "#46039f"
             ],
             [
              0.2222222222222222,
              "#7201a8"
             ],
             [
              0.3333333333333333,
              "#9c179e"
             ],
             [
              0.4444444444444444,
              "#bd3786"
             ],
             [
              0.5555555555555556,
              "#d8576b"
             ],
             [
              0.6666666666666666,
              "#ed7953"
             ],
             [
              0.7777777777777778,
              "#fb9f3a"
             ],
             [
              0.8888888888888888,
              "#fdca26"
             ],
             [
              1,
              "#f0f921"
             ]
            ],
            "type": "contour"
           }
          ],
          "contourcarpet": [
           {
            "colorbar": {
             "outlinewidth": 0,
             "ticks": ""
            },
            "type": "contourcarpet"
           }
          ],
          "heatmap": [
           {
            "colorbar": {
             "outlinewidth": 0,
             "ticks": ""
            },
            "colorscale": [
             [
              0,
              "#0d0887"
             ],
             [
              0.1111111111111111,
              "#46039f"
             ],
             [
              0.2222222222222222,
              "#7201a8"
             ],
             [
              0.3333333333333333,
              "#9c179e"
             ],
             [
              0.4444444444444444,
              "#bd3786"
             ],
             [
              0.5555555555555556,
              "#d8576b"
             ],
             [
              0.6666666666666666,
              "#ed7953"
             ],
             [
              0.7777777777777778,
              "#fb9f3a"
             ],
             [
              0.8888888888888888,
              "#fdca26"
             ],
             [
              1,
              "#f0f921"
             ]
            ],
            "type": "heatmap"
           }
          ],
          "heatmapgl": [
           {
            "colorbar": {
             "outlinewidth": 0,
             "ticks": ""
            },
            "colorscale": [
             [
              0,
              "#0d0887"
             ],
             [
              0.1111111111111111,
              "#46039f"
             ],
             [
              0.2222222222222222,
              "#7201a8"
             ],
             [
              0.3333333333333333,
              "#9c179e"
             ],
             [
              0.4444444444444444,
              "#bd3786"
             ],
             [
              0.5555555555555556,
              "#d8576b"
             ],
             [
              0.6666666666666666,
              "#ed7953"
             ],
             [
              0.7777777777777778,
              "#fb9f3a"
             ],
             [
              0.8888888888888888,
              "#fdca26"
             ],
             [
              1,
              "#f0f921"
             ]
            ],
            "type": "heatmapgl"
           }
          ],
          "histogram": [
           {
            "marker": {
             "colorbar": {
              "outlinewidth": 0,
              "ticks": ""
             }
            },
            "type": "histogram"
           }
          ],
          "histogram2d": [
           {
            "colorbar": {
             "outlinewidth": 0,
             "ticks": ""
            },
            "colorscale": [
             [
              0,
              "#0d0887"
             ],
             [
              0.1111111111111111,
              "#46039f"
             ],
             [
              0.2222222222222222,
              "#7201a8"
             ],
             [
              0.3333333333333333,
              "#9c179e"
             ],
             [
              0.4444444444444444,
              "#bd3786"
             ],
             [
              0.5555555555555556,
              "#d8576b"
             ],
             [
              0.6666666666666666,
              "#ed7953"
             ],
             [
              0.7777777777777778,
              "#fb9f3a"
             ],
             [
              0.8888888888888888,
              "#fdca26"
             ],
             [
              1,
              "#f0f921"
             ]
            ],
            "type": "histogram2d"
           }
          ],
          "histogram2dcontour": [
           {
            "colorbar": {
             "outlinewidth": 0,
             "ticks": ""
            },
            "colorscale": [
             [
              0,
              "#0d0887"
             ],
             [
              0.1111111111111111,
              "#46039f"
             ],
             [
              0.2222222222222222,
              "#7201a8"
             ],
             [
              0.3333333333333333,
              "#9c179e"
             ],
             [
              0.4444444444444444,
              "#bd3786"
             ],
             [
              0.5555555555555556,
              "#d8576b"
             ],
             [
              0.6666666666666666,
              "#ed7953"
             ],
             [
              0.7777777777777778,
              "#fb9f3a"
             ],
             [
              0.8888888888888888,
              "#fdca26"
             ],
             [
              1,
              "#f0f921"
             ]
            ],
            "type": "histogram2dcontour"
           }
          ],
          "mesh3d": [
           {
            "colorbar": {
             "outlinewidth": 0,
             "ticks": ""
            },
            "type": "mesh3d"
           }
          ],
          "parcoords": [
           {
            "line": {
             "colorbar": {
              "outlinewidth": 0,
              "ticks": ""
             }
            },
            "type": "parcoords"
           }
          ],
          "pie": [
           {
            "automargin": true,
            "type": "pie"
           }
          ],
          "scatter": [
           {
            "marker": {
             "colorbar": {
              "outlinewidth": 0,
              "ticks": ""
             }
            },
            "type": "scatter"
           }
          ],
          "scatter3d": [
           {
            "line": {
             "colorbar": {
              "outlinewidth": 0,
              "ticks": ""
             }
            },
            "marker": {
             "colorbar": {
              "outlinewidth": 0,
              "ticks": ""
             }
            },
            "type": "scatter3d"
           }
          ],
          "scattercarpet": [
           {
            "marker": {
             "colorbar": {
              "outlinewidth": 0,
              "ticks": ""
             }
            },
            "type": "scattercarpet"
           }
          ],
          "scattergeo": [
           {
            "marker": {
             "colorbar": {
              "outlinewidth": 0,
              "ticks": ""
             }
            },
            "type": "scattergeo"
           }
          ],
          "scattergl": [
           {
            "marker": {
             "colorbar": {
              "outlinewidth": 0,
              "ticks": ""
             }
            },
            "type": "scattergl"
           }
          ],
          "scattermapbox": [
           {
            "marker": {
             "colorbar": {
              "outlinewidth": 0,
              "ticks": ""
             }
            },
            "type": "scattermapbox"
           }
          ],
          "scatterpolar": [
           {
            "marker": {
             "colorbar": {
              "outlinewidth": 0,
              "ticks": ""
             }
            },
            "type": "scatterpolar"
           }
          ],
          "scatterpolargl": [
           {
            "marker": {
             "colorbar": {
              "outlinewidth": 0,
              "ticks": ""
             }
            },
            "type": "scatterpolargl"
           }
          ],
          "scatterternary": [
           {
            "marker": {
             "colorbar": {
              "outlinewidth": 0,
              "ticks": ""
             }
            },
            "type": "scatterternary"
           }
          ],
          "surface": [
           {
            "colorbar": {
             "outlinewidth": 0,
             "ticks": ""
            },
            "colorscale": [
             [
              0,
              "#0d0887"
             ],
             [
              0.1111111111111111,
              "#46039f"
             ],
             [
              0.2222222222222222,
              "#7201a8"
             ],
             [
              0.3333333333333333,
              "#9c179e"
             ],
             [
              0.4444444444444444,
              "#bd3786"
             ],
             [
              0.5555555555555556,
              "#d8576b"
             ],
             [
              0.6666666666666666,
              "#ed7953"
             ],
             [
              0.7777777777777778,
              "#fb9f3a"
             ],
             [
              0.8888888888888888,
              "#fdca26"
             ],
             [
              1,
              "#f0f921"
             ]
            ],
            "type": "surface"
           }
          ],
          "table": [
           {
            "cells": {
             "fill": {
              "color": "#EBF0F8"
             },
             "line": {
              "color": "white"
             }
            },
            "header": {
             "fill": {
              "color": "#C8D4E3"
             },
             "line": {
              "color": "white"
             }
            },
            "type": "table"
           }
          ]
         },
         "layout": {
          "annotationdefaults": {
           "arrowcolor": "#2a3f5f",
           "arrowhead": 0,
           "arrowwidth": 1
          },
          "coloraxis": {
           "colorbar": {
            "outlinewidth": 0,
            "ticks": ""
           }
          },
          "colorscale": {
           "diverging": [
            [
             0,
             "#8e0152"
            ],
            [
             0.1,
             "#c51b7d"
            ],
            [
             0.2,
             "#de77ae"
            ],
            [
             0.3,
             "#f1b6da"
            ],
            [
             0.4,
             "#fde0ef"
            ],
            [
             0.5,
             "#f7f7f7"
            ],
            [
             0.6,
             "#e6f5d0"
            ],
            [
             0.7,
             "#b8e186"
            ],
            [
             0.8,
             "#7fbc41"
            ],
            [
             0.9,
             "#4d9221"
            ],
            [
             1,
             "#276419"
            ]
           ],
           "sequential": [
            [
             0,
             "#0d0887"
            ],
            [
             0.1111111111111111,
             "#46039f"
            ],
            [
             0.2222222222222222,
             "#7201a8"
            ],
            [
             0.3333333333333333,
             "#9c179e"
            ],
            [
             0.4444444444444444,
             "#bd3786"
            ],
            [
             0.5555555555555556,
             "#d8576b"
            ],
            [
             0.6666666666666666,
             "#ed7953"
            ],
            [
             0.7777777777777778,
             "#fb9f3a"
            ],
            [
             0.8888888888888888,
             "#fdca26"
            ],
            [
             1,
             "#f0f921"
            ]
           ],
           "sequentialminus": [
            [
             0,
             "#0d0887"
            ],
            [
             0.1111111111111111,
             "#46039f"
            ],
            [
             0.2222222222222222,
             "#7201a8"
            ],
            [
             0.3333333333333333,
             "#9c179e"
            ],
            [
             0.4444444444444444,
             "#bd3786"
            ],
            [
             0.5555555555555556,
             "#d8576b"
            ],
            [
             0.6666666666666666,
             "#ed7953"
            ],
            [
             0.7777777777777778,
             "#fb9f3a"
            ],
            [
             0.8888888888888888,
             "#fdca26"
            ],
            [
             1,
             "#f0f921"
            ]
           ]
          },
          "colorway": [
           "#636efa",
           "#EF553B",
           "#00cc96",
           "#ab63fa",
           "#FFA15A",
           "#19d3f3",
           "#FF6692",
           "#B6E880",
           "#FF97FF",
           "#FECB52"
          ],
          "font": {
           "color": "#2a3f5f"
          },
          "geo": {
           "bgcolor": "white",
           "lakecolor": "white",
           "landcolor": "#E5ECF6",
           "showlakes": true,
           "showland": true,
           "subunitcolor": "white"
          },
          "hoverlabel": {
           "align": "left"
          },
          "hovermode": "closest",
          "mapbox": {
           "style": "light"
          },
          "paper_bgcolor": "white",
          "plot_bgcolor": "#E5ECF6",
          "polar": {
           "angularaxis": {
            "gridcolor": "white",
            "linecolor": "white",
            "ticks": ""
           },
           "bgcolor": "#E5ECF6",
           "radialaxis": {
            "gridcolor": "white",
            "linecolor": "white",
            "ticks": ""
           }
          },
          "scene": {
           "xaxis": {
            "backgroundcolor": "#E5ECF6",
            "gridcolor": "white",
            "gridwidth": 2,
            "linecolor": "white",
            "showbackground": true,
            "ticks": "",
            "zerolinecolor": "white"
           },
           "yaxis": {
            "backgroundcolor": "#E5ECF6",
            "gridcolor": "white",
            "gridwidth": 2,
            "linecolor": "white",
            "showbackground": true,
            "ticks": "",
            "zerolinecolor": "white"
           },
           "zaxis": {
            "backgroundcolor": "#E5ECF6",
            "gridcolor": "white",
            "gridwidth": 2,
            "linecolor": "white",
            "showbackground": true,
            "ticks": "",
            "zerolinecolor": "white"
           }
          },
          "shapedefaults": {
           "line": {
            "color": "#2a3f5f"
           }
          },
          "ternary": {
           "aaxis": {
            "gridcolor": "white",
            "linecolor": "white",
            "ticks": ""
           },
           "baxis": {
            "gridcolor": "white",
            "linecolor": "white",
            "ticks": ""
           },
           "bgcolor": "#E5ECF6",
           "caxis": {
            "gridcolor": "white",
            "linecolor": "white",
            "ticks": ""
           }
          },
          "title": {
           "x": 0.05
          },
          "xaxis": {
           "automargin": true,
           "gridcolor": "white",
           "linecolor": "white",
           "ticks": "",
           "title": {
            "standoff": 15
           },
           "zerolinecolor": "white",
           "zerolinewidth": 2
          },
          "yaxis": {
           "automargin": true,
           "gridcolor": "white",
           "linecolor": "white",
           "ticks": "",
           "title": {
            "standoff": 15
           },
           "zerolinecolor": "white",
           "zerolinewidth": 2
          }
         }
        },
        "title": {
         "text": "Распределение клиентов в разных типах городов проживания"
        },
        "width": 600
       }
      },
      "text/html": [
       "<div>\n",
       "        \n",
       "        \n",
       "            <div id=\"f9607874-9dcc-4cb7-b1ec-b1166af5ed30\" class=\"plotly-graph-div\" style=\"height:400px; width:600px;\"></div>\n",
       "            <script type=\"text/javascript\">\n",
       "                require([\"plotly\"], function(Plotly) {\n",
       "                    window.PLOTLYENV=window.PLOTLYENV || {};\n",
       "                    \n",
       "                if (document.getElementById(\"f9607874-9dcc-4cb7-b1ec-b1166af5ed30\")) {\n",
       "                    Plotly.newPlot(\n",
       "                        'f9607874-9dcc-4cb7-b1ec-b1166af5ed30',\n",
       "                        [{\"domain\": {\"x\": [0.0, 1.0], \"y\": [0.0, 1.0]}, \"hovertemplate\": \"city_type=%{label}<br>count=%{value}<extra></extra>\", \"labels\": [\"<100\", \"100-500\", \"Mega\", \"1M+\", \"500-1000\"], \"legendgroup\": \"\", \"name\": \"\", \"showlegend\": true, \"type\": \"pie\", \"values\": [15406, 10725, 8951, 7905, 6987]}],\n",
       "                        {\"height\": 400, \"legend\": {\"tracegroupgap\": 0}, \"template\": {\"data\": {\"bar\": [{\"error_x\": {\"color\": \"#2a3f5f\"}, \"error_y\": {\"color\": \"#2a3f5f\"}, \"marker\": {\"line\": {\"color\": \"#E5ECF6\", \"width\": 0.5}}, \"type\": \"bar\"}], \"barpolar\": [{\"marker\": {\"line\": {\"color\": \"#E5ECF6\", \"width\": 0.5}}, \"type\": \"barpolar\"}], \"carpet\": [{\"aaxis\": {\"endlinecolor\": \"#2a3f5f\", \"gridcolor\": \"white\", \"linecolor\": \"white\", \"minorgridcolor\": \"white\", \"startlinecolor\": \"#2a3f5f\"}, \"baxis\": {\"endlinecolor\": \"#2a3f5f\", \"gridcolor\": \"white\", \"linecolor\": \"white\", \"minorgridcolor\": \"white\", \"startlinecolor\": \"#2a3f5f\"}, \"type\": \"carpet\"}], \"choropleth\": [{\"colorbar\": {\"outlinewidth\": 0, \"ticks\": \"\"}, \"type\": \"choropleth\"}], \"contour\": [{\"colorbar\": {\"outlinewidth\": 0, \"ticks\": \"\"}, \"colorscale\": [[0.0, \"#0d0887\"], [0.1111111111111111, \"#46039f\"], [0.2222222222222222, \"#7201a8\"], [0.3333333333333333, \"#9c179e\"], [0.4444444444444444, \"#bd3786\"], [0.5555555555555556, \"#d8576b\"], [0.6666666666666666, \"#ed7953\"], [0.7777777777777778, \"#fb9f3a\"], [0.8888888888888888, \"#fdca26\"], [1.0, \"#f0f921\"]], \"type\": \"contour\"}], \"contourcarpet\": [{\"colorbar\": {\"outlinewidth\": 0, \"ticks\": \"\"}, \"type\": \"contourcarpet\"}], \"heatmap\": [{\"colorbar\": {\"outlinewidth\": 0, \"ticks\": \"\"}, \"colorscale\": [[0.0, \"#0d0887\"], [0.1111111111111111, \"#46039f\"], [0.2222222222222222, \"#7201a8\"], [0.3333333333333333, \"#9c179e\"], [0.4444444444444444, \"#bd3786\"], [0.5555555555555556, \"#d8576b\"], [0.6666666666666666, \"#ed7953\"], [0.7777777777777778, \"#fb9f3a\"], [0.8888888888888888, \"#fdca26\"], [1.0, \"#f0f921\"]], \"type\": \"heatmap\"}], \"heatmapgl\": [{\"colorbar\": {\"outlinewidth\": 0, \"ticks\": \"\"}, \"colorscale\": [[0.0, \"#0d0887\"], [0.1111111111111111, \"#46039f\"], [0.2222222222222222, \"#7201a8\"], [0.3333333333333333, \"#9c179e\"], [0.4444444444444444, \"#bd3786\"], [0.5555555555555556, \"#d8576b\"], [0.6666666666666666, \"#ed7953\"], [0.7777777777777778, \"#fb9f3a\"], [0.8888888888888888, \"#fdca26\"], [1.0, \"#f0f921\"]], \"type\": \"heatmapgl\"}], \"histogram\": [{\"marker\": {\"colorbar\": {\"outlinewidth\": 0, \"ticks\": \"\"}}, \"type\": \"histogram\"}], \"histogram2d\": [{\"colorbar\": {\"outlinewidth\": 0, \"ticks\": \"\"}, \"colorscale\": [[0.0, \"#0d0887\"], [0.1111111111111111, \"#46039f\"], [0.2222222222222222, \"#7201a8\"], [0.3333333333333333, \"#9c179e\"], [0.4444444444444444, \"#bd3786\"], [0.5555555555555556, \"#d8576b\"], [0.6666666666666666, \"#ed7953\"], [0.7777777777777778, \"#fb9f3a\"], [0.8888888888888888, \"#fdca26\"], [1.0, \"#f0f921\"]], \"type\": \"histogram2d\"}], \"histogram2dcontour\": [{\"colorbar\": {\"outlinewidth\": 0, \"ticks\": \"\"}, \"colorscale\": [[0.0, \"#0d0887\"], [0.1111111111111111, \"#46039f\"], [0.2222222222222222, \"#7201a8\"], [0.3333333333333333, \"#9c179e\"], [0.4444444444444444, \"#bd3786\"], [0.5555555555555556, \"#d8576b\"], [0.6666666666666666, \"#ed7953\"], [0.7777777777777778, \"#fb9f3a\"], [0.8888888888888888, \"#fdca26\"], [1.0, \"#f0f921\"]], \"type\": \"histogram2dcontour\"}], \"mesh3d\": [{\"colorbar\": {\"outlinewidth\": 0, \"ticks\": \"\"}, \"type\": \"mesh3d\"}], \"parcoords\": [{\"line\": {\"colorbar\": {\"outlinewidth\": 0, \"ticks\": \"\"}}, \"type\": \"parcoords\"}], \"pie\": [{\"automargin\": true, \"type\": \"pie\"}], \"scatter\": [{\"marker\": {\"colorbar\": {\"outlinewidth\": 0, \"ticks\": \"\"}}, \"type\": \"scatter\"}], \"scatter3d\": [{\"line\": {\"colorbar\": {\"outlinewidth\": 0, \"ticks\": \"\"}}, \"marker\": {\"colorbar\": {\"outlinewidth\": 0, \"ticks\": \"\"}}, \"type\": \"scatter3d\"}], \"scattercarpet\": [{\"marker\": {\"colorbar\": {\"outlinewidth\": 0, \"ticks\": \"\"}}, \"type\": \"scattercarpet\"}], \"scattergeo\": [{\"marker\": {\"colorbar\": {\"outlinewidth\": 0, \"ticks\": \"\"}}, \"type\": \"scattergeo\"}], \"scattergl\": [{\"marker\": {\"colorbar\": {\"outlinewidth\": 0, \"ticks\": \"\"}}, \"type\": \"scattergl\"}], \"scattermapbox\": [{\"marker\": {\"colorbar\": {\"outlinewidth\": 0, \"ticks\": \"\"}}, \"type\": \"scattermapbox\"}], \"scatterpolar\": [{\"marker\": {\"colorbar\": {\"outlinewidth\": 0, \"ticks\": \"\"}}, \"type\": \"scatterpolar\"}], \"scatterpolargl\": [{\"marker\": {\"colorbar\": {\"outlinewidth\": 0, \"ticks\": \"\"}}, \"type\": \"scatterpolargl\"}], \"scatterternary\": [{\"marker\": {\"colorbar\": {\"outlinewidth\": 0, \"ticks\": \"\"}}, \"type\": \"scatterternary\"}], \"surface\": [{\"colorbar\": {\"outlinewidth\": 0, \"ticks\": \"\"}, \"colorscale\": [[0.0, \"#0d0887\"], [0.1111111111111111, \"#46039f\"], [0.2222222222222222, \"#7201a8\"], [0.3333333333333333, \"#9c179e\"], [0.4444444444444444, \"#bd3786\"], [0.5555555555555556, \"#d8576b\"], [0.6666666666666666, \"#ed7953\"], [0.7777777777777778, \"#fb9f3a\"], [0.8888888888888888, \"#fdca26\"], [1.0, \"#f0f921\"]], \"type\": \"surface\"}], \"table\": [{\"cells\": {\"fill\": {\"color\": \"#EBF0F8\"}, \"line\": {\"color\": \"white\"}}, \"header\": {\"fill\": {\"color\": \"#C8D4E3\"}, \"line\": {\"color\": \"white\"}}, \"type\": \"table\"}]}, \"layout\": {\"annotationdefaults\": {\"arrowcolor\": \"#2a3f5f\", \"arrowhead\": 0, \"arrowwidth\": 1}, \"coloraxis\": {\"colorbar\": {\"outlinewidth\": 0, \"ticks\": \"\"}}, \"colorscale\": {\"diverging\": [[0, \"#8e0152\"], [0.1, \"#c51b7d\"], [0.2, \"#de77ae\"], [0.3, \"#f1b6da\"], [0.4, \"#fde0ef\"], [0.5, \"#f7f7f7\"], [0.6, \"#e6f5d0\"], [0.7, \"#b8e186\"], [0.8, \"#7fbc41\"], [0.9, \"#4d9221\"], [1, \"#276419\"]], \"sequential\": [[0.0, \"#0d0887\"], [0.1111111111111111, \"#46039f\"], [0.2222222222222222, \"#7201a8\"], [0.3333333333333333, \"#9c179e\"], [0.4444444444444444, \"#bd3786\"], [0.5555555555555556, \"#d8576b\"], [0.6666666666666666, \"#ed7953\"], [0.7777777777777778, \"#fb9f3a\"], [0.8888888888888888, \"#fdca26\"], [1.0, \"#f0f921\"]], \"sequentialminus\": [[0.0, \"#0d0887\"], [0.1111111111111111, \"#46039f\"], [0.2222222222222222, \"#7201a8\"], [0.3333333333333333, \"#9c179e\"], [0.4444444444444444, \"#bd3786\"], [0.5555555555555556, \"#d8576b\"], [0.6666666666666666, \"#ed7953\"], [0.7777777777777778, \"#fb9f3a\"], [0.8888888888888888, \"#fdca26\"], [1.0, \"#f0f921\"]]}, \"colorway\": [\"#636efa\", \"#EF553B\", \"#00cc96\", \"#ab63fa\", \"#FFA15A\", \"#19d3f3\", \"#FF6692\", \"#B6E880\", \"#FF97FF\", \"#FECB52\"], \"font\": {\"color\": \"#2a3f5f\"}, \"geo\": {\"bgcolor\": \"white\", \"lakecolor\": \"white\", \"landcolor\": \"#E5ECF6\", \"showlakes\": true, \"showland\": true, \"subunitcolor\": \"white\"}, \"hoverlabel\": {\"align\": \"left\"}, \"hovermode\": \"closest\", \"mapbox\": {\"style\": \"light\"}, \"paper_bgcolor\": \"white\", \"plot_bgcolor\": \"#E5ECF6\", \"polar\": {\"angularaxis\": {\"gridcolor\": \"white\", \"linecolor\": \"white\", \"ticks\": \"\"}, \"bgcolor\": \"#E5ECF6\", \"radialaxis\": {\"gridcolor\": \"white\", \"linecolor\": \"white\", \"ticks\": \"\"}}, \"scene\": {\"xaxis\": {\"backgroundcolor\": \"#E5ECF6\", \"gridcolor\": \"white\", \"gridwidth\": 2, \"linecolor\": \"white\", \"showbackground\": true, \"ticks\": \"\", \"zerolinecolor\": \"white\"}, \"yaxis\": {\"backgroundcolor\": \"#E5ECF6\", \"gridcolor\": \"white\", \"gridwidth\": 2, \"linecolor\": \"white\", \"showbackground\": true, \"ticks\": \"\", \"zerolinecolor\": \"white\"}, \"zaxis\": {\"backgroundcolor\": \"#E5ECF6\", \"gridcolor\": \"white\", \"gridwidth\": 2, \"linecolor\": \"white\", \"showbackground\": true, \"ticks\": \"\", \"zerolinecolor\": \"white\"}}, \"shapedefaults\": {\"line\": {\"color\": \"#2a3f5f\"}}, \"ternary\": {\"aaxis\": {\"gridcolor\": \"white\", \"linecolor\": \"white\", \"ticks\": \"\"}, \"baxis\": {\"gridcolor\": \"white\", \"linecolor\": \"white\", \"ticks\": \"\"}, \"bgcolor\": \"#E5ECF6\", \"caxis\": {\"gridcolor\": \"white\", \"linecolor\": \"white\", \"ticks\": \"\"}}, \"title\": {\"x\": 0.05}, \"xaxis\": {\"automargin\": true, \"gridcolor\": \"white\", \"linecolor\": \"white\", \"ticks\": \"\", \"title\": {\"standoff\": 15}, \"zerolinecolor\": \"white\", \"zerolinewidth\": 2}, \"yaxis\": {\"automargin\": true, \"gridcolor\": \"white\", \"linecolor\": \"white\", \"ticks\": \"\", \"title\": {\"standoff\": 15}, \"zerolinecolor\": \"white\", \"zerolinewidth\": 2}}}, \"title\": {\"text\": \"\\u0420\\u0430\\u0441\\u043f\\u0440\\u0435\\u0434\\u0435\\u043b\\u0435\\u043d\\u0438\\u0435 \\u043a\\u043b\\u0438\\u0435\\u043d\\u0442\\u043e\\u0432 \\u0432 \\u0440\\u0430\\u0437\\u043d\\u044b\\u0445 \\u0442\\u0438\\u043f\\u0430\\u0445 \\u0433\\u043e\\u0440\\u043e\\u0434\\u043e\\u0432 \\u043f\\u0440\\u043e\\u0436\\u0438\\u0432\\u0430\\u043d\\u0438\\u044f\"}, \"width\": 600},\n",
       "                        {\"responsive\": true}\n",
       "                    ).then(function(){\n",
       "                            \n",
       "var gd = document.getElementById('f9607874-9dcc-4cb7-b1ec-b1166af5ed30');\n",
       "var x = new MutationObserver(function (mutations, observer) {{\n",
       "        var display = window.getComputedStyle(gd).display;\n",
       "        if (!display || display === 'none') {{\n",
       "            console.log([gd, 'removed!']);\n",
       "            Plotly.purge(gd);\n",
       "            observer.disconnect();\n",
       "        }}\n",
       "}});\n",
       "\n",
       "// Listen for the removal of the full notebook cells\n",
       "var notebookContainer = gd.closest('#notebook-container');\n",
       "if (notebookContainer) {{\n",
       "    x.observe(notebookContainer, {childList: true});\n",
       "}}\n",
       "\n",
       "// Listen for the clearing of the current output cell\n",
       "var outputEl = gd.closest('.output');\n",
       "if (outputEl) {{\n",
       "    x.observe(outputEl, {childList: true});\n",
       "}}\n",
       "\n",
       "                        })\n",
       "                };\n",
       "                });\n",
       "            </script>\n",
       "        </div>"
      ]
     },
     "metadata": {},
     "output_type": "display_data"
    }
   ],
   "source": [
    "fig = px.pie(city_type_client_count, \n",
    "             values='count', names='city_type', title='Распределение клиентов в разных типах городов проживания',\n",
    "             width=600, height=400)\n",
    "fig.show()"
   ]
  },
  {
   "cell_type": "markdown",
   "metadata": {},
   "source": [
    "***Выводы***\n",
    "\n",
    "Самый популярный сегмент из типов городов - это <100, как мы это и вычислили ранее. \n",
    "\n",
    "А города с населением ***500-1000 - самый неохваченный сегмент***, в них клиентов меньше всего по сравнению с другими типами."
   ]
  },
  {
   "cell_type": "markdown",
   "metadata": {},
   "source": [
    "**Длительность взаимоотношений с банком**"
   ]
  },
  {
   "cell_type": "markdown",
   "metadata": {},
   "source": [
    "На этапе статистического исследования мы также планировали повнимательней посмотреть на данные о длительности взаимоотношений с банком.\n",
    "Посмотрим, какие значения у нас есть в колонке с этим показателем"
   ]
  },
  {
   "cell_type": "code",
   "execution_count": 658,
   "metadata": {},
   "outputs": [
    {
     "data": {
      "text/plain": [
       "array([103,  81,  50,  56,  13, 154, 165,  40,   3,  37, 156,  63,  52,\n",
       "        10, 152,  26,   9,  78,  68,  49, 141,  34,  22,   0, 157,  11,\n",
       "        99,  29, 108,  90,  27,   1,  75,  30,  84, 117,  54,  74,  79,\n",
       "       105,  42,  12,  16,   2,  21,  24,  46,  18,  94,  33,  14, 128,\n",
       "        36,  44,  80,  35,  67,  62, 102,  41,   6,  23,  53,   5,  85,\n",
       "       158, 104,  25,  39,  15,  20,  88,  55,  66,  98,  72,   4,  73,\n",
       "         8, 101, 106, 137,  38, 166,  76,   7,  17, 124,  31,  92, 134,\n",
       "        93,  19,  58,  89, 135, 123, 139,  70, 167,  69, 160, 120,  32,\n",
       "       111, 145,  28,  51,  64,  82, 163, 122,  59, 144, 162,  48, 140,\n",
       "        57, 107, 109,  43, 100, 161, 142, 129,  77,  86, 151, 121, 148,\n",
       "        61, 118, 159, 115, 125,  65,  60, 110,  91, 150, 132,  95, 164,\n",
       "       136, 153, 131, 146,  87,  71, 133, 176, 127,  97, 155, 138,  47,\n",
       "       130,  45, 143, 168, 114,  83, 172, 149, 147, 116, 126, 112, 169,\n",
       "       113,  96, 178, 119, 173, 181, 170, 236, 171, 174, 185, 214, 175,\n",
       "       177, 195, 183], dtype=int64)"
      ]
     },
     "execution_count": 658,
     "metadata": {},
     "output_type": "execute_result"
    }
   ],
   "source": [
    "data_client['full_mob'].unique()"
   ]
  },
  {
   "cell_type": "markdown",
   "metadata": {},
   "source": [
    "Ранее на основе описательских статистик мы предположили, что данные показывают длительность в месяцах, но однозначный вывод сделать нельзя. Судя по полученным значениям, данные исчисляются либо в днях, либо в месяцах, будем смотреть на них как на условные единицы."
   ]
  },
  {
   "cell_type": "markdown",
   "metadata": {},
   "source": [
    "Построим гистограмму распределения клиентов в зависимости от периода взаимоотношений с банком"
   ]
  },
  {
   "cell_type": "code",
   "execution_count": 659,
   "metadata": {},
   "outputs": [
    {
     "data": {
      "image/png": "[encoded data removed]",
      "text/plain": [
       "<Figure size 1080x360 with 1 Axes>"
      ]
     },
     "metadata": {},
     "output_type": "display_data"
    }
   ],
   "source": [
    "fig, ax = plt.subplots(figsize=(15, 5)) \n",
    "\n",
    "sns.distplot(data_client['full_mob'], bins=20)\n",
    "plt.title('Распределение клиентов по длительность взаимоотношений с банком', pad = 30)\n",
    "plt.xlabel('Длительность взаимоотношений с банком (y.e.)', labelpad = 15)\n",
    "plt.ylabel('Количество клиентов', labelpad = 15)\n",
    "plt.grid()\n",
    "plt.show();"
   ]
  },
  {
   "cell_type": "markdown",
   "metadata": {},
   "source": [
    "***Выводы***\n",
    "\n",
    "Видим, что среди клиентов ***много новичков*** (от 0 до 30 у.е.). Есть ещё один выделяющий сегмент - клиенты, которые с банком уже 70 у.е."
   ]
  },
  {
   "cell_type": "markdown",
   "metadata": {},
   "source": [
    "**Возраст клиентов**"
   ]
  },
  {
   "cell_type": "markdown",
   "metadata": {},
   "source": [
    "Из качественных признаков в нашем датасете есть ещё пол и возраст клиентов. Зависимость других значений от пола рассмотрим позже, а сейчас можно посмотреть на распределение клиентов по возрасту наглядно"
   ]
  },
  {
   "cell_type": "code",
   "execution_count": 660,
   "metadata": {},
   "outputs": [
    {
     "data": {
      "image/png": "[encoded data removed]",
      "text/plain": [
       "<Figure size 1080x360 with 1 Axes>"
      ]
     },
     "metadata": {},
     "output_type": "display_data"
    }
   ],
   "source": [
    "fig, ax = plt.subplots(figsize=(15, 5)) \n",
    "\n",
    "sns.distplot(data_client['age'], bins=20)\n",
    "plt.title('Распределение клиентов по возрасту', pad = 30)\n",
    "plt.xlabel('Возраст клиентов', labelpad = 15)\n",
    "plt.ylabel('Количество клиентов', labelpad = 15)\n",
    "plt.grid()\n",
    "plt.show();"
   ]
  },
  {
   "cell_type": "markdown",
   "metadata": {},
   "source": [
    "Мы видим вполне ожидаемую картину: основная часть наших клиентов - работающее население в возрасте ***от 25 до 60 лет***. Небольшие пики есть у данных, соответствующий возрастам 30 и 40 лет."
   ]
  },
  {
   "cell_type": "markdown",
   "metadata": {},
   "source": [
    "**Корреляция между данными**"
   ]
  },
  {
   "cell_type": "markdown",
   "metadata": {},
   "source": [
    "Мы выяснили, что большинство клиентов не берут кредиты (ипотека, потребительский, все кредиты) и не пользуются депозитами. Поэтому рассмотрим, как между собой коррелируют остальные данные, при этом на всякий случай оставим колонки с общими данными по всем кредитам (loan_balance_0m) и депозитам (td_balance_0m) - возможно, в них также обнаружатся какие-нибудь зависимости."
   ]
  },
  {
   "cell_type": "code",
   "execution_count": 661,
   "metadata": {},
   "outputs": [
    {
     "data": {
      "text/html": [
       "<div>\n",
       "<style scoped>\n",
       "    .dataframe tbody tr th:only-of-type {\n",
       "        vertical-align: middle;\n",
       "    }\n",
       "\n",
       "    .dataframe tbody tr th {\n",
       "        vertical-align: top;\n",
       "    }\n",
       "\n",
       "    .dataframe thead th {\n",
       "        text-align: right;\n",
       "    }\n",
       "</style>\n",
       "<table border=\"1\" class=\"dataframe\">\n",
       "  <thead>\n",
       "    <tr style=\"text-align: right;\">\n",
       "      <th></th>\n",
       "      <th>age</th>\n",
       "      <th>full_mob</th>\n",
       "      <th>loan_balance_0m</th>\n",
       "      <th>td_balance_0m</th>\n",
       "      <th>casa_balance_0m</th>\n",
       "      <th>dc_trx_cnt</th>\n",
       "      <th>dc_trx_sum</th>\n",
       "      <th>Avg_trx</th>\n",
       "      <th>avgtrx_to_balance</th>\n",
       "      <th>income</th>\n",
       "      <th>nbi</th>\n",
       "    </tr>\n",
       "  </thead>\n",
       "  <tbody>\n",
       "    <tr>\n",
       "      <th>0</th>\n",
       "      <td>71</td>\n",
       "      <td>103</td>\n",
       "      <td>0.0</td>\n",
       "      <td>0.0</td>\n",
       "      <td>0.0000</td>\n",
       "      <td>0</td>\n",
       "      <td>0.00</td>\n",
       "      <td>NaN</td>\n",
       "      <td>NaN</td>\n",
       "      <td>0.0</td>\n",
       "      <td>NaN</td>\n",
       "    </tr>\n",
       "    <tr>\n",
       "      <th>1</th>\n",
       "      <td>49</td>\n",
       "      <td>81</td>\n",
       "      <td>0.0</td>\n",
       "      <td>0.0</td>\n",
       "      <td>3272.9367</td>\n",
       "      <td>0</td>\n",
       "      <td>0.00</td>\n",
       "      <td>NaN</td>\n",
       "      <td>NaN</td>\n",
       "      <td>0.0</td>\n",
       "      <td>28.762952</td>\n",
       "    </tr>\n",
       "    <tr>\n",
       "      <th>2</th>\n",
       "      <td>56</td>\n",
       "      <td>81</td>\n",
       "      <td>0.0</td>\n",
       "      <td>0.0</td>\n",
       "      <td>6249.7550</td>\n",
       "      <td>6</td>\n",
       "      <td>5128.02</td>\n",
       "      <td>854.67</td>\n",
       "      <td>0.083467</td>\n",
       "      <td>0.0</td>\n",
       "      <td>1973.335539</td>\n",
       "    </tr>\n",
       "    <tr>\n",
       "      <th>3</th>\n",
       "      <td>47</td>\n",
       "      <td>81</td>\n",
       "      <td>0.0</td>\n",
       "      <td>0.0</td>\n",
       "      <td>14354.9370</td>\n",
       "      <td>0</td>\n",
       "      <td>0.00</td>\n",
       "      <td>NaN</td>\n",
       "      <td>NaN</td>\n",
       "      <td>0.0</td>\n",
       "      <td>364.008556</td>\n",
       "    </tr>\n",
       "    <tr>\n",
       "      <th>4</th>\n",
       "      <td>74</td>\n",
       "      <td>81</td>\n",
       "      <td>0.0</td>\n",
       "      <td>0.0</td>\n",
       "      <td>91511.7691</td>\n",
       "      <td>0</td>\n",
       "      <td>0.00</td>\n",
       "      <td>NaN</td>\n",
       "      <td>NaN</td>\n",
       "      <td>0.0</td>\n",
       "      <td>6651.416562</td>\n",
       "    </tr>\n",
       "  </tbody>\n",
       "</table>\n",
       "</div>"
      ],
      "text/plain": [
       "   age  full_mob  loan_balance_0m  td_balance_0m  casa_balance_0m  dc_trx_cnt  \\\n",
       "0   71       103              0.0            0.0           0.0000           0   \n",
       "1   49        81              0.0            0.0        3272.9367           0   \n",
       "2   56        81              0.0            0.0        6249.7550           6   \n",
       "3   47        81              0.0            0.0       14354.9370           0   \n",
       "4   74        81              0.0            0.0       91511.7691           0   \n",
       "\n",
       "   dc_trx_sum  Avg_trx  avgtrx_to_balance  income          nbi  \n",
       "0        0.00      NaN                NaN     0.0          NaN  \n",
       "1        0.00      NaN                NaN     0.0    28.762952  \n",
       "2     5128.02   854.67           0.083467     0.0  1973.335539  \n",
       "3        0.00      NaN                NaN     0.0   364.008556  \n",
       "4        0.00      NaN                NaN     0.0  6651.416562  "
      ]
     },
     "execution_count": 661,
     "metadata": {},
     "output_type": "execute_result"
    }
   ],
   "source": [
    "# выделим нужные параметры в отдельный список\n",
    "\n",
    "parameters = ['age', 'full_mob',\n",
    "             'loan_balance_0m', 'td_balance_0m', 'casa_balance_0m',\n",
    "             'dc_trx_cnt', 'dc_trx_sum', 'Avg_trx', 'avgtrx_to_balance',\n",
    "             'income', 'nbi']\n",
    "\n",
    "# сохраним данные в отдельную таблицу\n",
    "\n",
    "data_parameters = data_client[parameters]\n",
    "data_parameters.head()"
   ]
  },
  {
   "cell_type": "markdown",
   "metadata": {},
   "source": [
    "Переименуем столбцы, чтобы было понятней, какие данные мы смотрим"
   ]
  },
  {
   "cell_type": "code",
   "execution_count": 662,
   "metadata": {},
   "outputs": [
    {
     "data": {
      "text/html": [
       "<div>\n",
       "<style scoped>\n",
       "    .dataframe tbody tr th:only-of-type {\n",
       "        vertical-align: middle;\n",
       "    }\n",
       "\n",
       "    .dataframe tbody tr th {\n",
       "        vertical-align: top;\n",
       "    }\n",
       "\n",
       "    .dataframe thead th {\n",
       "        text-align: right;\n",
       "    }\n",
       "</style>\n",
       "<table border=\"1\" class=\"dataframe\">\n",
       "  <thead>\n",
       "    <tr style=\"text-align: right;\">\n",
       "      <th></th>\n",
       "      <th>возраст</th>\n",
       "      <th>длит_отн</th>\n",
       "      <th>кредиты</th>\n",
       "      <th>депозиты</th>\n",
       "      <th>счета</th>\n",
       "      <th>кол-во_трат</th>\n",
       "      <th>сумма_трат</th>\n",
       "      <th>ср_транзакц</th>\n",
       "      <th>транзакц_к_балансу</th>\n",
       "      <th>доход_клиент</th>\n",
       "      <th>чист_доход_бизнес</th>\n",
       "    </tr>\n",
       "  </thead>\n",
       "  <tbody>\n",
       "    <tr>\n",
       "      <th>0</th>\n",
       "      <td>71</td>\n",
       "      <td>103</td>\n",
       "      <td>0.0</td>\n",
       "      <td>0.0</td>\n",
       "      <td>0.0000</td>\n",
       "      <td>0</td>\n",
       "      <td>0.00</td>\n",
       "      <td>NaN</td>\n",
       "      <td>NaN</td>\n",
       "      <td>0.0</td>\n",
       "      <td>NaN</td>\n",
       "    </tr>\n",
       "    <tr>\n",
       "      <th>1</th>\n",
       "      <td>49</td>\n",
       "      <td>81</td>\n",
       "      <td>0.0</td>\n",
       "      <td>0.0</td>\n",
       "      <td>3272.9367</td>\n",
       "      <td>0</td>\n",
       "      <td>0.00</td>\n",
       "      <td>NaN</td>\n",
       "      <td>NaN</td>\n",
       "      <td>0.0</td>\n",
       "      <td>28.762952</td>\n",
       "    </tr>\n",
       "    <tr>\n",
       "      <th>2</th>\n",
       "      <td>56</td>\n",
       "      <td>81</td>\n",
       "      <td>0.0</td>\n",
       "      <td>0.0</td>\n",
       "      <td>6249.7550</td>\n",
       "      <td>6</td>\n",
       "      <td>5128.02</td>\n",
       "      <td>854.67</td>\n",
       "      <td>0.083467</td>\n",
       "      <td>0.0</td>\n",
       "      <td>1973.335539</td>\n",
       "    </tr>\n",
       "    <tr>\n",
       "      <th>3</th>\n",
       "      <td>47</td>\n",
       "      <td>81</td>\n",
       "      <td>0.0</td>\n",
       "      <td>0.0</td>\n",
       "      <td>14354.9370</td>\n",
       "      <td>0</td>\n",
       "      <td>0.00</td>\n",
       "      <td>NaN</td>\n",
       "      <td>NaN</td>\n",
       "      <td>0.0</td>\n",
       "      <td>364.008556</td>\n",
       "    </tr>\n",
       "    <tr>\n",
       "      <th>4</th>\n",
       "      <td>74</td>\n",
       "      <td>81</td>\n",
       "      <td>0.0</td>\n",
       "      <td>0.0</td>\n",
       "      <td>91511.7691</td>\n",
       "      <td>0</td>\n",
       "      <td>0.00</td>\n",
       "      <td>NaN</td>\n",
       "      <td>NaN</td>\n",
       "      <td>0.0</td>\n",
       "      <td>6651.416562</td>\n",
       "    </tr>\n",
       "  </tbody>\n",
       "</table>\n",
       "</div>"
      ],
      "text/plain": [
       "   возраст  длит_отн  кредиты  депозиты       счета  кол-во_трат  сумма_трат  \\\n",
       "0       71       103      0.0       0.0      0.0000            0        0.00   \n",
       "1       49        81      0.0       0.0   3272.9367            0        0.00   \n",
       "2       56        81      0.0       0.0   6249.7550            6     5128.02   \n",
       "3       47        81      0.0       0.0  14354.9370            0        0.00   \n",
       "4       74        81      0.0       0.0  91511.7691            0        0.00   \n",
       "\n",
       "   ср_транзакц  транзакц_к_балансу  доход_клиент  чист_доход_бизнес  \n",
       "0          NaN                 NaN           0.0                NaN  \n",
       "1          NaN                 NaN           0.0          28.762952  \n",
       "2       854.67            0.083467           0.0        1973.335539  \n",
       "3          NaN                 NaN           0.0         364.008556  \n",
       "4          NaN                 NaN           0.0        6651.416562  "
      ]
     },
     "execution_count": 662,
     "metadata": {},
     "output_type": "execute_result"
    }
   ],
   "source": [
    "data_parameters.columns = ['возраст', 'длит_отн', \n",
    "                         'кредиты', 'депозиты', 'счета',\n",
    "                         'кол-во_трат', 'сумма_трат', 'ср_транзакц', 'транзакц_к_балансу',\n",
    "                         'доход_клиент', 'чист_доход_бизнес']                           \n",
    "\n",
    "data_parameters.head()"
   ]
  },
  {
   "cell_type": "markdown",
   "metadata": {},
   "source": [
    "Построим таблицу корреляции между значениями таблицы"
   ]
  },
  {
   "cell_type": "code",
   "execution_count": 663,
   "metadata": {},
   "outputs": [
    {
     "data": {
      "text/html": [
       "<div>\n",
       "<style scoped>\n",
       "    .dataframe tbody tr th:only-of-type {\n",
       "        vertical-align: middle;\n",
       "    }\n",
       "\n",
       "    .dataframe tbody tr th {\n",
       "        vertical-align: top;\n",
       "    }\n",
       "\n",
       "    .dataframe thead th {\n",
       "        text-align: right;\n",
       "    }\n",
       "</style>\n",
       "<table border=\"1\" class=\"dataframe\">\n",
       "  <thead>\n",
       "    <tr style=\"text-align: right;\">\n",
       "      <th></th>\n",
       "      <th>возраст</th>\n",
       "      <th>длит_отн</th>\n",
       "      <th>кредиты</th>\n",
       "      <th>депозиты</th>\n",
       "      <th>счета</th>\n",
       "      <th>кол-во_трат</th>\n",
       "      <th>сумма_трат</th>\n",
       "      <th>ср_транзакц</th>\n",
       "      <th>транзакц_к_балансу</th>\n",
       "      <th>доход_клиент</th>\n",
       "      <th>чист_доход_бизнес</th>\n",
       "    </tr>\n",
       "  </thead>\n",
       "  <tbody>\n",
       "    <tr>\n",
       "      <th>возраст</th>\n",
       "      <td>1.000000</td>\n",
       "      <td>0.278054</td>\n",
       "      <td>0.010089</td>\n",
       "      <td>0.049816</td>\n",
       "      <td>0.026662</td>\n",
       "      <td>-0.117831</td>\n",
       "      <td>0.030467</td>\n",
       "      <td>0.103702</td>\n",
       "      <td>0.000874</td>\n",
       "      <td>0.009501</td>\n",
       "      <td>0.061652</td>\n",
       "    </tr>\n",
       "    <tr>\n",
       "      <th>длит_отн</th>\n",
       "      <td>0.278054</td>\n",
       "      <td>1.000000</td>\n",
       "      <td>0.130793</td>\n",
       "      <td>0.013942</td>\n",
       "      <td>0.011652</td>\n",
       "      <td>0.066793</td>\n",
       "      <td>0.114760</td>\n",
       "      <td>0.032694</td>\n",
       "      <td>-0.005283</td>\n",
       "      <td>0.010590</td>\n",
       "      <td>0.110468</td>\n",
       "    </tr>\n",
       "    <tr>\n",
       "      <th>кредиты</th>\n",
       "      <td>0.010089</td>\n",
       "      <td>0.130793</td>\n",
       "      <td>1.000000</td>\n",
       "      <td>-0.011184</td>\n",
       "      <td>-0.005755</td>\n",
       "      <td>0.046443</td>\n",
       "      <td>0.069511</td>\n",
       "      <td>0.041081</td>\n",
       "      <td>0.001041</td>\n",
       "      <td>0.022894</td>\n",
       "      <td>0.369048</td>\n",
       "    </tr>\n",
       "    <tr>\n",
       "      <th>депозиты</th>\n",
       "      <td>0.049816</td>\n",
       "      <td>0.013942</td>\n",
       "      <td>-0.011184</td>\n",
       "      <td>1.000000</td>\n",
       "      <td>0.664374</td>\n",
       "      <td>-0.002064</td>\n",
       "      <td>0.080089</td>\n",
       "      <td>0.046300</td>\n",
       "      <td>0.000233</td>\n",
       "      <td>0.002912</td>\n",
       "      <td>0.574840</td>\n",
       "    </tr>\n",
       "    <tr>\n",
       "      <th>счета</th>\n",
       "      <td>0.026662</td>\n",
       "      <td>0.011652</td>\n",
       "      <td>-0.005755</td>\n",
       "      <td>0.664374</td>\n",
       "      <td>1.000000</td>\n",
       "      <td>0.029803</td>\n",
       "      <td>0.181761</td>\n",
       "      <td>0.054488</td>\n",
       "      <td>-0.000507</td>\n",
       "      <td>0.008149</td>\n",
       "      <td>0.769900</td>\n",
       "    </tr>\n",
       "    <tr>\n",
       "      <th>кол-во_трат</th>\n",
       "      <td>-0.117831</td>\n",
       "      <td>0.066793</td>\n",
       "      <td>0.046443</td>\n",
       "      <td>-0.002064</td>\n",
       "      <td>0.029803</td>\n",
       "      <td>1.000000</td>\n",
       "      <td>0.477702</td>\n",
       "      <td>-0.147866</td>\n",
       "      <td>-0.008283</td>\n",
       "      <td>0.038162</td>\n",
       "      <td>0.057230</td>\n",
       "    </tr>\n",
       "    <tr>\n",
       "      <th>сумма_трат</th>\n",
       "      <td>0.030467</td>\n",
       "      <td>0.114760</td>\n",
       "      <td>0.069511</td>\n",
       "      <td>0.080089</td>\n",
       "      <td>0.181761</td>\n",
       "      <td>0.477702</td>\n",
       "      <td>1.000000</td>\n",
       "      <td>0.158789</td>\n",
       "      <td>-0.003323</td>\n",
       "      <td>0.057160</td>\n",
       "      <td>0.263217</td>\n",
       "    </tr>\n",
       "    <tr>\n",
       "      <th>ср_транзакц</th>\n",
       "      <td>0.103702</td>\n",
       "      <td>0.032694</td>\n",
       "      <td>0.041081</td>\n",
       "      <td>0.046300</td>\n",
       "      <td>0.054488</td>\n",
       "      <td>-0.147866</td>\n",
       "      <td>0.158789</td>\n",
       "      <td>1.000000</td>\n",
       "      <td>0.019519</td>\n",
       "      <td>0.054947</td>\n",
       "      <td>0.086635</td>\n",
       "    </tr>\n",
       "    <tr>\n",
       "      <th>транзакц_к_балансу</th>\n",
       "      <td>0.000874</td>\n",
       "      <td>-0.005283</td>\n",
       "      <td>0.001041</td>\n",
       "      <td>0.000233</td>\n",
       "      <td>-0.000507</td>\n",
       "      <td>-0.008283</td>\n",
       "      <td>-0.003323</td>\n",
       "      <td>0.019519</td>\n",
       "      <td>1.000000</td>\n",
       "      <td>-0.004796</td>\n",
       "      <td>0.003607</td>\n",
       "    </tr>\n",
       "    <tr>\n",
       "      <th>доход_клиент</th>\n",
       "      <td>0.009501</td>\n",
       "      <td>0.010590</td>\n",
       "      <td>0.022894</td>\n",
       "      <td>0.002912</td>\n",
       "      <td>0.008149</td>\n",
       "      <td>0.038162</td>\n",
       "      <td>0.057160</td>\n",
       "      <td>0.054947</td>\n",
       "      <td>-0.004796</td>\n",
       "      <td>1.000000</td>\n",
       "      <td>0.026677</td>\n",
       "    </tr>\n",
       "    <tr>\n",
       "      <th>чист_доход_бизнес</th>\n",
       "      <td>0.061652</td>\n",
       "      <td>0.110468</td>\n",
       "      <td>0.369048</td>\n",
       "      <td>0.574840</td>\n",
       "      <td>0.769900</td>\n",
       "      <td>0.057230</td>\n",
       "      <td>0.263217</td>\n",
       "      <td>0.086635</td>\n",
       "      <td>0.003607</td>\n",
       "      <td>0.026677</td>\n",
       "      <td>1.000000</td>\n",
       "    </tr>\n",
       "  </tbody>\n",
       "</table>\n",
       "</div>"
      ],
      "text/plain": [
       "                     возраст  длит_отн   кредиты  депозиты     счета  \\\n",
       "возраст             1.000000  0.278054  0.010089  0.049816  0.026662   \n",
       "длит_отн            0.278054  1.000000  0.130793  0.013942  0.011652   \n",
       "кредиты             0.010089  0.130793  1.000000 -0.011184 -0.005755   \n",
       "депозиты            0.049816  0.013942 -0.011184  1.000000  0.664374   \n",
       "счета               0.026662  0.011652 -0.005755  0.664374  1.000000   \n",
       "кол-во_трат        -0.117831  0.066793  0.046443 -0.002064  0.029803   \n",
       "сумма_трат          0.030467  0.114760  0.069511  0.080089  0.181761   \n",
       "ср_транзакц         0.103702  0.032694  0.041081  0.046300  0.054488   \n",
       "транзакц_к_балансу  0.000874 -0.005283  0.001041  0.000233 -0.000507   \n",
       "доход_клиент        0.009501  0.010590  0.022894  0.002912  0.008149   \n",
       "чист_доход_бизнес   0.061652  0.110468  0.369048  0.574840  0.769900   \n",
       "\n",
       "                    кол-во_трат  сумма_трат  ср_транзакц  транзакц_к_балансу  \\\n",
       "возраст               -0.117831    0.030467     0.103702            0.000874   \n",
       "длит_отн               0.066793    0.114760     0.032694           -0.005283   \n",
       "кредиты                0.046443    0.069511     0.041081            0.001041   \n",
       "депозиты              -0.002064    0.080089     0.046300            0.000233   \n",
       "счета                  0.029803    0.181761     0.054488           -0.000507   \n",
       "кол-во_трат            1.000000    0.477702    -0.147866           -0.008283   \n",
       "сумма_трат             0.477702    1.000000     0.158789           -0.003323   \n",
       "ср_транзакц           -0.147866    0.158789     1.000000            0.019519   \n",
       "транзакц_к_балансу    -0.008283   -0.003323     0.019519            1.000000   \n",
       "доход_клиент           0.038162    0.057160     0.054947           -0.004796   \n",
       "чист_доход_бизнес      0.057230    0.263217     0.086635            0.003607   \n",
       "\n",
       "                    доход_клиент  чист_доход_бизнес  \n",
       "возраст                 0.009501           0.061652  \n",
       "длит_отн                0.010590           0.110468  \n",
       "кредиты                 0.022894           0.369048  \n",
       "депозиты                0.002912           0.574840  \n",
       "счета                   0.008149           0.769900  \n",
       "кол-во_трат             0.038162           0.057230  \n",
       "сумма_трат              0.057160           0.263217  \n",
       "ср_транзакц             0.054947           0.086635  \n",
       "транзакц_к_балансу     -0.004796           0.003607  \n",
       "доход_клиент            1.000000           0.026677  \n",
       "чист_доход_бизнес       0.026677           1.000000  "
      ]
     },
     "execution_count": 663,
     "metadata": {},
     "output_type": "execute_result"
    }
   ],
   "source": [
    "corr = data_parameters.corr()\n",
    "corr"
   ]
  },
  {
   "cell_type": "markdown",
   "metadata": {},
   "source": [
    "Отобразим корреляцию на тепловой карте"
   ]
  },
  {
   "cell_type": "code",
   "execution_count": 664,
   "metadata": {},
   "outputs": [
    {
     "data": {
      "image/png": "[encoded data removed]",
      "text/plain": [
       "<Figure size 720x576 with 2 Axes>"
      ]
     },
     "metadata": {},
     "output_type": "display_data"
    }
   ],
   "source": [
    "fig, ax = plt.subplots(figsize=(10,8)) \n",
    "\n",
    "sns.heatmap(corr, annot=True, square = True, fmt='.2f',linewidths=.5, cmap=\"Blues\", vmax= 0.7, vmin=0, ax=ax);"
   ]
  },
  {
   "cell_type": "markdown",
   "metadata": {},
   "source": [
    "***Выводы***\n",
    "\n",
    "Высокая корреляция (больше 0.7) между: \n",
    "- суммой на счёте и чистым доходом от клиента (0.77)\n",
    "\n",
    "Средняя корреляция (от 0.5 до 0.7) между: \n",
    "- суммой на счете и депозите (0.66),\n",
    "- депозитом и чистым доходом от клиента (0.57),\n",
    "- кол-вом и суммой трат (0.48)\n",
    "\n",
    "Слабая корреляция (от 0.3 до 0.5) между:\n",
    "- суммой кредита и чистым доходом от клиента (0.37),\n",
    "- возрастом и длительностью взаимоотношений с банком (0.28),\n",
    "- суммой трат и чистым доходом от клиента (0.26).\n",
    "\n",
    "Между остальными признаками корреляция очень слабая (от 0 до 0.3).\n"
   ]
  },
  {
   "cell_type": "markdown",
   "metadata": {},
   "source": [
    "**Мужчины vs Женщины**"
   ]
  },
  {
   "cell_type": "markdown",
   "metadata": {},
   "source": [
    "Посмотрим, как отличаются данные в зависимости от пола клиента."
   ]
  },
  {
   "cell_type": "code",
   "execution_count": 665,
   "metadata": {},
   "outputs": [
    {
     "data": {
      "text/html": [
       "<div>\n",
       "<style scoped>\n",
       "    .dataframe tbody tr th:only-of-type {\n",
       "        vertical-align: middle;\n",
       "    }\n",
       "\n",
       "    .dataframe tbody tr th {\n",
       "        vertical-align: top;\n",
       "    }\n",
       "\n",
       "    .dataframe thead th {\n",
       "        text-align: right;\n",
       "    }\n",
       "</style>\n",
       "<table border=\"1\" class=\"dataframe\">\n",
       "  <thead>\n",
       "    <tr style=\"text-align: right;\">\n",
       "      <th></th>\n",
       "      <th>gender</th>\n",
       "      <th>age</th>\n",
       "      <th>full_mob</th>\n",
       "      <th>loan_balance_0m</th>\n",
       "      <th>td_balance_0m</th>\n",
       "      <th>casa_balance_0m</th>\n",
       "      <th>dc_trx_cnt</th>\n",
       "      <th>dc_trx_sum</th>\n",
       "      <th>Avg_trx</th>\n",
       "      <th>avgtrx_to_balance</th>\n",
       "      <th>income</th>\n",
       "      <th>nbi</th>\n",
       "    </tr>\n",
       "  </thead>\n",
       "  <tbody>\n",
       "    <tr>\n",
       "      <th>5</th>\n",
       "      <td>М</td>\n",
       "      <td>72</td>\n",
       "      <td>50</td>\n",
       "      <td>0.00</td>\n",
       "      <td>0.0</td>\n",
       "      <td>93690.801</td>\n",
       "      <td>0</td>\n",
       "      <td>0.00</td>\n",
       "      <td>NaN</td>\n",
       "      <td>NaN</td>\n",
       "      <td>0.0</td>\n",
       "      <td>2433.644326</td>\n",
       "    </tr>\n",
       "    <tr>\n",
       "      <th>9</th>\n",
       "      <td>М</td>\n",
       "      <td>36</td>\n",
       "      <td>154</td>\n",
       "      <td>32413.52</td>\n",
       "      <td>0.0</td>\n",
       "      <td>0.000</td>\n",
       "      <td>83</td>\n",
       "      <td>324947.73</td>\n",
       "      <td>3915.032892</td>\n",
       "      <td>4.383411</td>\n",
       "      <td>22100.0</td>\n",
       "      <td>6065.052515</td>\n",
       "    </tr>\n",
       "  </tbody>\n",
       "</table>\n",
       "</div>"
      ],
      "text/plain": [
       "  gender  age  full_mob  loan_balance_0m  td_balance_0m  casa_balance_0m  \\\n",
       "5      М   72        50             0.00            0.0        93690.801   \n",
       "9      М   36       154         32413.52            0.0            0.000   \n",
       "\n",
       "   dc_trx_cnt  dc_trx_sum      Avg_trx  avgtrx_to_balance   income  \\\n",
       "5           0        0.00          NaN                NaN      0.0   \n",
       "9          83   324947.73  3915.032892           4.383411  22100.0   \n",
       "\n",
       "           nbi  \n",
       "5  2433.644326  \n",
       "9  6065.052515  "
      ]
     },
     "execution_count": 665,
     "metadata": {},
     "output_type": "execute_result"
    }
   ],
   "source": [
    "# ещё раз выделим нужные параметры в отдельный список, добавим к нему пол\n",
    "\n",
    "parameters2 = ['gender', 'age', 'full_mob',\n",
    "            'loan_balance_0m', 'td_balance_0m', 'casa_balance_0m',\n",
    "             'dc_trx_cnt', 'dc_trx_sum', 'Avg_trx', 'avgtrx_to_balance',\n",
    "             'income', 'nbi']\n",
    "\n",
    "data_parameters2 = data_client[data_client['gender'].notnull()][parameters2]\n",
    "data_parameters2.head(2)"
   ]
  },
  {
   "cell_type": "markdown",
   "metadata": {},
   "source": [
    "Чтобы пропуски не мешали смотреть на данные, удалим их"
   ]
  },
  {
   "cell_type": "code",
   "execution_count": 666,
   "metadata": {},
   "outputs": [
    {
     "data": {
      "text/plain": [
       "gender                   0\n",
       "age                      0\n",
       "full_mob                 0\n",
       "loan_balance_0m          0\n",
       "td_balance_0m            0\n",
       "casa_balance_0m          0\n",
       "dc_trx_cnt               0\n",
       "dc_trx_sum               0\n",
       "Avg_trx              17694\n",
       "avgtrx_to_balance    18303\n",
       "income                   0\n",
       "nbi                   2342\n",
       "dtype: int64"
      ]
     },
     "execution_count": 666,
     "metadata": {},
     "output_type": "execute_result"
    }
   ],
   "source": [
    "data_parameters2.isnull().sum()"
   ]
  },
  {
   "cell_type": "code",
   "execution_count": 667,
   "metadata": {},
   "outputs": [
    {
     "data": {
      "text/plain": [
       "gender               0\n",
       "age                  0\n",
       "full_mob             0\n",
       "loan_balance_0m      0\n",
       "td_balance_0m        0\n",
       "casa_balance_0m      0\n",
       "dc_trx_cnt           0\n",
       "dc_trx_sum           0\n",
       "Avg_trx              0\n",
       "avgtrx_to_balance    0\n",
       "income               0\n",
       "nbi                  0\n",
       "dtype: int64"
      ]
     },
     "execution_count": 667,
     "metadata": {},
     "output_type": "execute_result"
    }
   ],
   "source": [
    "# удаляем пропущенные значения\n",
    "\n",
    "data_parameters2.dropna(subset = ['Avg_trx', 'avgtrx_to_balance', 'nbi'], inplace = True) \n",
    "\n",
    "# проверяем\n",
    "\n",
    "data_parameters2.isnull().sum()"
   ]
  },
  {
   "cell_type": "markdown",
   "metadata": {},
   "source": [
    "Переименуем колонки"
   ]
  },
  {
   "cell_type": "code",
   "execution_count": 668,
   "metadata": {},
   "outputs": [
    {
     "data": {
      "text/html": [
       "<div>\n",
       "<style scoped>\n",
       "    .dataframe tbody tr th:only-of-type {\n",
       "        vertical-align: middle;\n",
       "    }\n",
       "\n",
       "    .dataframe tbody tr th {\n",
       "        vertical-align: top;\n",
       "    }\n",
       "\n",
       "    .dataframe thead th {\n",
       "        text-align: right;\n",
       "    }\n",
       "</style>\n",
       "<table border=\"1\" class=\"dataframe\">\n",
       "  <thead>\n",
       "    <tr style=\"text-align: right;\">\n",
       "      <th></th>\n",
       "      <th>пол</th>\n",
       "      <th>возраст</th>\n",
       "      <th>длит_отн</th>\n",
       "      <th>кредиты</th>\n",
       "      <th>депозиты</th>\n",
       "      <th>счета</th>\n",
       "      <th>кол-во_трат</th>\n",
       "      <th>сумма_трат</th>\n",
       "      <th>ср_транзакц</th>\n",
       "      <th>транзакц_к_балансу</th>\n",
       "      <th>доход_клиент</th>\n",
       "      <th>чист_доход_бизнес</th>\n",
       "    </tr>\n",
       "  </thead>\n",
       "  <tbody>\n",
       "    <tr>\n",
       "      <th>9</th>\n",
       "      <td>М</td>\n",
       "      <td>36</td>\n",
       "      <td>154</td>\n",
       "      <td>32413.52</td>\n",
       "      <td>0.0</td>\n",
       "      <td>0.00</td>\n",
       "      <td>83</td>\n",
       "      <td>324947.73</td>\n",
       "      <td>3915.032892</td>\n",
       "      <td>4.383411</td>\n",
       "      <td>22100.00</td>\n",
       "      <td>6065.052515</td>\n",
       "    </tr>\n",
       "    <tr>\n",
       "      <th>10</th>\n",
       "      <td>F</td>\n",
       "      <td>56</td>\n",
       "      <td>165</td>\n",
       "      <td>61189.99</td>\n",
       "      <td>70000.0</td>\n",
       "      <td>1524.58</td>\n",
       "      <td>341</td>\n",
       "      <td>451481.51</td>\n",
       "      <td>1323.992698</td>\n",
       "      <td>0.226536</td>\n",
       "      <td>36694.37</td>\n",
       "      <td>8009.940315</td>\n",
       "    </tr>\n",
       "  </tbody>\n",
       "</table>\n",
       "</div>"
      ],
      "text/plain": [
       "   пол  возраст  длит_отн   кредиты  депозиты    счета  кол-во_трат  \\\n",
       "9    М       36       154  32413.52       0.0     0.00           83   \n",
       "10   F       56       165  61189.99   70000.0  1524.58          341   \n",
       "\n",
       "    сумма_трат  ср_транзакц  транзакц_к_балансу  доход_клиент  \\\n",
       "9    324947.73  3915.032892            4.383411      22100.00   \n",
       "10   451481.51  1323.992698            0.226536      36694.37   \n",
       "\n",
       "    чист_доход_бизнес  \n",
       "9         6065.052515  \n",
       "10        8009.940315  "
      ]
     },
     "execution_count": 668,
     "metadata": {},
     "output_type": "execute_result"
    }
   ],
   "source": [
    "data_parameters2.columns = ['пол', 'возраст', 'длит_отн', \n",
    "                         'кредиты', 'депозиты', 'счета',\n",
    "                         'кол-во_трат', 'сумма_трат', 'ср_транзакц', 'транзакц_к_балансу',\n",
    "                         'доход_клиент', 'чист_доход_бизнес']       \n",
    "data_parameters2.head(2)"
   ]
  },
  {
   "cell_type": "markdown",
   "metadata": {},
   "source": [
    "Построим графики с зависимостью данных о клиенте от его пола"
   ]
  },
  {
   "cell_type": "code",
   "execution_count": 669,
   "metadata": {
    "scrolled": false
   },
   "outputs": [
    {
     "name": "stdout",
     "output_type": "stream",
     "text": [
      "Данные: возраст\n"
     ]
    },
    {
     "data": {
      "image/png": "[encoded data removed]",
      "text/plain": [
       "<Figure size 1080x144 with 2 Axes>"
      ]
     },
     "metadata": {},
     "output_type": "display_data"
    },
    {
     "name": "stdout",
     "output_type": "stream",
     "text": [
      "Данные: длит_отн\n"
     ]
    },
    {
     "data": {
      "image/png": "[encoded data removed]",
      "text/plain": [
       "<Figure size 1080x144 with 2 Axes>"
      ]
     },
     "metadata": {},
     "output_type": "display_data"
    },
    {
     "name": "stdout",
     "output_type": "stream",
     "text": [
      "Данные: кредиты\n"
     ]
    },
    {
     "data": {
      "image/png": "[encoded data removed]",
      "text/plain": [
       "<Figure size 1080x144 with 2 Axes>"
      ]
     },
     "metadata": {},
     "output_type": "display_data"
    },
    {
     "name": "stdout",
     "output_type": "stream",
     "text": [
      "Данные: депозиты\n"
     ]
    },
    {
     "data": {
      "image/png": "[encoded data removed]",
      "text/plain": [
       "<Figure size 1080x144 with 2 Axes>"
      ]
     },
     "metadata": {},
     "output_type": "display_data"
    },
    {
     "name": "stdout",
     "output_type": "stream",
     "text": [
      "Данные: счета\n"
     ]
    },
    {
     "data": {
      "image/png": "[encoded data removed]",
      "text/plain": [
       "<Figure size 1080x144 with 2 Axes>"
      ]
     },
     "metadata": {},
     "output_type": "display_data"
    },
    {
     "name": "stdout",
     "output_type": "stream",
     "text": [
      "Данные: кол-во_трат\n"
     ]
    },
    {
     "data": {
      "image/png": "[encoded data removed]",
      "text/plain": [
       "<Figure size 1080x144 with 2 Axes>"
      ]
     },
     "metadata": {},
     "output_type": "display_data"
    },
    {
     "name": "stdout",
     "output_type": "stream",
     "text": [
      "Данные: сумма_трат\n"
     ]
    },
    {
     "data": {
      "image/png": "[encoded data removed]",
      "text/plain": [
       "<Figure size 1080x144 with 2 Axes>"
      ]
     },
     "metadata": {},
     "output_type": "display_data"
    },
    {
     "name": "stdout",
     "output_type": "stream",
     "text": [
      "Данные: ср_транзакц\n"
     ]
    },
    {
     "data": {
      "image/png": "[encoded data removed]",
      "text/plain": [
       "<Figure size 1080x144 with 2 Axes>"
      ]
     },
     "metadata": {},
     "output_type": "display_data"
    },
    {
     "name": "stdout",
     "output_type": "stream",
     "text": [
      "Данные: транзакц_к_балансу\n"
     ]
    },
    {
     "data": {
      "image/png": "[encoded data removed]",
      "text/plain": [
       "<Figure size 1080x144 with 2 Axes>"
      ]
     },
     "metadata": {},
     "output_type": "display_data"
    },
    {
     "name": "stdout",
     "output_type": "stream",
     "text": [
      "Данные: доход_клиент\n"
     ]
    },
    {
     "data": {
      "image/png": "[encoded data removed]",
      "text/plain": [
       "<Figure size 1080x144 with 2 Axes>"
      ]
     },
     "metadata": {},
     "output_type": "display_data"
    },
    {
     "name": "stdout",
     "output_type": "stream",
     "text": [
      "Данные: чист_доход_бизнес\n"
     ]
    },
    {
     "data": {
      "image/png": "[encoded data removed]",
      "text/plain": [
       "<Figure size 1080x144 with 2 Axes>"
      ]
     },
     "metadata": {},
     "output_type": "display_data"
    }
   ],
   "source": [
    "# возьмём созданный ранее список c полями датасета, исключив из него \"пол\"\n",
    "parameters_bin = ['возраст', 'длит_отн', \n",
    "                  'кредиты', 'депозиты', 'счета',\n",
    "                  'кол-во_трат', 'сумма_трат', 'ср_транзакц', 'транзакц_к_балансу',\n",
    "                  'доход_клиент', 'чист_доход_бизнес']  \n",
    "\n",
    "# посмотрим на распределения значений данных из списка в виде distplot\n",
    "\n",
    "for param in parameters_bin:\n",
    "    # создали список с номерами 5 кластеров по возрастанию\n",
    "    client_cls = data_parameters2['пол'].sort_values().unique() \n",
    "    \n",
    "    # создали для каждого признака свою строку с 5-ю колонками\n",
    "    fig, axes = plt.subplots(nrows = 1, ncols = 2, figsize=(15, 2)) \n",
    "    \n",
    "    # выводим название признака\n",
    "    print('Данные: ' + param)\n",
    "    \n",
    "    # перебираем в цикле все признаки, при этом для каждого кластера строим отдельный график\n",
    "    for client_cl, ax in zip(client_cls, axes.flat):\n",
    "        sns.distplot(data_parameters2[data_parameters2['пол'] == client_cl][param], bins=30, hist_kws=dict(alpha=0.7),\n",
    "                      axlabel=client_cl, ax = ax, kde=False);\n",
    "        \n",
    "    plt.show();"
   ]
  },
  {
   "cell_type": "markdown",
   "metadata": {},
   "source": [
    "***Выводы***\n",
    "\n",
    "Существенного отличия между банковскими данными мужчин и женщин ***не выявлено***, разве что максимальная сумма трат и дохода у мужчин значительно выше, но это уже статистические выбросы.\n"
   ]
  }
 ],
 "metadata": {
  "kernelspec": {
   "display_name": "Python 3",
   "language": "python",
   "name": "python3"
  },
  "language_info": {
   "codemirror_mode": {
    "name": "ipython",
    "version": 3
   },
   "file_extension": ".py",
   "mimetype": "text/x-python",
   "name": "python",
   "nbconvert_exporter": "python",
   "pygments_lexer": "ipython3",
   "version": "3.7.6"
  }
 },
 "nbformat": 4,
 "nbformat_minor": 4
}
